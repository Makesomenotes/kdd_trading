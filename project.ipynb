{
 "cells": [
  {
   "cell_type": "markdown",
   "metadata": {},
   "source": [
    "# Проект в рамках курса \"Интерпретируемый ИИ и майнинг данных\"\n",
    "---\n",
    "\n",
    "Проект выполнили: Хабибуллин Булат,\tТолстов Евгений,\tГрицких Максим,\tАнтон Сорока,\tАнастасия Глушкова, Александр Герасимов,\tФилиппов Иван"
   ]
  },
  {
   "cell_type": "markdown",
   "metadata": {},
   "source": [
    "## Первая часть проекта (работа с табличными данными):\n",
    "Описание: "
   ]
  },
  {
   "cell_type": "markdown",
   "metadata": {},
   "source": [
    "### 1. Поиск причинно-следственных связей:"
   ]
  },
  {
   "cell_type": "markdown",
   "metadata": {},
   "source": [
    "1.1 Рассмотреть модель на основе ваших предположений (ориентированных граф без циклов), словами описать, какие зависимости вы рассматривали. Изобразить граф, который вы рассматривали."
   ]
  },
  {
   "cell_type": "code",
   "execution_count": null,
   "metadata": {},
   "outputs": [],
   "source": [
    "data_groups = pd.read_csv('data/S&P500-Info.csv', index_col=0)\n",
    "merged = data.merge(data_groups[['Symbol', 'GICS Sector']], left_index=True, right_on='Symbol')\n",
    "data_normalized = merged.drop('Symbol', axis=1).drop(['regression_target', 'SP_target'], axis=1)\n",
    "target_reg = merged.regression_target\n",
    "target_class = merged.SP_target * 1\n",
    "data_normalized = data_normalized.groupby('GICS Sector').transform(lambda x: (x - x.mean()) / x.std())\n",
    "data_normalized['binary_target'] =  target_class"
   ]
  },
  {
   "cell_type": "code",
   "execution_count": null,
   "metadata": {},
   "outputs": [],
   "source": [
    "# Граф с дополнительными ветвями. Не работает пока что\n",
    "# causal_graph = \"\"\"digraph {\n",
    "# debt_to_equity;\n",
    "# current_ratio;\n",
    "# cash_ratio;\n",
    "# return_on_assets;\n",
    "# eps;\n",
    "# price_to_casflow;\n",
    "# shareholder_equity;\n",
    "# interest_coverage;\n",
    "# net_profit_margin;\n",
    "# A[label=\"Assets\"];\n",
    "# E[label=\"Equity\"];\n",
    "# D[label=\"Debts\"];\n",
    "# R[label=\"Revenue\"];\n",
    "# M[label=\"Market cap\"];\n",
    "# binary_target[label=\"target\"];\n",
    "# debt_to_equity->binary_target;\n",
    "# current_ratio->binary_target;\n",
    "# cash_ratio->binary_target;\n",
    "# return_on_assets->binary_target;\n",
    "# eps->binary_target;\n",
    "# price_to_casflow->binary_target;\n",
    "# shareholder_equity->binary_target;\n",
    "# interest_coverage->binary_target;\n",
    "# net_profit_margin->binary_target;\n",
    "# M->price_to_casflow;\n",
    "# R->net_profit_margin;\n",
    "# R->eps;\n",
    "# A->return_on_assets;\n",
    "# A->cash_ratio;\n",
    "# A->current_ratio;\n",
    "# A->D;\n",
    "# A->E;\n",
    "# E->shareholder_equity;\n",
    "# E->debt_to_equity;\n",
    "# D->current_ratio;\n",
    "# D->shareholder_equity;\n",
    "# D->debt_to_equity;\n",
    "# }\"\"\""
   ]
  },
  {
   "cell_type": "code",
   "execution_count": null,
   "metadata": {},
   "outputs": [],
   "source": [
    "# Граф со склеиными вершинами\n",
    "causal_graph = \"\"\"digraph {\n",
    "debt_to_equity;\n",
    "current_ratio;\n",
    "cash_ratio;\n",
    "return_on_assets;\n",
    "eps;\n",
    "price_to_casflow;\n",
    "shareholder_equity;\n",
    "interest_coverage;\n",
    "net_profit_margin;\n",
    "binary_target[label=\"target\"]\n",
    "debt_to_equity->binary_target;\n",
    "current_ratio->binary_target;\n",
    "cash_ratio->binary_target;\n",
    "return_on_assets->binary_target;\n",
    "eps->binary_target;\n",
    "price_to_casflow->binary_target;\n",
    "shareholder_equity->binary_target;\n",
    "interest_coverage->binary_target;\n",
    "net_profit_margin->binary_target;\n",
    "net_profit_margin->eps;\n",
    "return_on_assets->cash_ratio;\n",
    "cash_ratio->current_ratio;\n",
    "current_ratio->shareholder_equity;\n",
    "shareholder_equity->debt_to_equity;\n",
    "}\"\"\""
   ]
  },
  {
   "cell_type": "code",
   "execution_count": null,
   "metadata": {},
   "outputs": [],
   "source": [
    "model= dowhy.CausalModel(\n",
    "        data = data_normalized,\n",
    "        graph=causal_graph.replace(\"\\n\", \" \"),\n",
    "        treatment='eps',\n",
    "        outcome='binary_target')\n",
    "model.view_model()\n",
    "from IPython.display import Image, display\n",
    "display(Image(filename=\"causal_model.png\"))"
   ]
  },
  {
   "cell_type": "code",
   "execution_count": null,
   "metadata": {},
   "outputs": [],
   "source": [
    "import statsmodels\n",
    "model= dowhy.CausalModel(\n",
    "        data = data_normalized,\n",
    "        graph=causal_graph.replace(\"\\n\", \" \"),\n",
    "        treatment=\"eps\",\n",
    "        outcome='binary_target')\n",
    "#Identify the causal effect\n",
    "identified_estimand = model.identify_effect(proceed_when_unidentifiable=True)\n",
    "print(identified_estimand)"
   ]
  },
  {
   "cell_type": "code",
   "execution_count": null,
   "metadata": {},
   "outputs": [],
   "source": [
    "estimate = model.estimate_effect(identified_estimand, method_name=\"backdoor.linear_regression\",\n",
    "                                                        target_units=\"ate\")\n",
    "\n",
    "print(estimate)  # результат MSE примерно 0.11"
   ]
  },
  {
   "cell_type": "code",
   "execution_count": null,
   "metadata": {},
   "outputs": [],
   "source": []
  },
  {
   "cell_type": "markdown",
   "metadata": {},
   "source": [
    "1.2 Применить 3 любых “refutation” метода на ваш выбор и обосновать их выбор (какие цели вы преследовали, выбирая эти методы, что вы хотели проверить)"
   ]
  },
  {
   "cell_type": "code",
   "execution_count": null,
   "metadata": {},
   "outputs": [],
   "source": [
    "import pandas as pd\n",
    "from sklearn.model_selection import train_test_split\n",
    "import pygraphviz\n",
    "import dowhy\n",
    "from dowhy import CausalModel"
   ]
  },
  {
   "cell_type": "code",
   "execution_count": null,
   "metadata": {},
   "outputs": [],
   "source": [
    "data = pd.read_csv('data/financial_data.csv', index_col=0)\n",
    "data = data.drop(['price_to_sales', 'target'], axis=1)\n",
    "data = data.dropna()"
   ]
  },
  {
   "cell_type": "code",
   "execution_count": null,
   "metadata": {},
   "outputs": [],
   "source": [
    "data.head()"
   ]
  },
  {
   "cell_type": "code",
   "execution_count": null,
   "metadata": {},
   "outputs": [],
   "source": [
    "data_refutation = data.copy(deep=True)\n",
    "data_refutation['SP_target'].replace({0: False, 1: True}, inplace=True)"
   ]
  },
  {
   "cell_type": "code",
   "execution_count": null,
   "metadata": {},
   "outputs": [],
   "source": [
    "data_refutation.columns"
   ]
  },
  {
   "cell_type": "code",
   "execution_count": null,
   "metadata": {},
   "outputs": [],
   "source": [
    "xs = \"\"\n",
    "for i in [#'debt_to_equity',\n",
    "        'eps',\n",
    "        'current_ratio',\n",
    "        'cash_ratio',\n",
    "        'return_on_assets',\n",
    "        'price_to_casflow',\n",
    "        'shareholder_equity',\n",
    "        'interest_coverage',\n",
    "        'net_profit_margin']:\n",
    "    xs += (str(i)+\"+\")\n",
    "\n",
    "model=CausalModel(\n",
    "        data = data_refutation,\n",
    "        treatment='debt_to_equity',\n",
    "        outcome='regression_target',\n",
    "        common_causes=xs.split('+')\n",
    "        )\n",
    "\n",
    "model.view_model(layout=\"dot\")"
   ]
  },
  {
   "cell_type": "code",
   "execution_count": null,
   "metadata": {},
   "outputs": [],
   "source": [
    "xs"
   ]
  },
  {
   "cell_type": "code",
   "execution_count": null,
   "metadata": {},
   "outputs": [],
   "source": []
  },
  {
   "cell_type": "code",
   "execution_count": 44,
   "metadata": {},
   "outputs": [
    {
     "name": "stdout",
     "output_type": "stream",
     "text": [
      "Estimand type: nonparametric-ate\n",
      "\n",
      "### Estimand : 1\n",
      "Estimand name: backdoor\n",
      "Estimand expression:\n",
      "        d                                                                     \n",
      "─────────────────(Expectation(regression_target|shareholder_equity,interest_co\n",
      "d[debt_to_equity]                                                             \n",
      "\n",
      "                                                                              \n",
      "verage,return_on_assets,eps,price_to_casflow,cash_ratio,current_ratio,net_prof\n",
      "                                                                              \n",
      "\n",
      "           \n",
      "it_margin))\n",
      "           \n",
      "Estimand assumption 1, Unconfoundedness: If U→{debt_to_equity} and U→regression_target then P(regression_target|debt_to_equity,shareholder_equity,interest_coverage,return_on_assets,eps,price_to_casflow,cash_ratio,current_ratio,net_profit_margin,U) = P(regression_target|debt_to_equity,shareholder_equity,interest_coverage,return_on_assets,eps,price_to_casflow,cash_ratio,current_ratio,net_profit_margin)\n",
      "\n",
      "### Estimand : 2\n",
      "Estimand name: iv\n",
      "No such variable found!\n",
      "\n",
      "### Estimand : 3\n",
      "Estimand name: frontdoor\n",
      "No such variable found!\n",
      "\n"
     ]
    }
   ],
   "source": [
    "identified_estimand = model.identify_effect(proceed_when_unidentifiable=True)\n",
    "print(identified_estimand)"
   ]
  },
  {
   "cell_type": "code",
   "execution_count": 48,
   "metadata": {},
   "outputs": [
    {
     "name": "stdout",
     "output_type": "stream",
     "text": [
      "*** Causal Estimate ***\n",
      "\n",
      "## Identified estimand\n",
      "Estimand type: nonparametric-ate\n",
      "\n",
      "### Estimand : 1\n",
      "Estimand name: backdoor\n",
      "Estimand expression:\n",
      "        d                                                                     \n",
      "─────────────────(Expectation(regression_target|shareholder_equity,interest_co\n",
      "d[debt_to_equity]                                                             \n",
      "\n",
      "                                                                              \n",
      "verage,return_on_assets,eps,price_to_casflow,cash_ratio,current_ratio,net_prof\n",
      "                                                                              \n",
      "\n",
      "           \n",
      "it_margin))\n",
      "           \n",
      "Estimand assumption 1, Unconfoundedness: If U→{debt_to_equity} and U→regression_target then P(regression_target|debt_to_equity,shareholder_equity,interest_coverage,return_on_assets,eps,price_to_casflow,cash_ratio,current_ratio,net_profit_margin,U) = P(regression_target|debt_to_equity,shareholder_equity,interest_coverage,return_on_assets,eps,price_to_casflow,cash_ratio,current_ratio,net_profit_margin)\n",
      "\n",
      "## Realized estimand\n",
      "b: regression_target~debt_to_equity+shareholder_equity+interest_coverage+return_on_assets+eps+price_to_casflow+cash_ratio+current_ratio+net_profit_margin\n",
      "Target units: ate\n",
      "\n",
      "## Estimate\n",
      "Mean value: 0.00011886971130314894\n",
      "\n"
     ]
    }
   ],
   "source": [
    "estimate = model.estimate_effect(identified_estimand,\n",
    "                                 method_name=\"backdoor.linear_regression\", target_units=\"ate\")\n",
    "# ATE = Average Treatment Effect\n",
    "# ATT = Average Treatment Effect on Treated (i.e. those who were assigned a different room)\n",
    "# ATC = Average Treatment Effect on Control (i.e. those who were not assigned a different room)\n",
    "print(estimate)"
   ]
  },
  {
   "cell_type": "code",
   "execution_count": 46,
   "metadata": {},
   "outputs": [
    {
     "name": "stdout",
     "output_type": "stream",
     "text": [
      "Refute: Add a Random Common Cause\n",
      "Estimated effect:0.00011886971130314894\n",
      "New effect:7.811215864472754e-05\n",
      "\n"
     ]
    }
   ],
   "source": [
    "refute1_results=model.refute_estimate(identified_estimand, estimate,\n",
    "        method_name=\"random_common_cause\")\n",
    "print(refute1_results)"
   ]
  },
  {
   "cell_type": "markdown",
   "metadata": {},
   "source": [
    "### 2. Обучение моделей черного ящика:"
   ]
  },
  {
   "cell_type": "code",
   "execution_count": 1,
   "metadata": {},
   "outputs": [],
   "source": [
    "data_groups = pd.read_csv('data/S&P500-Info.csv', index_col=0)\n",
    "merged = data.merge(data_groups[['Symbol', 'GICS Sector']], left_index=True, right_on='Symbol')\n",
    "X = merged.drop('Symbol', axis=1).drop(['regression_target', 'SP_target'], axis=1)\n",
    "target_reg = merged.regression_target\n",
    "target_class = merged.SP_target * 1"
   ]
  },
  {
   "cell_type": "code",
   "execution_count": 5,
   "metadata": {},
   "outputs": [],
   "source": [
    "X_train_df, X_test_df, y_train_reg, y_test_reg = train_test_split(X, target_reg.values, test_size=0.3, random_state=42)\n",
    "_, _, y_train_class, y_test_class = train_test_split(X, target_class.values, test_size=0.3, random_state=42)"
   ]
  },
  {
   "cell_type": "code",
   "execution_count": 12,
   "metadata": {},
   "outputs": [],
   "source": [
    "X_train = X_train_df.groupby('GICS Sector').transform(lambda x: (x - x.mean()) / x.std())\n",
    "X_test_mean = X_test_df.merge(X_train_df.groupby('GICS Sector').mean(), left_on='GICS Sector', right_index=True)\n",
    "X_test_mean_std = X_test_mean.merge(X_train_df.groupby('GICS Sector').std(), left_on='GICS Sector', right_index=True)\n",
    "X_test_mean_std = X_test_mean_std.drop('GICS Sector', axis=1)\n",
    "X_test = (X_test_mean_std.iloc[:, :9].values - X_test_mean_std.iloc[:, 9:18].values)/X_test_mean_std.iloc[:, 18:].values"
   ]
  },
  {
   "cell_type": "markdown",
   "metadata": {},
   "source": [
    "# Regression "
   ]
  },
  {
   "cell_type": "markdown",
   "metadata": {},
   "source": [
    "#### LinearRegression"
   ]
  },
  {
   "cell_type": "code",
   "execution_count": null,
   "metadata": {},
   "outputs": [],
   "source": [
    "reg_model = LinearRegression()\n",
    "reg_model.fit(X_train, y_train_reg)\n",
    "pred = reg_model.predict(X_test)"
   ]
  },
  {
   "cell_type": "code",
   "execution_count": null,
   "metadata": {},
   "outputs": [
    {
     "name": "stdout",
     "output_type": "stream",
     "text": [
      "Train MSE: 0.028117\n",
      "Test MSE: 0.052553\n"
     ]
    }
   ],
   "source": [
    "print(f'Train MSE: {mean_squared_error(reg_model.predict(X_train), y_train_reg):.5}')\n",
    "print(f'Test MSE: {mean_squared_error(pred, y_test_reg):.5}')"
   ]
  },
  {
   "cell_type": "markdown",
   "metadata": {},
   "source": [
    "#### Ridge"
   ]
  },
  {
   "cell_type": "code",
   "execution_count": null,
   "metadata": {},
   "outputs": [],
   "source": [
    "ridge_model = Ridge(alpha=2.0, random_state=42)\n",
    "ridge_model.fit(X_train, y_train_reg)\n",
    "pred = ridge_model.predict(X_test)"
   ]
  },
  {
   "cell_type": "code",
   "execution_count": null,
   "metadata": {},
   "outputs": [
    {
     "name": "stdout",
     "output_type": "stream",
     "text": [
      "Train MSE: 0.028117\n",
      "Test MSE: 0.052999\n"
     ]
    }
   ],
   "source": [
    "print(f'Train MSE: {mean_squared_error(ridge_model.predict(X_train), y_train_reg):.5}')\n",
    "print(f'Test MSE: {mean_squared_error(pred, y_test_reg):.5}')"
   ]
  },
  {
   "cell_type": "markdown",
   "metadata": {},
   "source": [
    "#### Lasso"
   ]
  },
  {
   "cell_type": "code",
   "execution_count": null,
   "metadata": {},
   "outputs": [],
   "source": [
    "lasso_model = Lasso(alpha=2.0, random_state=42)\n",
    "lasso_model.fit(X_train, y_train_reg)\n",
    "pred = lasso_model.predict(X_test)"
   ]
  },
  {
   "cell_type": "code",
   "execution_count": null,
   "metadata": {},
   "outputs": [
    {
     "name": "stdout",
     "output_type": "stream",
     "text": [
      "Train MSE: 0.031893\n",
      "Test MSE: 0.031381\n"
     ]
    }
   ],
   "source": [
    "print(f'Train MSE: {mean_squared_error(lasso_model.predict(X_train), y_train_reg):.5}')\n",
    "print(f'Test MSE: {mean_squared_error(pred, y_test_reg):.5}')"
   ]
  },
  {
   "cell_type": "markdown",
   "metadata": {},
   "source": [
    "#### ElasticNet"
   ]
  },
  {
   "cell_type": "code",
   "execution_count": null,
   "metadata": {},
   "outputs": [],
   "source": [
    "elastic_model = ElasticNet(alpha=2.0, random_state=42)\n",
    "elastic_model.fit(X_train, y_train_reg)\n",
    "pred = elastic_model.predict(X_test)"
   ]
  },
  {
   "cell_type": "code",
   "execution_count": null,
   "metadata": {},
   "outputs": [
    {
     "name": "stdout",
     "output_type": "stream",
     "text": [
      "Train MSE: 0.031893\n",
      "Test MSE: 0.031381\n"
     ]
    }
   ],
   "source": [
    "print(f'Train MSE: {mean_squared_error(elastic_model.predict(X_train), y_train_reg):.5}')\n",
    "print(f'Test MSE: {mean_squared_error(pred, y_test_reg):.5}')"
   ]
  },
  {
   "cell_type": "markdown",
   "metadata": {},
   "source": [
    "#### SGDRegressor - l2"
   ]
  },
  {
   "cell_type": "code",
   "execution_count": null,
   "metadata": {},
   "outputs": [],
   "source": [
    "SGD_model_l2 = SGDRegressor(loss='squared_loss', penalty='l2', alpha=20.0, random_state=42)\n",
    "SGD_model_l2.fit(X_train, y_train_reg)\n",
    "pred = SGD_model_l2.predict(X_test)"
   ]
  },
  {
   "cell_type": "code",
   "execution_count": null,
   "metadata": {},
   "outputs": [
    {
     "name": "stdout",
     "output_type": "stream",
     "text": [
      "Train MSE: 0.031143\n",
      "Test MSE: 0.03138\n"
     ]
    }
   ],
   "source": [
    "print(f'Train MSE: {mean_squared_error(SGD_model_l2.predict(X_train), y_train_reg):.5}')\n",
    "print(f'Test MSE: {mean_squared_error(pred, y_test_reg):.5}')"
   ]
  },
  {
   "cell_type": "markdown",
   "metadata": {},
   "source": [
    "#### SGDRegressor - l1"
   ]
  },
  {
   "cell_type": "code",
   "execution_count": null,
   "metadata": {},
   "outputs": [],
   "source": [
    "SGD_model_l1 = SGDRegressor(loss='squared_loss', penalty='l1', alpha=2.0, random_state=42)\n",
    "SGD_model_l1.fit(X_train, y_train_reg)\n",
    "pred = SGD_model_l1.predict(X_test)"
   ]
  },
  {
   "cell_type": "code",
   "execution_count": null,
   "metadata": {},
   "outputs": [
    {
     "name": "stdout",
     "output_type": "stream",
     "text": [
      "Train MSE: 0.031935\n",
      "Test MSE: 0.031524\n"
     ]
    }
   ],
   "source": [
    "print(f'Train MSE: {mean_squared_error(SGD_model_l1.predict(X_train), y_train_reg):.5}')\n",
    "print(f'Test MSE: {mean_squared_error(pred, y_test_reg):.5}')"
   ]
  },
  {
   "cell_type": "markdown",
   "metadata": {},
   "source": [
    "#### RandomForestRegressor"
   ]
  },
  {
   "cell_type": "code",
   "execution_count": null,
   "metadata": {},
   "outputs": [],
   "source": [
    "RF = RandomForestRegressor(criterion='mae', n_estimators=100, min_samples_leaf=1, max_depth=2, random_state=42)\n",
    "RF.fit(X_train, y_train_reg)\n",
    "pred = RF.predict(X_test)"
   ]
  },
  {
   "cell_type": "code",
   "execution_count": null,
   "metadata": {},
   "outputs": [
    {
     "name": "stdout",
     "output_type": "stream",
     "text": [
      "Train MSE: 0.023802\n",
      "Test MSE: 0.032969\n"
     ]
    }
   ],
   "source": [
    "print(f'Train MSE: {mean_squared_error(RF.predict(X_train), y_train_reg):.5}')\n",
    "print(f'Test MSE: {mean_squared_error(pred, y_test_reg):.5}')"
   ]
  },
  {
   "cell_type": "code",
   "execution_count": null,
   "metadata": {},
   "outputs": [],
   "source": [
    "RF = RandomForestRegressor(criterion='mse', n_estimators=150, min_samples_leaf=1, max_depth=2, random_state=42)\n",
    "RF.fit(X_train, y_train_reg)\n",
    "pred = RF.predict(X_test)"
   ]
  },
  {
   "cell_type": "code",
   "execution_count": null,
   "metadata": {},
   "outputs": [
    {
     "name": "stdout",
     "output_type": "stream",
     "text": [
      "Train MSE: 0.023353\n",
      "Test MSE: 0.032984\n"
     ]
    }
   ],
   "source": [
    "print(f'Train MSE: {mean_squared_error(RF.predict(X_train), y_train_reg):.5}')\n",
    "print(f'Test MSE: {mean_squared_error(pred, y_test_reg):.5}')"
   ]
  },
  {
   "cell_type": "markdown",
   "metadata": {},
   "source": [
    "#### XGBoost"
   ]
  },
  {
   "cell_type": "code",
   "execution_count": null,
   "metadata": {},
   "outputs": [],
   "source": [
    "XGB_model = xg.XGBRegressor(objective ='reg:squarederror', n_estimators=50, max_depth=1, learning_rate=0.05, seed=42)\n",
    "XGB_model.fit(X_train, y_train_reg)\n",
    "pred = XGB_model.predict(X_test)"
   ]
  },
  {
   "cell_type": "code",
   "execution_count": null,
   "metadata": {},
   "outputs": [
    {
     "name": "stdout",
     "output_type": "stream",
     "text": [
      "Train MSE: 0.025938\n",
      "Test MSE: 0.033233\n"
     ]
    }
   ],
   "source": [
    "print(f'Train MSE: {mean_squared_error(XGB_model.predict(X_train), y_train_reg):.5}')\n",
    "print(f'Test MSE: {mean_squared_error(pred, y_test_reg):.5}')"
   ]
  },
  {
   "cell_type": "markdown",
   "metadata": {},
   "source": [
    "#### CatBoost"
   ]
  },
  {
   "cell_type": "code",
   "execution_count": null,
   "metadata": {},
   "outputs": [],
   "source": [
    "CB_model = CatBoostRegressor(learning_rate=1e-5, loss_function='MAE', depth=2, random_seed=42)\n",
    "CB_model.fit(X_train, y_train_reg, verbose=False)\n",
    "pred = CB_model.predict(X_test)"
   ]
  },
  {
   "cell_type": "code",
   "execution_count": null,
   "metadata": {},
   "outputs": [
    {
     "name": "stdout",
     "output_type": "stream",
     "text": [
      "Train MSE: 0.031839\n",
      "Test MSE: 0.031351\n"
     ]
    }
   ],
   "source": [
    "print(f'Train MSE: {mean_squared_error(CB_model.predict(X_train), y_train_reg):.5}')\n",
    "print(f'Test MSE: {mean_squared_error(pred, y_test_reg):.5}')"
   ]
  },
  {
   "cell_type": "code",
   "execution_count": null,
   "metadata": {},
   "outputs": [],
   "source": [
    "CB_model = CatBoostRegressor(learning_rate=1e-5, loss_function='RMSE', depth=2, random_seed=42)\n",
    "CB_model.fit(X_train, y_train_reg, verbose=False)\n",
    "pred = CB_model.predict(X_test)"
   ]
  },
  {
   "cell_type": "code",
   "execution_count": null,
   "metadata": {},
   "outputs": [
    {
     "name": "stdout",
     "output_type": "stream",
     "text": [
      "Train MSE: 0.03183\n",
      "Test MSE: 0.031375\n"
     ]
    }
   ],
   "source": [
    "print(f'Train MSE: {mean_squared_error(CB_model.predict(X_train), y_train_reg):.5}')\n",
    "print(f'Test MSE: {mean_squared_error(pred, y_test_reg):.5}')"
   ]
  },
  {
   "cell_type": "markdown",
   "metadata": {},
   "source": [
    "#### NN"
   ]
  },
  {
   "cell_type": "code",
   "execution_count": null,
   "metadata": {},
   "outputs": [],
   "source": [
    "NN_model = MLPRegressor(hidden_layer_sizes=(50, 100, 50), learning_rate_init=0.1, solver='adam', random_state=42)\n",
    "NN_model.fit(X_train, y_train_reg)\n",
    "pred = NN_model.predict(X_test)"
   ]
  },
  {
   "cell_type": "code",
   "execution_count": null,
   "metadata": {},
   "outputs": [
    {
     "name": "stdout",
     "output_type": "stream",
     "text": [
      "Train MSE: 0.030467\n",
      "Test MSE: 0.03192\n"
     ]
    }
   ],
   "source": [
    "print(f'Train MSE: {mean_squared_error(NN_model.predict(X_train), y_train_reg):.5}')\n",
    "print(f'Test MSE: {mean_squared_error(pred, y_test_reg):.5}')"
   ]
  },
  {
   "cell_type": "markdown",
   "metadata": {},
   "source": [
    "# Classification"
   ]
  },
  {
   "cell_type": "code",
   "execution_count": 1,
   "metadata": {},
   "outputs": [],
   "source": [
    "import xgboost as xg\n",
    "from sklearn.linear_model import LinearRegression, Ridge, Lasso, ElasticNet, SGDRegressor, LogisticRegression, SGDClassifier\n",
    "from sklearn.ensemble import RandomForestRegressor, RandomForestClassifier\n",
    "from sklearn.neural_network import MLPRegressor, MLPClassifier\n",
    "from sklearn.metrics import mean_squared_error, accuracy_score\n",
    "from sklearn.model_selection import GridSearchCV\n",
    "from catboost import CatBoostRegressor, CatBoostClassifier"
   ]
  },
  {
   "cell_type": "markdown",
   "metadata": {},
   "source": [
    "#### LogisticRegression"
   ]
  },
  {
   "cell_type": "code",
   "execution_count": null,
   "metadata": {},
   "outputs": [],
   "source": [
    "LR_model = LogisticRegression(penalty='l2', random_state=42)\n",
    "LR_model.fit(X_train, y_train_class)\n",
    "pred = LR_model.predict(X_test)"
   ]
  },
  {
   "cell_type": "code",
   "execution_count": null,
   "metadata": {
    "scrolled": true
   },
   "outputs": [
    {
     "name": "stdout",
     "output_type": "stream",
     "text": [
      "Train Accuracy: 64.75\n",
      "Test Accuracy: 58.1\n"
     ]
    }
   ],
   "source": [
    "print(f'Train Accuracy: {accuracy_score(LR_model.predict(X_train), y_train_class) * 100:.4}')\n",
    "print(f'Test Accuracy: {accuracy_score(pred, y_test_class) * 100:.4}')"
   ]
  },
  {
   "cell_type": "markdown",
   "metadata": {},
   "source": [
    "#### SGDClassifier"
   ]
  },
  {
   "cell_type": "code",
   "execution_count": null,
   "metadata": {},
   "outputs": [],
   "source": [
    "SGDClassifier_model = SGDClassifier(loss='perceptron', penalty='l2', random_state=42)\n",
    "SGDClassifier_model.fit(X_train, y_train_class)\n",
    "pred = SGDClassifier_model.predict(X_test)"
   ]
  },
  {
   "cell_type": "code",
   "execution_count": null,
   "metadata": {},
   "outputs": [
    {
     "name": "stdout",
     "output_type": "stream",
     "text": [
      "Train Accuracy: 58.61\n",
      "Test Accuracy: 60.0\n"
     ]
    }
   ],
   "source": [
    "print(f'Train Accuracy: {accuracy_score(SGDClassifier_model.predict(X_train), y_train_class) * 100:.4}')\n",
    "print(f'Test Accuracy: {accuracy_score(pred, y_test_class) * 100:.4}')"
   ]
  },
  {
   "cell_type": "markdown",
   "metadata": {},
   "source": [
    "#### RandomForestClassifier"
   ]
  },
  {
   "cell_type": "code",
   "execution_count": null,
   "metadata": {},
   "outputs": [],
   "source": [
    "RF_model = RandomForestClassifier(n_estimators=100, criterion='gini', min_samples_leaf=7, max_depth=2, random_state=42)\n",
    "RF_model.fit(X_train, y_train_class)\n",
    "pred = RF_model.predict(X_test)"
   ]
  },
  {
   "cell_type": "code",
   "execution_count": null,
   "metadata": {},
   "outputs": [
    {
     "name": "stdout",
     "output_type": "stream",
     "text": [
      "Train Accuracy: 70.9\n",
      "Test Accuracy: 65.71\n"
     ]
    }
   ],
   "source": [
    "print(f'Train Accuracy: {accuracy_score(RF_model.predict(X_train), y_train_class) * 100:.4}')\n",
    "print(f'Test Accuracy: {accuracy_score(pred, y_test_class) * 100:.4}')"
   ]
  },
  {
   "cell_type": "markdown",
   "metadata": {},
   "source": [
    "#### XGBoost"
   ]
  },
  {
   "cell_type": "code",
   "execution_count": null,
   "metadata": {},
   "outputs": [
    {
     "name": "stdout",
     "output_type": "stream",
     "text": [
      "[23:50:51] WARNING: C:/Users/Administrator/workspace/xgboost-win64_release_1.5.0/src/learner.cc:1115: Starting in XGBoost 1.3.0, the default evaluation metric used with the objective 'binary:logistic' was changed from 'error' to 'logloss'. Explicitly set eval_metric if you'd like to restore the old behavior.\n"
     ]
    }
   ],
   "source": [
    "XGB_model = xg.XGBClassifier(n_estimators=100, max_depth=2, learning_rate=0.0005, use_label_encoder=False, random_state=42)\n",
    "XGB_model.fit(X_train, y_train_class)\n",
    "pred = XGB_model.predict(X_test)"
   ]
  },
  {
   "cell_type": "code",
   "execution_count": null,
   "metadata": {},
   "outputs": [
    {
     "name": "stdout",
     "output_type": "stream",
     "text": [
      "Train Accuracy: 69.26\n",
      "Test Accuracy: 61.9\n"
     ]
    }
   ],
   "source": [
    "print(f'Train Accuracy: {accuracy_score(XGB_model.predict(X_train), y_train_class) * 100:.4}')\n",
    "print(f'Test Accuracy: {accuracy_score(pred, y_test_class) * 100:.4}')"
   ]
  },
  {
   "cell_type": "markdown",
   "metadata": {},
   "source": [
    "#### CatBoost"
   ]
  },
  {
   "cell_type": "code",
   "execution_count": null,
   "metadata": {},
   "outputs": [],
   "source": [
    "CB_model = CatBoostClassifier(learning_rate=1e-4, depth=3, random_seed=42)\n",
    "CB_model.fit(X_train, y_train_class, verbose=False)\n",
    "pred = CB_model.predict(X_test)"
   ]
  },
  {
   "cell_type": "code",
   "execution_count": null,
   "metadata": {},
   "outputs": [
    {
     "name": "stdout",
     "output_type": "stream",
     "text": [
      "Train Accuracy: 70.08\n",
      "Test Accuracy: 63.81\n"
     ]
    }
   ],
   "source": [
    "print(f'Train Accuracy: {accuracy_score(CB_model.predict(X_train), y_train_class) * 100:.4}')\n",
    "print(f'Test Accuracy: {accuracy_score(pred, y_test_class) * 100:.4}')"
   ]
  },
  {
   "cell_type": "markdown",
   "metadata": {},
   "source": [
    "#### NN"
   ]
  },
  {
   "cell_type": "code",
   "execution_count": null,
   "metadata": {},
   "outputs": [],
   "source": [
    "NN_model = MLPClassifier(hidden_layer_sizes=(50, 100, 50), alpha=0, learning_rate_init=0.5,\n",
    "                         max_iter=1500, solver='adam')\n",
    "NN_model.fit(X_train, y_train_class)\n",
    "pred = NN_model.predict(X_test)"
   ]
  },
  {
   "cell_type": "code",
   "execution_count": null,
   "metadata": {},
   "outputs": [
    {
     "name": "stdout",
     "output_type": "stream",
     "text": [
      "Train Accuracy: 60.66\n",
      "Test Accuracy: 60.95\n"
     ]
    }
   ],
   "source": [
    "print(f'Train Accuracy: {accuracy_score(NN_model.predict(X_train), y_train_class) * 100:.4}')\n",
    "print(f'Test Accuracy: {accuracy_score(pred, y_test_class) * 100:.4}')"
   ]
  }
 ],
 "metadata": {
  "interpreter": {
   "hash": "2be5faf79681da6f2a61fdfdd5405d65d042280f7fba6178067603e3a2925119"
  },
  "kernelspec": {
   "display_name": "Python 3",
   "language": "python",
   "name": "python3"
  },
  "language_info": {
   "codemirror_mode": {
    "name": "ipython",
    "version": 3
   },
   "file_extension": ".py",
   "mimetype": "text/x-python",
   "name": "python",
   "nbconvert_exporter": "python",
   "pygments_lexer": "ipython3",
   "version": "3.7.6"
  }
 },
 "nbformat": 4,
 "nbformat_minor": 5
}
