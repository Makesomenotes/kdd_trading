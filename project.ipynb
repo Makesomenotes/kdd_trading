{
 "cells": [
  {
   "cell_type": "markdown",
   "id": "6b4dd3e5",
   "metadata": {},
   "source": [
    "# Проект в рамках курса \"Интерпретируемый ИИ и майнинг данных\"\n",
    "---\n",
    "\n",
    "Проект выполнили:"
   ]
  },
  {
   "cell_type": "markdown",
   "id": "c272156c",
   "metadata": {},
   "source": [
    "## Первая часть проекта (работа с табличными данными):\n",
    "Описание: "
   ]
  },
  {
   "cell_type": "markdown",
   "id": "eadb69fd",
   "metadata": {},
   "source": [
    "### 1. Поиск причинно-следственных связей:"
   ]
  },
  {
   "cell_type": "markdown",
   "id": "e1513802",
   "metadata": {},
   "source": [
    "1.1 Рассмотреть модель на основе ваших предположений (ориентированных граф без циклов), словами описать, какие зависимости вы рассматривали. Изобразить граф, который вы рассматривали."
   ]
  },
  {
   "cell_type": "markdown",
   "id": "5ed03cfc",
   "metadata": {},
   "source": [
    "1.2 Применить 3 любых “refutation” метода на ваш выбор и обосновать их выбор (какие цели вы преследовали, выбирая эти методы, что вы хотели проверить)"
   ]
  },
  {
   "cell_type": "code",
   "execution_count": 38,
   "id": "866a5ad7",
   "metadata": {},
   "outputs": [],
   "source": [
    "import pandas as pd\n",
    "from sklearn.model_selection import train_test_split\n",
    "import pygraphviz\n",
    "import dowhy\n",
    "from dowhy import CausalModel"
   ]
  },
  {
   "cell_type": "code",
   "execution_count": 2,
   "id": "f0a4477d",
   "metadata": {},
   "outputs": [],
   "source": [
    "data = pd.read_csv('data/financial_data.csv', index_col=0)\n",
    "data = data.drop(['price_to_sales', 'target'], axis=1)\n",
    "data = data.dropna()"
   ]
  },
  {
   "cell_type": "code",
   "execution_count": 13,
   "id": "f2913547",
   "metadata": {},
   "outputs": [
    {
     "data": {
      "text/html": [
       "<div>\n",
       "<style scoped>\n",
       "    .dataframe tbody tr th:only-of-type {\n",
       "        vertical-align: middle;\n",
       "    }\n",
       "\n",
       "    .dataframe tbody tr th {\n",
       "        vertical-align: top;\n",
       "    }\n",
       "\n",
       "    .dataframe thead th {\n",
       "        text-align: right;\n",
       "    }\n",
       "</style>\n",
       "<table border=\"1\" class=\"dataframe\">\n",
       "  <thead>\n",
       "    <tr style=\"text-align: right;\">\n",
       "      <th></th>\n",
       "      <th>debt_to_equity</th>\n",
       "      <th>current_ratio</th>\n",
       "      <th>cash_ratio</th>\n",
       "      <th>return_on_assets</th>\n",
       "      <th>eps</th>\n",
       "      <th>price_to_casflow</th>\n",
       "      <th>shareholder_equity</th>\n",
       "      <th>interest_coverage</th>\n",
       "      <th>net_profit_margin</th>\n",
       "      <th>regression_target</th>\n",
       "      <th>SP_target</th>\n",
       "    </tr>\n",
       "  </thead>\n",
       "  <tbody>\n",
       "    <tr>\n",
       "      <th>MMM</th>\n",
       "      <td>2.815404</td>\n",
       "      <td>0.421861</td>\n",
       "      <td>0.123210</td>\n",
       "      <td>0.031130</td>\n",
       "      <td>157.000000</td>\n",
       "      <td>0.563128</td>\n",
       "      <td>0.261732</td>\n",
       "      <td>-15.062500</td>\n",
       "      <td>0.169222</td>\n",
       "      <td>0.771223</td>\n",
       "      <td>True</td>\n",
       "    </tr>\n",
       "    <tr>\n",
       "      <th>ABT</th>\n",
       "      <td>1.193143</td>\n",
       "      <td>0.464377</td>\n",
       "      <td>0.119633</td>\n",
       "      <td>0.017844</td>\n",
       "      <td>0.051254</td>\n",
       "      <td>1247.571550</td>\n",
       "      <td>0.454586</td>\n",
       "      <td>-10.562044</td>\n",
       "      <td>0.139162</td>\n",
       "      <td>0.987052</td>\n",
       "      <td>False</td>\n",
       "    </tr>\n",
       "    <tr>\n",
       "      <th>ABBV</th>\n",
       "      <td>8.797119</td>\n",
       "      <td>0.171285</td>\n",
       "      <td>0.058735</td>\n",
       "      <td>0.015426</td>\n",
       "      <td>128.222222</td>\n",
       "      <td>0.257674</td>\n",
       "      <td>0.102058</td>\n",
       "      <td>-5.630159</td>\n",
       "      <td>0.178887</td>\n",
       "      <td>0.740247</td>\n",
       "      <td>True</td>\n",
       "    </tr>\n",
       "    <tr>\n",
       "      <th>ACN</th>\n",
       "      <td>1.108094</td>\n",
       "      <td>0.938716</td>\n",
       "      <td>0.433120</td>\n",
       "      <td>0.039204</td>\n",
       "      <td>20837.166667</td>\n",
       "      <td>0.011085</td>\n",
       "      <td>0.467920</td>\n",
       "      <td>-213.538401</td>\n",
       "      <td>0.127551</td>\n",
       "      <td>0.772344</td>\n",
       "      <td>True</td>\n",
       "    </tr>\n",
       "    <tr>\n",
       "      <th>AES</th>\n",
       "      <td>15.036926</td>\n",
       "      <td>0.195294</td>\n",
       "      <td>0.049944</td>\n",
       "      <td>-0.009718</td>\n",
       "      <td>-41.625000</td>\n",
       "      <td>0.111457</td>\n",
       "      <td>0.058482</td>\n",
       "      <td>-2.465517</td>\n",
       "      <td>-0.130845</td>\n",
       "      <td>0.704863</td>\n",
       "      <td>True</td>\n",
       "    </tr>\n",
       "  </tbody>\n",
       "</table>\n",
       "</div>"
      ],
      "text/plain": [
       "      debt_to_equity  current_ratio  cash_ratio  return_on_assets  \\\n",
       "MMM         2.815404       0.421861    0.123210          0.031130   \n",
       "ABT         1.193143       0.464377    0.119633          0.017844   \n",
       "ABBV        8.797119       0.171285    0.058735          0.015426   \n",
       "ACN         1.108094       0.938716    0.433120          0.039204   \n",
       "AES        15.036926       0.195294    0.049944         -0.009718   \n",
       "\n",
       "               eps  price_to_casflow  shareholder_equity  interest_coverage  \\\n",
       "MMM     157.000000          0.563128            0.261732         -15.062500   \n",
       "ABT       0.051254       1247.571550            0.454586         -10.562044   \n",
       "ABBV    128.222222          0.257674            0.102058          -5.630159   \n",
       "ACN   20837.166667          0.011085            0.467920        -213.538401   \n",
       "AES     -41.625000          0.111457            0.058482          -2.465517   \n",
       "\n",
       "      net_profit_margin  regression_target  SP_target  \n",
       "MMM            0.169222           0.771223       True  \n",
       "ABT            0.139162           0.987052      False  \n",
       "ABBV           0.178887           0.740247       True  \n",
       "ACN            0.127551           0.772344       True  \n",
       "AES           -0.130845           0.704863       True  "
      ]
     },
     "execution_count": 13,
     "metadata": {},
     "output_type": "execute_result"
    }
   ],
   "source": [
    "data.head()"
   ]
  },
  {
   "cell_type": "code",
   "execution_count": 21,
   "id": "7005a497",
   "metadata": {},
   "outputs": [],
   "source": [
    "data_refutation = data.copy(deep=True)\n",
    "data_refutation['SP_target'].replace({0: False, 1: True}, inplace=True)"
   ]
  },
  {
   "cell_type": "code",
   "execution_count": 39,
   "id": "4a37ec74",
   "metadata": {},
   "outputs": [
    {
     "data": {
      "text/plain": [
       "Index(['debt_to_equity', 'current_ratio', 'cash_ratio', 'return_on_assets',\n",
       "       'eps', 'price_to_casflow', 'shareholder_equity', 'interest_coverage',\n",
       "       'net_profit_margin', 'regression_target', 'SP_target'],\n",
       "      dtype='object')"
      ]
     },
     "execution_count": 39,
     "metadata": {},
     "output_type": "execute_result"
    }
   ],
   "source": [
    "data_refutation.columns"
   ]
  },
  {
   "cell_type": "code",
   "execution_count": 43,
   "id": "9a616d14",
   "metadata": {},
   "outputs": [
    {
     "data": {
      "image/png": "[encoded data removed]",
      "text/plain": [
       "<Figure size 432x288 with 1 Axes>"
      ]
     },
     "metadata": {},
     "output_type": "display_data"
    }
   ],
   "source": [
    "xs = \"\"\n",
    "for i in [#'debt_to_equity',\n",
    "        'eps',\n",
    "        'current_ratio',\n",
    "        'cash_ratio',\n",
    "        'return_on_assets',\n",
    "        'price_to_casflow',\n",
    "        'shareholder_equity',\n",
    "        'interest_coverage',\n",
    "        'net_profit_margin']:\n",
    "    xs += (str(i)+\"+\")\n",
    "\n",
    "model=CausalModel(\n",
    "        data = data_refutation,\n",
    "        treatment='debt_to_equity',\n",
    "        outcome='regression_target',\n",
    "        common_causes=xs.split('+')\n",
    "        )\n",
    "\n",
    "model.view_model(layout=\"dot\")"
   ]
  },
  {
   "cell_type": "code",
   "execution_count": 44,
   "id": "fb9790e9",
   "metadata": {},
   "outputs": [
    {
     "name": "stdout",
     "output_type": "stream",
     "text": [
      "Estimand type: nonparametric-ate\n",
      "\n",
      "### Estimand : 1\n",
      "Estimand name: backdoor\n",
      "Estimand expression:\n",
      "        d                                                                     \n",
      "─────────────────(Expectation(regression_target|shareholder_equity,interest_co\n",
      "d[debt_to_equity]                                                             \n",
      "\n",
      "                                                                              \n",
      "verage,return_on_assets,eps,price_to_casflow,cash_ratio,current_ratio,net_prof\n",
      "                                                                              \n",
      "\n",
      "           \n",
      "it_margin))\n",
      "           \n",
      "Estimand assumption 1, Unconfoundedness: If U→{debt_to_equity} and U→regression_target then P(regression_target|debt_to_equity,shareholder_equity,interest_coverage,return_on_assets,eps,price_to_casflow,cash_ratio,current_ratio,net_profit_margin,U) = P(regression_target|debt_to_equity,shareholder_equity,interest_coverage,return_on_assets,eps,price_to_casflow,cash_ratio,current_ratio,net_profit_margin)\n",
      "\n",
      "### Estimand : 2\n",
      "Estimand name: iv\n",
      "No such variable found!\n",
      "\n",
      "### Estimand : 3\n",
      "Estimand name: frontdoor\n",
      "No such variable found!\n",
      "\n"
     ]
    }
   ],
   "source": [
    "identified_estimand = model.identify_effect(proceed_when_unidentifiable=True)\n",
    "print(identified_estimand)"
   ]
  },
  {
   "cell_type": "code",
   "execution_count": 48,
   "id": "97ce5433",
   "metadata": {},
   "outputs": [
    {
     "name": "stdout",
     "output_type": "stream",
     "text": [
      "*** Causal Estimate ***\n",
      "\n",
      "## Identified estimand\n",
      "Estimand type: nonparametric-ate\n",
      "\n",
      "### Estimand : 1\n",
      "Estimand name: backdoor\n",
      "Estimand expression:\n",
      "        d                                                                     \n",
      "─────────────────(Expectation(regression_target|shareholder_equity,interest_co\n",
      "d[debt_to_equity]                                                             \n",
      "\n",
      "                                                                              \n",
      "verage,return_on_assets,eps,price_to_casflow,cash_ratio,current_ratio,net_prof\n",
      "                                                                              \n",
      "\n",
      "           \n",
      "it_margin))\n",
      "           \n",
      "Estimand assumption 1, Unconfoundedness: If U→{debt_to_equity} and U→regression_target then P(regression_target|debt_to_equity,shareholder_equity,interest_coverage,return_on_assets,eps,price_to_casflow,cash_ratio,current_ratio,net_profit_margin,U) = P(regression_target|debt_to_equity,shareholder_equity,interest_coverage,return_on_assets,eps,price_to_casflow,cash_ratio,current_ratio,net_profit_margin)\n",
      "\n",
      "## Realized estimand\n",
      "b: regression_target~debt_to_equity+shareholder_equity+interest_coverage+return_on_assets+eps+price_to_casflow+cash_ratio+current_ratio+net_profit_margin\n",
      "Target units: ate\n",
      "\n",
      "## Estimate\n",
      "Mean value: 0.00011886971130314894\n",
      "\n"
     ]
    }
   ],
   "source": [
    "estimate = model.estimate_effect(identified_estimand,\n",
    "                                 method_name=\"backdoor.linear_regression\", target_units=\"ate\")\n",
    "# ATE = Average Treatment Effect\n",
    "# ATT = Average Treatment Effect on Treated (i.e. those who were assigned a different room)\n",
    "# ATC = Average Treatment Effect on Control (i.e. those who were not assigned a different room)\n",
    "print(estimate)"
   ]
  },
  {
   "cell_type": "code",
   "execution_count": 46,
   "id": "08266a34",
   "metadata": {},
   "outputs": [
    {
     "name": "stdout",
     "output_type": "stream",
     "text": [
      "Refute: Add a Random Common Cause\n",
      "Estimated effect:0.00011886971130314894\n",
      "New effect:7.811215864472754e-05\n",
      "\n"
     ]
    }
   ],
   "source": [
    "refute1_results=model.refute_estimate(identified_estimand, estimate,\n",
    "        method_name=\"random_common_cause\")\n",
    "print(refute1_results)"
   ]
  },
  {
   "cell_type": "code",
   "execution_count": 8,
   "id": "c1d2ffb7",
   "metadata": {},
   "outputs": [],
   "source": [
    "data_groups = pd.read_csv('data/S&P500-Info.csv', index_col=0)\n",
    "merged = data.merge(data_groups[['Symbol', 'GICS Sector']], left_index=True, right_on='Symbol')\n",
    "X = merged.drop('Symbol', axis=1).drop(['regression_target', 'SP_target'], axis=1)\n",
    "target_reg = merged.regression_target\n",
    "target_class = merged.SP_target * 1"
   ]
  },
  {
   "cell_type": "code",
   "execution_count": 5,
   "id": "309b576b",
   "metadata": {},
   "outputs": [],
   "source": [
    "X_train_df, X_test_df, y_train_reg, y_test_reg = train_test_split(X, target_reg.values, test_size=0.3, random_state=42)\n",
    "_, _, y_train_class, y_test_class = train_test_split(X, target_class.values, test_size=0.3, random_state=42)"
   ]
  },
  {
   "cell_type": "code",
   "execution_count": 12,
   "id": "32c9e0e6",
   "metadata": {},
   "outputs": [],
   "source": [
    "X_train = X_train_df.groupby('GICS Sector').transform(lambda x: (x - x.mean()) / x.std())\n",
    "X_test_mean = X_test_df.merge(X_train_df.groupby('GICS Sector').mean(), left_on='GICS Sector', right_index=True)\n",
    "X_test_mean_std = X_test_mean.merge(X_train_df.groupby('GICS Sector').std(), left_on='GICS Sector', right_index=True)\n",
    "X_test_mean_std = X_test_mean_std.drop('GICS Sector', axis=1)\n",
    "X_test = (X_test_mean_std.iloc[:, :9].values - X_test_mean_std.iloc[:, 9:18].values)/X_test_mean_std.iloc[:, 18:].values"
   ]
  },
  {
   "cell_type": "markdown",
   "id": "c6b4fcdc",
   "metadata": {},
   "source": [
    "# Regression "
   ]
  },
  {
   "cell_type": "markdown",
   "id": "49180336",
   "metadata": {},
   "source": [
    "#### LinearRegression"
   ]
  },
  {
   "cell_type": "code",
   "execution_count": null,
   "id": "b9a55419",
   "metadata": {},
   "outputs": [],
   "source": [
    "reg_model = LinearRegression()\n",
    "reg_model.fit(X_train, y_train_reg)\n",
    "pred = reg_model.predict(X_test)"
   ]
  },
  {
   "cell_type": "code",
   "execution_count": null,
   "id": "2d94cf27",
   "metadata": {},
   "outputs": [
    {
     "name": "stdout",
     "output_type": "stream",
     "text": [
      "Train MSE: 0.028117\n",
      "Test MSE: 0.052553\n"
     ]
    }
   ],
   "source": [
    "print(f'Train MSE: {mean_squared_error(reg_model.predict(X_train), y_train_reg):.5}')\n",
    "print(f'Test MSE: {mean_squared_error(pred, y_test_reg):.5}')"
   ]
  },
  {
   "cell_type": "markdown",
   "id": "023d8a62",
   "metadata": {},
   "source": [
    "#### Ridge"
   ]
  },
  {
   "cell_type": "code",
   "execution_count": null,
   "id": "cd738a6a",
   "metadata": {},
   "outputs": [],
   "source": [
    "ridge_model = Ridge(alpha=2.0, random_state=42)\n",
    "ridge_model.fit(X_train, y_train_reg)\n",
    "pred = ridge_model.predict(X_test)"
   ]
  },
  {
   "cell_type": "code",
   "execution_count": null,
   "id": "393535ff",
   "metadata": {},
   "outputs": [
    {
     "name": "stdout",
     "output_type": "stream",
     "text": [
      "Train MSE: 0.028117\n",
      "Test MSE: 0.052999\n"
     ]
    }
   ],
   "source": [
    "print(f'Train MSE: {mean_squared_error(ridge_model.predict(X_train), y_train_reg):.5}')\n",
    "print(f'Test MSE: {mean_squared_error(pred, y_test_reg):.5}')"
   ]
  },
  {
   "cell_type": "markdown",
   "id": "a59853ee",
   "metadata": {},
   "source": [
    "#### Lasso"
   ]
  },
  {
   "cell_type": "code",
   "execution_count": null,
   "id": "2507a93d",
   "metadata": {},
   "outputs": [],
   "source": [
    "lasso_model = Lasso(alpha=2.0, random_state=42)\n",
    "lasso_model.fit(X_train, y_train_reg)\n",
    "pred = lasso_model.predict(X_test)"
   ]
  },
  {
   "cell_type": "code",
   "execution_count": null,
   "id": "c96e7481",
   "metadata": {},
   "outputs": [
    {
     "name": "stdout",
     "output_type": "stream",
     "text": [
      "Train MSE: 0.031893\n",
      "Test MSE: 0.031381\n"
     ]
    }
   ],
   "source": [
    "print(f'Train MSE: {mean_squared_error(lasso_model.predict(X_train), y_train_reg):.5}')\n",
    "print(f'Test MSE: {mean_squared_error(pred, y_test_reg):.5}')"
   ]
  },
  {
   "cell_type": "markdown",
   "id": "c3cb03a0",
   "metadata": {},
   "source": [
    "#### ElasticNet"
   ]
  },
  {
   "cell_type": "code",
   "execution_count": null,
   "id": "15cd182d",
   "metadata": {},
   "outputs": [],
   "source": [
    "elastic_model = ElasticNet(alpha=2.0, random_state=42)\n",
    "elastic_model.fit(X_train, y_train_reg)\n",
    "pred = elastic_model.predict(X_test)"
   ]
  },
  {
   "cell_type": "code",
   "execution_count": null,
   "id": "1bd5da40",
   "metadata": {},
   "outputs": [
    {
     "name": "stdout",
     "output_type": "stream",
     "text": [
      "Train MSE: 0.031893\n",
      "Test MSE: 0.031381\n"
     ]
    }
   ],
   "source": [
    "print(f'Train MSE: {mean_squared_error(elastic_model.predict(X_train), y_train_reg):.5}')\n",
    "print(f'Test MSE: {mean_squared_error(pred, y_test_reg):.5}')"
   ]
  },
  {
   "cell_type": "markdown",
   "id": "814d1c90",
   "metadata": {},
   "source": [
    "#### SGDRegressor - l2"
   ]
  },
  {
   "cell_type": "code",
   "execution_count": null,
   "id": "4b6cb502",
   "metadata": {},
   "outputs": [],
   "source": [
    "SGD_model_l2 = SGDRegressor(loss='squared_loss', penalty='l2', alpha=20.0, random_state=42)\n",
    "SGD_model_l2.fit(X_train, y_train_reg)\n",
    "pred = SGD_model_l2.predict(X_test)"
   ]
  },
  {
   "cell_type": "code",
   "execution_count": null,
   "id": "d451779e",
   "metadata": {},
   "outputs": [
    {
     "name": "stdout",
     "output_type": "stream",
     "text": [
      "Train MSE: 0.031143\n",
      "Test MSE: 0.03138\n"
     ]
    }
   ],
   "source": [
    "print(f'Train MSE: {mean_squared_error(SGD_model_l2.predict(X_train), y_train_reg):.5}')\n",
    "print(f'Test MSE: {mean_squared_error(pred, y_test_reg):.5}')"
   ]
  },
  {
   "cell_type": "markdown",
   "id": "a75f535f",
   "metadata": {},
   "source": [
    "#### SGDRegressor - l1"
   ]
  },
  {
   "cell_type": "code",
   "execution_count": null,
   "id": "8085d414",
   "metadata": {},
   "outputs": [],
   "source": [
    "SGD_model_l1 = SGDRegressor(loss='squared_loss', penalty='l1', alpha=2.0, random_state=42)\n",
    "SGD_model_l1.fit(X_train, y_train_reg)\n",
    "pred = SGD_model_l1.predict(X_test)"
   ]
  },
  {
   "cell_type": "code",
   "execution_count": null,
   "id": "ae0f0005",
   "metadata": {},
   "outputs": [
    {
     "name": "stdout",
     "output_type": "stream",
     "text": [
      "Train MSE: 0.031935\n",
      "Test MSE: 0.031524\n"
     ]
    }
   ],
   "source": [
    "print(f'Train MSE: {mean_squared_error(SGD_model_l1.predict(X_train), y_train_reg):.5}')\n",
    "print(f'Test MSE: {mean_squared_error(pred, y_test_reg):.5}')"
   ]
  },
  {
   "cell_type": "markdown",
   "id": "83ab0d1f",
   "metadata": {},
   "source": [
    "#### RandomForestRegressor"
   ]
  },
  {
   "cell_type": "code",
   "execution_count": null,
   "id": "211e1e7f",
   "metadata": {},
   "outputs": [],
   "source": [
    "RF = RandomForestRegressor(criterion='mae', n_estimators=100, min_samples_leaf=1, max_depth=2, random_state=42)\n",
    "RF.fit(X_train, y_train_reg)\n",
    "pred = RF.predict(X_test)"
   ]
  },
  {
   "cell_type": "code",
   "execution_count": null,
   "id": "8f307bb0",
   "metadata": {},
   "outputs": [
    {
     "name": "stdout",
     "output_type": "stream",
     "text": [
      "Train MSE: 0.023802\n",
      "Test MSE: 0.032969\n"
     ]
    }
   ],
   "source": [
    "print(f'Train MSE: {mean_squared_error(RF.predict(X_train), y_train_reg):.5}')\n",
    "print(f'Test MSE: {mean_squared_error(pred, y_test_reg):.5}')"
   ]
  },
  {
   "cell_type": "code",
   "execution_count": null,
   "id": "9a734689",
   "metadata": {},
   "outputs": [],
   "source": [
    "RF = RandomForestRegressor(criterion='mse', n_estimators=150, min_samples_leaf=1, max_depth=2, random_state=42)\n",
    "RF.fit(X_train, y_train_reg)\n",
    "pred = RF.predict(X_test)"
   ]
  },
  {
   "cell_type": "code",
   "execution_count": null,
   "id": "d4093eb0",
   "metadata": {},
   "outputs": [
    {
     "name": "stdout",
     "output_type": "stream",
     "text": [
      "Train MSE: 0.023353\n",
      "Test MSE: 0.032984\n"
     ]
    }
   ],
   "source": [
    "print(f'Train MSE: {mean_squared_error(RF.predict(X_train), y_train_reg):.5}')\n",
    "print(f'Test MSE: {mean_squared_error(pred, y_test_reg):.5}')"
   ]
  },
  {
   "cell_type": "markdown",
   "id": "23aa7cf3",
   "metadata": {},
   "source": [
    "#### XGBoost"
   ]
  },
  {
   "cell_type": "code",
   "execution_count": null,
   "id": "bcddfa5a",
   "metadata": {},
   "outputs": [],
   "source": [
    "XGB_model = xg.XGBRegressor(objective ='reg:squarederror', n_estimators=50, max_depth=1, learning_rate=0.05, seed=42)\n",
    "XGB_model.fit(X_train, y_train_reg)\n",
    "pred = XGB_model.predict(X_test)"
   ]
  },
  {
   "cell_type": "code",
   "execution_count": null,
   "id": "eebb3ea9",
   "metadata": {},
   "outputs": [
    {
     "name": "stdout",
     "output_type": "stream",
     "text": [
      "Train MSE: 0.025938\n",
      "Test MSE: 0.033233\n"
     ]
    }
   ],
   "source": [
    "print(f'Train MSE: {mean_squared_error(XGB_model.predict(X_train), y_train_reg):.5}')\n",
    "print(f'Test MSE: {mean_squared_error(pred, y_test_reg):.5}')"
   ]
  },
  {
   "cell_type": "markdown",
   "id": "a8c5171b",
   "metadata": {},
   "source": [
    "#### CatBoost"
   ]
  },
  {
   "cell_type": "code",
   "execution_count": null,
   "id": "69a2f108",
   "metadata": {},
   "outputs": [],
   "source": [
    "CB_model = CatBoostRegressor(learning_rate=1e-5, loss_function='MAE', depth=2, random_seed=42)\n",
    "CB_model.fit(X_train, y_train_reg, verbose=False)\n",
    "pred = CB_model.predict(X_test)"
   ]
  },
  {
   "cell_type": "code",
   "execution_count": null,
   "id": "649ebd91",
   "metadata": {},
   "outputs": [
    {
     "name": "stdout",
     "output_type": "stream",
     "text": [
      "Train MSE: 0.031839\n",
      "Test MSE: 0.031351\n"
     ]
    }
   ],
   "source": [
    "print(f'Train MSE: {mean_squared_error(CB_model.predict(X_train), y_train_reg):.5}')\n",
    "print(f'Test MSE: {mean_squared_error(pred, y_test_reg):.5}')"
   ]
  },
  {
   "cell_type": "code",
   "execution_count": null,
   "id": "348a024c",
   "metadata": {},
   "outputs": [],
   "source": [
    "CB_model = CatBoostRegressor(learning_rate=1e-5, loss_function='RMSE', depth=2, random_seed=42)\n",
    "CB_model.fit(X_train, y_train_reg, verbose=False)\n",
    "pred = CB_model.predict(X_test)"
   ]
  },
  {
   "cell_type": "code",
   "execution_count": null,
   "id": "f74f4c24",
   "metadata": {},
   "outputs": [
    {
     "name": "stdout",
     "output_type": "stream",
     "text": [
      "Train MSE: 0.03183\n",
      "Test MSE: 0.031375\n"
     ]
    }
   ],
   "source": [
    "print(f'Train MSE: {mean_squared_error(CB_model.predict(X_train), y_train_reg):.5}')\n",
    "print(f'Test MSE: {mean_squared_error(pred, y_test_reg):.5}')"
   ]
  },
  {
   "cell_type": "markdown",
   "id": "3c2ed560",
   "metadata": {},
   "source": [
    "#### NN"
   ]
  },
  {
   "cell_type": "code",
   "execution_count": null,
   "id": "1c3902a4",
   "metadata": {},
   "outputs": [],
   "source": [
    "NN_model = MLPRegressor(hidden_layer_sizes=(50, 100, 50), learning_rate_init=0.1, solver='adam', random_state=42)\n",
    "NN_model.fit(X_train, y_train_reg)\n",
    "pred = NN_model.predict(X_test)"
   ]
  },
  {
   "cell_type": "code",
   "execution_count": null,
   "id": "4e6ed5f5",
   "metadata": {},
   "outputs": [
    {
     "name": "stdout",
     "output_type": "stream",
     "text": [
      "Train MSE: 0.030467\n",
      "Test MSE: 0.03192\n"
     ]
    }
   ],
   "source": [
    "print(f'Train MSE: {mean_squared_error(NN_model.predict(X_train), y_train_reg):.5}')\n",
    "print(f'Test MSE: {mean_squared_error(pred, y_test_reg):.5}')"
   ]
  },
  {
   "cell_type": "markdown",
   "id": "c47c05de",
   "metadata": {},
   "source": [
    "# Classification"
   ]
  },
  {
   "cell_type": "code",
   "execution_count": 1,
   "id": "1d655829",
   "metadata": {},
   "outputs": [],
   "source": [
    "import xgboost as xg\n",
    "from sklearn.linear_model import LinearRegression, Ridge, Lasso, ElasticNet, SGDRegressor, LogisticRegression, SGDClassifier\n",
    "from sklearn.ensemble import RandomForestRegressor, RandomForestClassifier\n",
    "from sklearn.neural_network import MLPRegressor, MLPClassifier\n",
    "from sklearn.metrics import mean_squared_error, accuracy_score\n",
    "from sklearn.model_selection import GridSearchCV\n",
    "from catboost import CatBoostRegressor, CatBoostClassifier"
   ]
  },
  {
   "cell_type": "markdown",
   "id": "75756359",
   "metadata": {},
   "source": [
    "#### LogisticRegression"
   ]
  },
  {
   "cell_type": "code",
   "execution_count": null,
   "id": "64415ca5",
   "metadata": {},
   "outputs": [],
   "source": [
    "LR_model = LogisticRegression(penalty='l2', random_state=42)\n",
    "LR_model.fit(X_train, y_train_class)\n",
    "pred = LR_model.predict(X_test)"
   ]
  },
  {
   "cell_type": "code",
   "execution_count": null,
   "id": "481cf639",
   "metadata": {
    "scrolled": true
   },
   "outputs": [
    {
     "name": "stdout",
     "output_type": "stream",
     "text": [
      "Train Accuracy: 64.75\n",
      "Test Accuracy: 58.1\n"
     ]
    }
   ],
   "source": [
    "print(f'Train Accuracy: {accuracy_score(LR_model.predict(X_train), y_train_class) * 100:.4}')\n",
    "print(f'Test Accuracy: {accuracy_score(pred, y_test_class) * 100:.4}')"
   ]
  },
  {
   "cell_type": "markdown",
   "id": "02a43e41",
   "metadata": {},
   "source": [
    "#### SGDClassifier"
   ]
  },
  {
   "cell_type": "code",
   "execution_count": null,
   "id": "6d454ad8",
   "metadata": {},
   "outputs": [],
   "source": [
    "SGDClassifier_model = SGDClassifier(loss='perceptron', penalty='l2', random_state=42)\n",
    "SGDClassifier_model.fit(X_train, y_train_class)\n",
    "pred = SGDClassifier_model.predict(X_test)"
   ]
  },
  {
   "cell_type": "code",
   "execution_count": null,
   "id": "f08c4126",
   "metadata": {},
   "outputs": [
    {
     "name": "stdout",
     "output_type": "stream",
     "text": [
      "Train Accuracy: 58.61\n",
      "Test Accuracy: 60.0\n"
     ]
    }
   ],
   "source": [
    "print(f'Train Accuracy: {accuracy_score(SGDClassifier_model.predict(X_train), y_train_class) * 100:.4}')\n",
    "print(f'Test Accuracy: {accuracy_score(pred, y_test_class) * 100:.4}')"
   ]
  },
  {
   "cell_type": "markdown",
   "id": "9c10f423",
   "metadata": {},
   "source": [
    "#### RandomForestClassifier"
   ]
  },
  {
   "cell_type": "code",
   "execution_count": null,
   "id": "2be63a23",
   "metadata": {},
   "outputs": [],
   "source": [
    "RF_model = RandomForestClassifier(n_estimators=100, criterion='gini', min_samples_leaf=7, max_depth=2, random_state=42)\n",
    "RF_model.fit(X_train, y_train_class)\n",
    "pred = RF_model.predict(X_test)"
   ]
  },
  {
   "cell_type": "code",
   "execution_count": null,
   "id": "d8c0aced",
   "metadata": {},
   "outputs": [
    {
     "name": "stdout",
     "output_type": "stream",
     "text": [
      "Train Accuracy: 70.9\n",
      "Test Accuracy: 65.71\n"
     ]
    }
   ],
   "source": [
    "print(f'Train Accuracy: {accuracy_score(RF_model.predict(X_train), y_train_class) * 100:.4}')\n",
    "print(f'Test Accuracy: {accuracy_score(pred, y_test_class) * 100:.4}')"
   ]
  },
  {
   "cell_type": "markdown",
   "id": "8ed6de42",
   "metadata": {},
   "source": [
    "#### XGBoost"
   ]
  },
  {
   "cell_type": "code",
   "execution_count": null,
   "id": "08d14d40",
   "metadata": {},
   "outputs": [
    {
     "name": "stdout",
     "output_type": "stream",
     "text": [
      "[23:50:51] WARNING: C:/Users/Administrator/workspace/xgboost-win64_release_1.5.0/src/learner.cc:1115: Starting in XGBoost 1.3.0, the default evaluation metric used with the objective 'binary:logistic' was changed from 'error' to 'logloss'. Explicitly set eval_metric if you'd like to restore the old behavior.\n"
     ]
    }
   ],
   "source": [
    "XGB_model = xg.XGBClassifier(n_estimators=100, max_depth=2, learning_rate=0.0005, use_label_encoder=False, random_state=42)\n",
    "XGB_model.fit(X_train, y_train_class)\n",
    "pred = XGB_model.predict(X_test)"
   ]
  },
  {
   "cell_type": "code",
   "execution_count": null,
   "id": "b6f04960",
   "metadata": {},
   "outputs": [
    {
     "name": "stdout",
     "output_type": "stream",
     "text": [
      "Train Accuracy: 69.26\n",
      "Test Accuracy: 61.9\n"
     ]
    }
   ],
   "source": [
    "print(f'Train Accuracy: {accuracy_score(XGB_model.predict(X_train), y_train_class) * 100:.4}')\n",
    "print(f'Test Accuracy: {accuracy_score(pred, y_test_class) * 100:.4}')"
   ]
  },
  {
   "cell_type": "markdown",
   "id": "0ac95570",
   "metadata": {},
   "source": [
    "#### CatBoost"
   ]
  },
  {
   "cell_type": "code",
   "execution_count": null,
   "id": "1cde56b7",
   "metadata": {},
   "outputs": [],
   "source": [
    "CB_model = CatBoostClassifier(learning_rate=1e-4, depth=3, random_seed=42)\n",
    "CB_model.fit(X_train, y_train_class, verbose=False)\n",
    "pred = CB_model.predict(X_test)"
   ]
  },
  {
   "cell_type": "code",
   "execution_count": null,
   "id": "82db5ebe",
   "metadata": {},
   "outputs": [
    {
     "name": "stdout",
     "output_type": "stream",
     "text": [
      "Train Accuracy: 70.08\n",
      "Test Accuracy: 63.81\n"
     ]
    }
   ],
   "source": [
    "print(f'Train Accuracy: {accuracy_score(CB_model.predict(X_train), y_train_class) * 100:.4}')\n",
    "print(f'Test Accuracy: {accuracy_score(pred, y_test_class) * 100:.4}')"
   ]
  },
  {
   "cell_type": "markdown",
   "id": "bd0c91c6",
   "metadata": {},
   "source": [
    "#### NN"
   ]
  },
  {
   "cell_type": "code",
   "execution_count": null,
   "id": "cf41f139",
   "metadata": {},
   "outputs": [],
   "source": [
    "NN_model = MLPClassifier(hidden_layer_sizes=(50, 100, 50), alpha=0, learning_rate_init=0.5,\n",
    "                         max_iter=1500, solver='adam')\n",
    "NN_model.fit(X_train, y_train_class)\n",
    "pred = NN_model.predict(X_test)"
   ]
  },
  {
   "cell_type": "code",
   "execution_count": null,
   "id": "80d053a2",
   "metadata": {},
   "outputs": [
    {
     "name": "stdout",
     "output_type": "stream",
     "text": [
      "Train Accuracy: 60.66\n",
      "Test Accuracy: 60.95\n"
     ]
    }
   ],
   "source": [
    "print(f'Train Accuracy: {accuracy_score(NN_model.predict(X_train), y_train_class) * 100:.4}')\n",
    "print(f'Test Accuracy: {accuracy_score(pred, y_test_class) * 100:.4}')"
   ]
  }
 ],
 "metadata": {
  "interpreter": {
   "hash": "2be5faf79681da6f2a61fdfdd5405d65d042280f7fba6178067603e3a2925119"
  },
  "kernelspec": {
   "display_name": "Python 3.10.0 64-bit",
   "name": "python3"
  },
  "language_info": {
   "codemirror_mode": {
    "name": "ipython",
    "version": 3
   },
   "file_extension": ".py",
   "mimetype": "text/x-python",
   "name": "python",
   "nbconvert_exporter": "python",
   "pygments_lexer": "ipython3",
   "version": "3.10.0"
  }
 },
 "nbformat": 4,
 "nbformat_minor": 5
}
