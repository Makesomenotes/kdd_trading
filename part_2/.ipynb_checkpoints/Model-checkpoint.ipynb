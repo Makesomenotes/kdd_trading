{
 "cells": [
  {
   "cell_type": "code",
   "execution_count": 1,
   "id": "60be52a4",
   "metadata": {},
   "outputs": [],
   "source": [
    "import os\n",
    "from matplotlib import pyplot as plt\n",
    "import numpy as np \n",
    "import pandas as pd \n",
    "\n",
    "import torch\n",
    "import torchvision\n",
    "import torchvision.transforms as transforms\n",
    "from PIL import Image\n",
    "from torch.utils.data import Dataset\n",
    "from torch.utils.data import DataLoader\n",
    "import torch.nn as nn\n",
    "import torch.nn.functional as F"
   ]
  },
  {
   "cell_type": "markdown",
   "id": "ba79d1cc",
   "metadata": {},
   "source": [
    "## Prepare Dataset and Dataloader"
   ]
  },
  {
   "cell_type": "code",
   "execution_count": 2,
   "id": "f197e546",
   "metadata": {},
   "outputs": [],
   "source": [
    "os.environ['KMP_DUPLICATE_LIB_OK']='True'"
   ]
  },
  {
   "cell_type": "code",
   "execution_count": 3,
   "id": "0b51dae0",
   "metadata": {},
   "outputs": [
    {
     "name": "stdout",
     "output_type": "stream",
     "text": [
      "['Black Sea Sprat', 'Gilt-Head Bream', 'Hourse Mackerel', 'Red Mullet', 'Red Sea Bream', 'Sea Bass', 'Shrimp', 'Striped Red Mullet', 'Trout']\n"
     ]
    }
   ],
   "source": [
    "data_dir = 'data/Fish_Dataset'\n",
    "\n",
    "classes = []\n",
    "\n",
    "for directory in os.listdir(data_dir):\n",
    "    if \".\" not in directory:\n",
    "        classes.append(directory)\n",
    "        \n",
    "print(classes)"
   ]
  },
  {
   "cell_type": "code",
   "execution_count": 4,
   "id": "3a6f30d3",
   "metadata": {},
   "outputs": [],
   "source": [
    "image_paths = []\n",
    "image_classes = []\n",
    "label_to_class = {}\n",
    "for i, cls in enumerate(classes):\n",
    "    label_to_class[i] = cls\n",
    "    objects = os.listdir(os.path.join(data_dir, cls, cls))\n",
    "    image_classes += len(objects) * [i]\n",
    "    image_paths.extend(os.path.join(data_dir, cls, cls, i) for i in objects)\n",
    "\n",
    "data = pd.DataFrame({'path':image_paths, 'class':image_classes})"
   ]
  },
  {
   "cell_type": "code",
   "execution_count": 5,
   "id": "3fd61acc",
   "metadata": {},
   "outputs": [
    {
     "data": {
      "text/html": [
       "<div>\n",
       "<style scoped>\n",
       "    .dataframe tbody tr th:only-of-type {\n",
       "        vertical-align: middle;\n",
       "    }\n",
       "\n",
       "    .dataframe tbody tr th {\n",
       "        vertical-align: top;\n",
       "    }\n",
       "\n",
       "    .dataframe thead th {\n",
       "        text-align: right;\n",
       "    }\n",
       "</style>\n",
       "<table border=\"1\" class=\"dataframe\">\n",
       "  <thead>\n",
       "    <tr style=\"text-align: right;\">\n",
       "      <th></th>\n",
       "      <th>path</th>\n",
       "      <th>class</th>\n",
       "    </tr>\n",
       "  </thead>\n",
       "  <tbody>\n",
       "    <tr>\n",
       "      <th>0</th>\n",
       "      <td>data/Fish_Dataset\\Black Sea Sprat\\Black Sea Sp...</td>\n",
       "      <td>0</td>\n",
       "    </tr>\n",
       "    <tr>\n",
       "      <th>1</th>\n",
       "      <td>data/Fish_Dataset\\Black Sea Sprat\\Black Sea Sp...</td>\n",
       "      <td>0</td>\n",
       "    </tr>\n",
       "    <tr>\n",
       "      <th>2</th>\n",
       "      <td>data/Fish_Dataset\\Black Sea Sprat\\Black Sea Sp...</td>\n",
       "      <td>0</td>\n",
       "    </tr>\n",
       "  </tbody>\n",
       "</table>\n",
       "</div>"
      ],
      "text/plain": [
       "                                                path  class\n",
       "0  data/Fish_Dataset\\Black Sea Sprat\\Black Sea Sp...      0\n",
       "1  data/Fish_Dataset\\Black Sea Sprat\\Black Sea Sp...      0\n",
       "2  data/Fish_Dataset\\Black Sea Sprat\\Black Sea Sp...      0"
      ]
     },
     "execution_count": 5,
     "metadata": {},
     "output_type": "execute_result"
    }
   ],
   "source": [
    "data.head(3)"
   ]
  },
  {
   "cell_type": "code",
   "execution_count": 6,
   "id": "fb03caf1",
   "metadata": {},
   "outputs": [],
   "source": [
    "transform = transforms.Compose([\n",
    "        transforms.Resize((224, 224)),\n",
    "        transforms.ToTensor(),\n",
    "        transforms.Normalize(mean=(0.5, 0.5, 0.5),std=(0.5, 0.5, 0.5))\n",
    "    ])"
   ]
  },
  {
   "cell_type": "code",
   "execution_count": 7,
   "id": "e6015370",
   "metadata": {},
   "outputs": [],
   "source": [
    "class MarketFishDataset(Dataset):\n",
    "    def __init__(self, data, root_dir, transform=transforms.ToTensor()):\n",
    "        self.data = data\n",
    "        self.root_dir = root_dir\n",
    "        self.transform = transform\n",
    "    \n",
    "    def __len__(self):\n",
    "        return len(self.data)\n",
    "    \n",
    "    def __getitem__(self, idx):\n",
    "        if torch.is_tensor(idx):\n",
    "            idx = idx.tolist()\n",
    "        \n",
    "        img_name = self.data.iloc[idx, 0]\n",
    "        image = Image.open(img_name)\n",
    "        y_label = torch.tensor(self.data.iloc[idx, 1])\n",
    "        \n",
    "        if self.transform:\n",
    "            image = self.transform(image)\n",
    "    \n",
    "        return (image, y_label)"
   ]
  },
  {
   "cell_type": "code",
   "execution_count": 8,
   "id": "0f74ad08",
   "metadata": {},
   "outputs": [],
   "source": [
    "dataset = MarketFishDataset(\n",
    "    data=data,\n",
    "    root_dir=data_dir,\n",
    "    transform=transform\n",
    ")"
   ]
  },
  {
   "cell_type": "code",
   "execution_count": 9,
   "id": "de55c66f",
   "metadata": {},
   "outputs": [
    {
     "name": "stderr",
     "output_type": "stream",
     "text": [
      "Clipping input data to the valid range for imshow with RGB data ([0..1] for floats or [0..255] for integers).\n"
     ]
    },
    {
     "data": {
      "image/png": "[encoded data removed]",
      "text/plain": [
       "<Figure size 432x432 with 1 Axes>"
      ]
     },
     "metadata": {
      "needs_background": "light"
     },
     "output_type": "display_data"
    }
   ],
   "source": [
    "img, lab = dataset[4100]\n",
    "plt.figure(figsize=(6, 6))\n",
    "plt.imshow(img.numpy().transpose((1, 2, 0)))\n",
    "plt.title(label_to_class[int(lab)])\n",
    "plt.axis('off')\n",
    "plt.show()"
   ]
  },
  {
   "cell_type": "code",
   "execution_count": 10,
   "id": "6a4bc556",
   "metadata": {},
   "outputs": [
    {
     "name": "stdout",
     "output_type": "stream",
     "text": [
      "Dataset size 9000\n"
     ]
    }
   ],
   "source": [
    "size = len(dataset)\n",
    "print(f'Dataset size {size}')"
   ]
  },
  {
   "cell_type": "code",
   "execution_count": 11,
   "id": "8c2a78b8",
   "metadata": {},
   "outputs": [],
   "source": [
    "batch_size = 32\n",
    "train_size = int(size * 0.8)\n",
    "test_size = size - train_size\n",
    "train_set, test_set = torch.utils.data.random_split(dataset, [train_size, test_size])\n",
    "train_loader = DataLoader(dataset=train_set,\n",
    "                          batch_size=batch_size,\n",
    "                          shuffle=True)\n",
    "test_loader = DataLoader(dataset=test_set,\n",
    "                         batch_size=batch_size,\n",
    "                         shuffle=True)"
   ]
  },
  {
   "cell_type": "code",
   "execution_count": 12,
   "id": "11878dff",
   "metadata": {},
   "outputs": [
    {
     "name": "stdout",
     "output_type": "stream",
     "text": [
      "Image batch size: torch.Size([32, 3, 224, 224])\n",
      "Label batch size: torch.Size([32])\n"
     ]
    }
   ],
   "source": [
    "batch_example = next(iter(train_loader))\n",
    "print(f'Image batch size: {batch_example[0].shape}')\n",
    "print(f'Label batch size: {batch_example[1].shape}')"
   ]
  },
  {
   "cell_type": "markdown",
   "id": "68a54f57",
   "metadata": {},
   "source": [
    "## Creating the Neural Network"
   ]
  },
  {
   "cell_type": "code",
   "execution_count": 13,
   "id": "5bf8fa00",
   "metadata": {},
   "outputs": [],
   "source": [
    "class CNN(nn.Module):\n",
    "    def __init__(self, in_dim, out_dim):\n",
    "        super(CNN, self).__init__()\n",
    "        self.out_dim = out_dim\n",
    "        \n",
    "        self.convs = nn.Sequential(\n",
    "            nn.Conv2d(in_dim, 8, 8, stride=4, padding=0),\n",
    "            nn.ReLU(),\n",
    "            nn.Conv2d(8, 16, 5, stride=2, padding=0),\n",
    "            nn.ReLU(),\n",
    "            nn.Conv2d(16, 32, 5, stride=1, padding=0),\n",
    "            nn.ReLU()\n",
    "        )\n",
    "        \n",
    "        self.linear1 = nn.Linear(22 * 22 * 32, 64)\n",
    "        self.linear2 = nn.Linear(64, out_dim)\n",
    "    \n",
    "    def forward(self, x):\n",
    "        conv = self.convs(x)\n",
    "        flattened = conv.reshape(-1, 22 * 22 * 32)\n",
    "        linera1 = F.relu(self.q1(flattened))\n",
    "        out = self.linear2(flattened)\n",
    "        return out"
   ]
  },
  {
   "cell_type": "code",
   "execution_count": 14,
   "id": "1b7f0932",
   "metadata": {},
   "outputs": [],
   "source": [
    "DEVICE = torch.device(\"cuda\" if torch.cuda.is_available() else \"cpu\")"
   ]
  },
  {
   "cell_type": "code",
   "execution_count": 49,
   "id": "a9e3f8aa",
   "metadata": {},
   "outputs": [],
   "source": [
    "input_dim = dataset[0][0].shape[0] # number of channels (RGB - 3)\n",
    "output_dim = len(classes) # number of classes\n",
    "model = CNN(input_dim, output_dim).to(DEVICE)\n",
    "\n",
    "loss_nn = nn.CrossEntropyLoss()\n",
    "learning_rate = 3e-4\n",
    "optimizer_nn = torch.optim.Adam(model.parameters(), lr=learning_rate)"
   ]
  },
  {
   "cell_type": "code",
   "execution_count": 52,
   "id": "60b436b8",
   "metadata": {},
   "outputs": [
    {
     "data": {
      "text/plain": [
       "False"
      ]
     },
     "execution_count": 52,
     "metadata": {},
     "output_type": "execute_result"
    }
   ],
   "source": [
    "epochs = 10\n",
    "iterations = 0\n",
    "loss_list = []\n",
    "iteration_list = []\n",
    "accuracy_list = []\n",
    "\n",
    "for epoch in range(epochs):\n",
    "    model.train()\n",
    "    for images, labels in train_loader:\n",
    "        images, labels = images.to(device), labels.to(device)\n",
    "        \n",
    "        train = Variable(images.view(batch_size, 3, 224, 224))\n",
    "        labels = Variable(labels)\n",
    "        \n",
    "        outputs = model(train)\n",
    "        loss = loss_nn(outputs, labels)\n",
    "        \n",
    "        predictions = torch.max(outputs, 1)[1].to(device)\n",
    "    \n",
    "        optimizer_nn.zero_grad()\n",
    "        \n",
    "        loss.backward()\n",
    "        \n",
    "        optimizer_nn.step()\n",
    "        \n",
    "        iterations += 1\n",
    "        \n",
    "        if iterations % 50 == 0:\n",
    "            corrects = 0\n",
    "            total = 0\n",
    "            \n",
    "            for images, labels in test_loader:\n",
    "\n",
    "                images, labels = images.to(device), labels.to(device)\n",
    "\n",
    "                test = Variable(images.view(batch_size, 3, 224, 224))\n",
    "\n",
    "                outputs = model(test)\n",
    "\n",
    "                predict = torch.max(outputs.data, 1)[1].to(device)\n",
    "\n",
    "                total += len(labels)\n",
    "\n",
    "                corrects += (predict == labels).sum()\n",
    "        \n",
    "            acuracy = 100 * corrects / float(total)\n",
    "\n",
    "            loss_list.append(loss.data)\n",
    "            iteration_list.append(iterations)\n",
    "\n",
    "    print(f\"Epoch: {epoch+1} | Loss: {loss.data} | Acuracy: {acuracy}\")\n",
    "    "
   ]
  },
  {
   "cell_type": "code",
   "execution_count": null,
   "id": "75a9bd10",
   "metadata": {},
   "outputs": [],
   "source": []
  },
  {
   "cell_type": "code",
   "execution_count": null,
   "id": "1821edce",
   "metadata": {},
   "outputs": [],
   "source": []
  },
  {
   "cell_type": "code",
   "execution_count": 41,
   "id": "2eeb41ba",
   "metadata": {},
   "outputs": [
    {
     "data": {
      "text/plain": [
       "torch.Size([32])"
      ]
     },
     "execution_count": 41,
     "metadata": {},
     "output_type": "execute_result"
    }
   ],
   "source": [
    "batch[1].shape"
   ]
  },
  {
   "cell_type": "code",
   "execution_count": null,
   "id": "c3e7addb",
   "metadata": {},
   "outputs": [],
   "source": []
  },
  {
   "cell_type": "code",
   "execution_count": null,
   "id": "e5373964",
   "metadata": {},
   "outputs": [],
   "source": []
  },
  {
   "cell_type": "code",
   "execution_count": null,
   "id": "83cbb697",
   "metadata": {},
   "outputs": [],
   "source": []
  },
  {
   "cell_type": "code",
   "execution_count": null,
   "id": "791be413",
   "metadata": {},
   "outputs": [],
   "source": []
  },
  {
   "cell_type": "code",
   "execution_count": null,
   "id": "95fcf253",
   "metadata": {},
   "outputs": [],
   "source": []
  },
  {
   "cell_type": "code",
   "execution_count": null,
   "id": "a3ade62c",
   "metadata": {},
   "outputs": [],
   "source": []
  },
  {
   "cell_type": "code",
   "execution_count": null,
   "id": "75a90cd4",
   "metadata": {},
   "outputs": [],
   "source": []
  },
  {
   "cell_type": "code",
   "execution_count": null,
   "id": "96656b24",
   "metadata": {},
   "outputs": [],
   "source": []
  },
  {
   "cell_type": "code",
   "execution_count": null,
   "id": "f17866fc",
   "metadata": {},
   "outputs": [],
   "source": []
  },
  {
   "cell_type": "code",
   "execution_count": null,
   "id": "c276cd99",
   "metadata": {},
   "outputs": [],
   "source": []
  },
  {
   "cell_type": "code",
   "execution_count": 22,
   "id": "1f81b0b7",
   "metadata": {},
   "outputs": [
    {
     "data": {
      "text/html": [
       "<div>\n",
       "<style scoped>\n",
       "    .dataframe tbody tr th:only-of-type {\n",
       "        vertical-align: middle;\n",
       "    }\n",
       "\n",
       "    .dataframe tbody tr th {\n",
       "        vertical-align: top;\n",
       "    }\n",
       "\n",
       "    .dataframe thead th {\n",
       "        text-align: right;\n",
       "    }\n",
       "</style>\n",
       "<table border=\"1\" class=\"dataframe\">\n",
       "  <thead>\n",
       "    <tr style=\"text-align: right;\">\n",
       "      <th></th>\n",
       "      <th>path</th>\n",
       "      <th>class</th>\n",
       "    </tr>\n",
       "  </thead>\n",
       "  <tbody>\n",
       "    <tr>\n",
       "      <th>0</th>\n",
       "      <td>data/Fish_Dataset\\Black Sea Sprat\\Black Sea Sp...</td>\n",
       "      <td>Black Sea Sprat</td>\n",
       "    </tr>\n",
       "    <tr>\n",
       "      <th>1</th>\n",
       "      <td>data/Fish_Dataset\\Black Sea Sprat\\Black Sea Sp...</td>\n",
       "      <td>Black Sea Sprat</td>\n",
       "    </tr>\n",
       "    <tr>\n",
       "      <th>2</th>\n",
       "      <td>data/Fish_Dataset\\Black Sea Sprat\\Black Sea Sp...</td>\n",
       "      <td>Black Sea Sprat</td>\n",
       "    </tr>\n",
       "    <tr>\n",
       "      <th>3</th>\n",
       "      <td>data/Fish_Dataset\\Black Sea Sprat\\Black Sea Sp...</td>\n",
       "      <td>Black Sea Sprat</td>\n",
       "    </tr>\n",
       "    <tr>\n",
       "      <th>4</th>\n",
       "      <td>data/Fish_Dataset\\Black Sea Sprat\\Black Sea Sp...</td>\n",
       "      <td>Black Sea Sprat</td>\n",
       "    </tr>\n",
       "    <tr>\n",
       "      <th>...</th>\n",
       "      <td>...</td>\n",
       "      <td>...</td>\n",
       "    </tr>\n",
       "    <tr>\n",
       "      <th>8995</th>\n",
       "      <td>data/Fish_Dataset\\Trout\\Trout\\00996.png</td>\n",
       "      <td>Trout</td>\n",
       "    </tr>\n",
       "    <tr>\n",
       "      <th>8996</th>\n",
       "      <td>data/Fish_Dataset\\Trout\\Trout\\00997.png</td>\n",
       "      <td>Trout</td>\n",
       "    </tr>\n",
       "    <tr>\n",
       "      <th>8997</th>\n",
       "      <td>data/Fish_Dataset\\Trout\\Trout\\00998.png</td>\n",
       "      <td>Trout</td>\n",
       "    </tr>\n",
       "    <tr>\n",
       "      <th>8998</th>\n",
       "      <td>data/Fish_Dataset\\Trout\\Trout\\00999.png</td>\n",
       "      <td>Trout</td>\n",
       "    </tr>\n",
       "    <tr>\n",
       "      <th>8999</th>\n",
       "      <td>data/Fish_Dataset\\Trout\\Trout\\01000.png</td>\n",
       "      <td>Trout</td>\n",
       "    </tr>\n",
       "  </tbody>\n",
       "</table>\n",
       "<p>9000 rows × 2 columns</p>\n",
       "</div>"
      ],
      "text/plain": [
       "                                                   path            class\n",
       "0     data/Fish_Dataset\\Black Sea Sprat\\Black Sea Sp...  Black Sea Sprat\n",
       "1     data/Fish_Dataset\\Black Sea Sprat\\Black Sea Sp...  Black Sea Sprat\n",
       "2     data/Fish_Dataset\\Black Sea Sprat\\Black Sea Sp...  Black Sea Sprat\n",
       "3     data/Fish_Dataset\\Black Sea Sprat\\Black Sea Sp...  Black Sea Sprat\n",
       "4     data/Fish_Dataset\\Black Sea Sprat\\Black Sea Sp...  Black Sea Sprat\n",
       "...                                                 ...              ...\n",
       "8995            data/Fish_Dataset\\Trout\\Trout\\00996.png            Trout\n",
       "8996            data/Fish_Dataset\\Trout\\Trout\\00997.png            Trout\n",
       "8997            data/Fish_Dataset\\Trout\\Trout\\00998.png            Trout\n",
       "8998            data/Fish_Dataset\\Trout\\Trout\\00999.png            Trout\n",
       "8999            data/Fish_Dataset\\Trout\\Trout\\01000.png            Trout\n",
       "\n",
       "[9000 rows x 2 columns]"
      ]
     },
     "execution_count": 22,
     "metadata": {},
     "output_type": "execute_result"
    }
   ],
   "source": [
    "data"
   ]
  },
  {
   "cell_type": "code",
   "execution_count": 9,
   "id": "33337e85",
   "metadata": {},
   "outputs": [],
   "source": [
    "import PIL\n",
    "import torch\n",
    "import torchvision\n",
    "import torchvision.transforms as transforms"
   ]
  },
  {
   "cell_type": "code",
   "execution_count": null,
   "id": "ca4b6a07",
   "metadata": {},
   "outputs": [],
   "source": []
  }
 ],
 "metadata": {
  "kernelspec": {
   "display_name": "Python 3",
   "language": "python",
   "name": "python3"
  },
  "language_info": {
   "codemirror_mode": {
    "name": "ipython",
    "version": 3
   },
   "file_extension": ".py",
   "mimetype": "text/x-python",
   "name": "python",
   "nbconvert_exporter": "python",
   "pygments_lexer": "ipython3",
   "version": "3.8.8"
  }
 },
 "nbformat": 4,
 "nbformat_minor": 5
}
