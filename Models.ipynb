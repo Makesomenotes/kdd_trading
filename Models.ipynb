{
 "cells": [
  {
   "cell_type": "code",
   "execution_count": 75,
   "id": "866a5ad7",
   "metadata": {},
   "outputs": [],
   "source": [
    "import typing\n",
    "import pandas as pd\n",
    "import xgboost as xg\n",
    "from sklearn.model_selection import train_test_split\n",
    "from sklearn.linear_model import LinearRegression, Ridge, SGDRegressor\n",
    "from sklearn.ensemble import RandomForestRegressor\n",
    "from sklearn.metrics import mean_squared_error\n",
    "from sklearn.model_selection import GridSearchCV\n",
    "from catboost import CatBoostRegressor"
   ]
  },
  {
   "cell_type": "code",
   "execution_count": 76,
   "id": "f0a4477d",
   "metadata": {},
   "outputs": [],
   "source": [
    "data = pd.read_csv('data/financial_data.csv', index_col=0)\n",
    "data = data.drop(['price_to_sales', 'target', 'SP_target'], axis=1)\n",
    "data = data.dropna()\n",
    "\n",
    "data_groups = pd.read_csv('data/S&P500-Info.csv', index_col=0)\n",
    "merged = data.merge(data_groups[['Symbol', 'GICS Sector']], left_index=True, right_on='Symbol')\n",
    "X = merged.drop('Symbol', axis=1).drop('regression_target', axis=1)\n",
    "target = merged.regression_target"
   ]
  },
  {
   "cell_type": "code",
   "execution_count": 77,
   "id": "309b576b",
   "metadata": {},
   "outputs": [],
   "source": [
    "X_train_df, X_test_df, y_train, y_test = train_test_split(X, target.values, test_size=0.3, random_state=42)"
   ]
  },
  {
   "cell_type": "code",
   "execution_count": 78,
   "id": "32c9e0e6",
   "metadata": {},
   "outputs": [],
   "source": [
    "X_train = X_train_df.groupby('GICS Sector').transform(lambda x: (x - x.mean()) / x.std()).values\n",
    "X_test_mean = X_test_df.merge(X_train_df.groupby('GICS Sector').mean(), left_on='GICS Sector', right_index=True)\n",
    "X_test_mean_std = X_test_mean.merge(X_train_df.groupby('GICS Sector').std(), left_on='GICS Sector', right_index=True)\n",
    "X_test_mean_std = X_test_mean_std.drop('GICS Sector', axis=1)\n",
    "X_test = (X_test_mean_std.iloc[:, :9].values - X_test_mean_std.iloc[:, 9:18].values)/X_test_mean_std.iloc[:, 18:].values"
   ]
  },
  {
   "cell_type": "markdown",
   "id": "c6b4fcdc",
   "metadata": {},
   "source": [
    "# Regression "
   ]
  },
  {
   "cell_type": "markdown",
   "id": "49180336",
   "metadata": {},
   "source": [
    "#### LinearRegression"
   ]
  },
  {
   "cell_type": "code",
   "execution_count": 6,
   "id": "b9a55419",
   "metadata": {},
   "outputs": [],
   "source": [
    "reg_model = LinearRegression()\n",
    "reg_model.fit(X_train, y_train)\n",
    "pred = reg_model.predict(X_test)"
   ]
  },
  {
   "cell_type": "code",
   "execution_count": 7,
   "id": "2d94cf27",
   "metadata": {},
   "outputs": [
    {
     "name": "stdout",
     "output_type": "stream",
     "text": [
      "Train MSE: 0.028117\n",
      "Test MSE: 0.052553\n"
     ]
    }
   ],
   "source": [
    "print(f'Train MSE: {mean_squared_error(reg_model.predict(X_train), y_train):.5}')\n",
    "print(f'Test MSE: {mean_squared_error(pred, y_test):.5}')"
   ]
  },
  {
   "cell_type": "markdown",
   "id": "023d8a62",
   "metadata": {},
   "source": [
    "#### Ridge"
   ]
  },
  {
   "cell_type": "code",
   "execution_count": 8,
   "id": "cd738a6a",
   "metadata": {},
   "outputs": [],
   "source": [
    "ridge_model = Ridge(alpha=2.0)\n",
    "ridge_model.fit(X_train, y_train)\n",
    "pred = ridge_model.predict(X_test)"
   ]
  },
  {
   "cell_type": "code",
   "execution_count": 9,
   "id": "393535ff",
   "metadata": {},
   "outputs": [
    {
     "name": "stdout",
     "output_type": "stream",
     "text": [
      "Train MSE: 0.028117\n",
      "Test MSE: 0.052999\n"
     ]
    }
   ],
   "source": [
    "print(f'Train MSE: {mean_squared_error(ridge_model.predict(X_train), y_train):.5}')\n",
    "print(f'Test MSE: {mean_squared_error(pred, y_test):.5}')"
   ]
  },
  {
   "cell_type": "markdown",
   "id": "814d1c90",
   "metadata": {},
   "source": [
    "#### SGDRegressor - l2"
   ]
  },
  {
   "cell_type": "code",
   "execution_count": 10,
   "id": "4b6cb502",
   "metadata": {},
   "outputs": [],
   "source": [
    "SGD_model_l2 = SGDRegressor(loss='squared_loss', penalty='l2', alpha=20.0, random_state=42)\n",
    "SGD_model_l2.fit(X_train, y_train)\n",
    "pred = SGD_model_l2.predict(X_test)"
   ]
  },
  {
   "cell_type": "code",
   "execution_count": 11,
   "id": "d451779e",
   "metadata": {},
   "outputs": [
    {
     "name": "stdout",
     "output_type": "stream",
     "text": [
      "Train MSE: 0.031143\n",
      "Test MSE: 0.03138\n"
     ]
    }
   ],
   "source": [
    "print(f'Train MSE: {mean_squared_error(SGD_model_l2.predict(X_train), y_train):.5}')\n",
    "print(f'Test MSE: {mean_squared_error(pred, y_test):.5}')"
   ]
  },
  {
   "cell_type": "markdown",
   "id": "a75f535f",
   "metadata": {},
   "source": [
    "#### SGDRegressor - l1"
   ]
  },
  {
   "cell_type": "code",
   "execution_count": 12,
   "id": "8085d414",
   "metadata": {},
   "outputs": [],
   "source": [
    "SGD_model_l1 = SGDRegressor(loss='squared_loss', penalty='l1', alpha=2.0, random_state=42)\n",
    "SGD_model_l1.fit(X_train, y_train)\n",
    "pred = SGD_model_l1.predict(X_test)"
   ]
  },
  {
   "cell_type": "code",
   "execution_count": 13,
   "id": "ae0f0005",
   "metadata": {},
   "outputs": [
    {
     "name": "stdout",
     "output_type": "stream",
     "text": [
      "Train MSE: 0.031935\n",
      "Test MSE: 0.031524\n"
     ]
    }
   ],
   "source": [
    "print(f'Train MSE: {mean_squared_error(SGD_model_l1.predict(X_train), y_train):.5}')\n",
    "print(f'Test MSE: {mean_squared_error(pred, y_test):.5}')"
   ]
  },
  {
   "cell_type": "markdown",
   "id": "83ab0d1f",
   "metadata": {},
   "source": [
    "#### RandomForestRegressor"
   ]
  },
  {
   "cell_type": "code",
   "execution_count": 14,
   "id": "211e1e7f",
   "metadata": {},
   "outputs": [],
   "source": [
    "RF = RandomForestRegressor(criterion='mae', n_estimators=100, min_samples_leaf=1, max_depth=2)\n",
    "RF.fit(X_train, y_train)\n",
    "pred = RF.predict(X_test)"
   ]
  },
  {
   "cell_type": "code",
   "execution_count": 15,
   "id": "8f307bb0",
   "metadata": {},
   "outputs": [
    {
     "name": "stdout",
     "output_type": "stream",
     "text": [
      "Train MAE: 0.023891\n",
      "Test MAE: 0.033057\n"
     ]
    }
   ],
   "source": [
    "print(f'Train MAE: {mean_squared_error(RF.predict(X_train), y_train):.5}')\n",
    "print(f'Test MAE: {mean_squared_error(pred, y_test):.5}')"
   ]
  },
  {
   "cell_type": "code",
   "execution_count": 16,
   "id": "9a734689",
   "metadata": {},
   "outputs": [],
   "source": [
    "RF = RandomForestRegressor(criterion='mse', n_estimators=150, min_samples_leaf=1, max_depth=2)\n",
    "RF.fit(X_train, y_train)\n",
    "pred = RF.predict(X_test)"
   ]
  },
  {
   "cell_type": "code",
   "execution_count": 17,
   "id": "d4093eb0",
   "metadata": {},
   "outputs": [
    {
     "name": "stdout",
     "output_type": "stream",
     "text": [
      "Train MSE: 0.023479\n",
      "Test MSE: 0.032268\n"
     ]
    }
   ],
   "source": [
    "print(f'Train MSE: {mean_squared_error(RF.predict(X_train), y_train):.5}')\n",
    "print(f'Test MSE: {mean_squared_error(pred, y_test):.5}')"
   ]
  },
  {
   "cell_type": "markdown",
   "id": "23aa7cf3",
   "metadata": {},
   "source": [
    "#### XGBoost"
   ]
  },
  {
   "cell_type": "code",
   "execution_count": 18,
   "id": "bcddfa5a",
   "metadata": {},
   "outputs": [],
   "source": [
    "XGB_model = xg.XGBRegressor(objective ='reg:squarederror', n_estimators=50, max_depth=1, learning_rate=0.05, seed=42)\n",
    "XGB_model.fit(X_train, y_train)\n",
    "pred = XGB_model.predict(X_test)"
   ]
  },
  {
   "cell_type": "code",
   "execution_count": 19,
   "id": "eebb3ea9",
   "metadata": {},
   "outputs": [
    {
     "name": "stdout",
     "output_type": "stream",
     "text": [
      "Train MSE: 0.025938\n",
      "Test MSE: 0.033233\n"
     ]
    }
   ],
   "source": [
    "print(f'Train MSE: {mean_squared_error(XGB_model.predict(X_train), y_train):.5}')\n",
    "print(f'Test MSE: {mean_squared_error(pred, y_test):.5}')"
   ]
  },
  {
   "cell_type": "markdown",
   "id": "a8c5171b",
   "metadata": {},
   "source": [
    "#### CatBoost"
   ]
  },
  {
   "cell_type": "code",
   "execution_count": 80,
   "id": "69a2f108",
   "metadata": {},
   "outputs": [],
   "source": [
    "CB_model = CatBoostRegressor(learning_rate=1e-5, loss_function='MAE', depth=2, random_seed=42)\n",
    "CB_model.fit(X_train, y_train, verbose=False)\n",
    "pred = CB_model.predict(X_test)"
   ]
  },
  {
   "cell_type": "code",
   "execution_count": 81,
   "id": "649ebd91",
   "metadata": {},
   "outputs": [
    {
     "name": "stdout",
     "output_type": "stream",
     "text": [
      "Train MSE: 0.031839\n",
      "Test MSE: 0.031351\n"
     ]
    }
   ],
   "source": [
    "print(f'Train MSE: {mean_squared_error(CB_model.predict(X_train), y_train):.5}')\n",
    "print(f'Test MSE: {mean_squared_error(pred, y_test):.5}')"
   ]
  },
  {
   "cell_type": "code",
   "execution_count": 82,
   "id": "348a024c",
   "metadata": {},
   "outputs": [],
   "source": [
    "CB_model = CatBoostRegressor(learning_rate=1e-5, loss_function='RMSE', depth=2, random_seed=42)\n",
    "CB_model.fit(X_train, y_train, verbose=False)\n",
    "pred = CB_model.predict(X_test)"
   ]
  },
  {
   "cell_type": "code",
   "execution_count": 83,
   "id": "f74f4c24",
   "metadata": {},
   "outputs": [
    {
     "name": "stdout",
     "output_type": "stream",
     "text": [
      "Train MSE: 0.03183\n",
      "Test MSE: 0.031375\n"
     ]
    }
   ],
   "source": [
    "print(f'Train MSE: {mean_squared_error(CB_model.predict(X_train), y_train):.5}')\n",
    "print(f'Test MSE: {mean_squared_error(pred, y_test):.5}')"
   ]
  }
 ],
 "metadata": {
  "kernelspec": {
   "display_name": "Python 3",
   "language": "python",
   "name": "python3"
  },
  "language_info": {
   "codemirror_mode": {
    "name": "ipython",
    "version": 3
   },
   "file_extension": ".py",
   "mimetype": "text/x-python",
   "name": "python",
   "nbconvert_exporter": "python",
   "pygments_lexer": "ipython3",
   "version": "3.8.8"
  }
 },
 "nbformat": 4,
 "nbformat_minor": 5
}
