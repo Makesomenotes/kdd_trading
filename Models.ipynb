{
 "cells": [
  {
   "cell_type": "code",
   "execution_count": 282,
   "id": "866a5ad7",
   "metadata": {},
   "outputs": [],
   "source": [
    "import pandas as pd\n",
    "import xgboost as xg\n",
    "from sklearn.model_selection import train_test_split\n",
    "from sklearn.linear_model import LinearRegression, Ridge, Lasso, ElasticNet, SGDRegressor, LogisticRegression, SGDClassifier\n",
    "from sklearn.ensemble import RandomForestRegressor, RandomForestClassifier\n",
    "from sklearn.neural_network import MLPRegressor, MLPClassifier\n",
    "from sklearn.metrics import mean_squared_error, accuracy_score\n",
    "from sklearn.model_selection import GridSearchCV\n",
    "from catboost import CatBoostRegressor, CatBoostClassifier"
   ]
  },
  {
   "cell_type": "code",
   "execution_count": 2,
   "id": "f0a4477d",
   "metadata": {},
   "outputs": [],
   "source": [
    "data = pd.read_csv('data/financial_data.csv', index_col=0)\n",
    "data = data.drop(['price_to_sales', 'target'], axis=1)\n",
    "data = data.dropna()\n",
    "\n",
    "data_groups = pd.read_csv('data/S&P500-Info.csv', index_col=0)\n",
    "merged = data.merge(data_groups[['Symbol', 'GICS Sector']], left_index=True, right_on='Symbol')\n",
    "X = merged.drop('Symbol', axis=1).drop(['regression_target', 'SP_target'], axis=1)\n",
    "target_reg = merged.regression_target\n",
    "target_class = merged.SP_target * 1"
   ]
  },
  {
   "cell_type": "code",
   "execution_count": 3,
   "id": "309b576b",
   "metadata": {},
   "outputs": [],
   "source": [
    "X_train_df, X_test_df, y_train_reg, y_test_reg = train_test_split(X, target_reg.values, test_size=0.3, random_state=42)\n",
    "_, _, y_train_class, y_test_class = train_test_split(X, target_class.values, test_size=0.3, random_state=42)"
   ]
  },
  {
   "cell_type": "code",
   "execution_count": 4,
   "id": "32c9e0e6",
   "metadata": {},
   "outputs": [],
   "source": [
    "X_train = X_train_df.groupby('GICS Sector').transform(lambda x: (x - x.mean()) / x.std()).values\n",
    "X_test_mean = X_test_df.merge(X_train_df.groupby('GICS Sector').mean(), left_on='GICS Sector', right_index=True)\n",
    "X_test_mean_std = X_test_mean.merge(X_train_df.groupby('GICS Sector').std(), left_on='GICS Sector', right_index=True)\n",
    "X_test_mean_std = X_test_mean_std.drop('GICS Sector', axis=1)\n",
    "X_test = (X_test_mean_std.iloc[:, :9].values - X_test_mean_std.iloc[:, 9:18].values)/X_test_mean_std.iloc[:, 18:].values"
   ]
  },
  {
   "cell_type": "markdown",
   "id": "c6b4fcdc",
   "metadata": {},
   "source": [
    "# Regression "
   ]
  },
  {
   "cell_type": "markdown",
   "id": "49180336",
   "metadata": {},
   "source": [
    "#### LinearRegression"
   ]
  },
  {
   "cell_type": "code",
   "execution_count": 5,
   "id": "b9a55419",
   "metadata": {},
   "outputs": [],
   "source": [
    "reg_model = LinearRegression()\n",
    "reg_model.fit(X_train, y_train_reg)\n",
    "pred = reg_model.predict(X_test)"
   ]
  },
  {
   "cell_type": "code",
   "execution_count": 6,
   "id": "2d94cf27",
   "metadata": {},
   "outputs": [
    {
     "name": "stdout",
     "output_type": "stream",
     "text": [
      "Train MSE: 0.028117\n",
      "Test MSE: 0.052553\n"
     ]
    }
   ],
   "source": [
    "print(f'Train MSE: {mean_squared_error(reg_model.predict(X_train), y_train_reg):.5}')\n",
    "print(f'Test MSE: {mean_squared_error(pred, y_test_reg):.5}')"
   ]
  },
  {
   "cell_type": "markdown",
   "id": "023d8a62",
   "metadata": {},
   "source": [
    "#### Ridge"
   ]
  },
  {
   "cell_type": "code",
   "execution_count": 7,
   "id": "cd738a6a",
   "metadata": {},
   "outputs": [],
   "source": [
    "ridge_model = Ridge(alpha=2.0, random_state=42)\n",
    "ridge_model.fit(X_train, y_train_reg)\n",
    "pred = ridge_model.predict(X_test)"
   ]
  },
  {
   "cell_type": "code",
   "execution_count": 8,
   "id": "393535ff",
   "metadata": {},
   "outputs": [
    {
     "name": "stdout",
     "output_type": "stream",
     "text": [
      "Train MSE: 0.028117\n",
      "Test MSE: 0.052999\n"
     ]
    }
   ],
   "source": [
    "print(f'Train MSE: {mean_squared_error(ridge_model.predict(X_train), y_train_reg):.5}')\n",
    "print(f'Test MSE: {mean_squared_error(pred, y_test_reg):.5}')"
   ]
  },
  {
   "cell_type": "markdown",
   "id": "a59853ee",
   "metadata": {},
   "source": [
    "#### Lasso"
   ]
  },
  {
   "cell_type": "code",
   "execution_count": 9,
   "id": "2507a93d",
   "metadata": {},
   "outputs": [],
   "source": [
    "lasso_model = Lasso(alpha=2.0, random_state=42)\n",
    "lasso_model.fit(X_train, y_train_reg)\n",
    "pred = lasso_model.predict(X_test)"
   ]
  },
  {
   "cell_type": "code",
   "execution_count": 10,
   "id": "c96e7481",
   "metadata": {},
   "outputs": [
    {
     "name": "stdout",
     "output_type": "stream",
     "text": [
      "Train MSE: 0.031893\n",
      "Test MSE: 0.031381\n"
     ]
    }
   ],
   "source": [
    "print(f'Train MSE: {mean_squared_error(lasso_model.predict(X_train), y_train_reg):.5}')\n",
    "print(f'Test MSE: {mean_squared_error(pred, y_test_reg):.5}')"
   ]
  },
  {
   "cell_type": "markdown",
   "id": "c3cb03a0",
   "metadata": {},
   "source": [
    "#### ElasticNet"
   ]
  },
  {
   "cell_type": "code",
   "execution_count": 11,
   "id": "15cd182d",
   "metadata": {},
   "outputs": [],
   "source": [
    "elastic_model = ElasticNet(alpha=2.0, random_state=42)\n",
    "elastic_model.fit(X_train, y_train_reg)\n",
    "pred = elastic_model.predict(X_test)"
   ]
  },
  {
   "cell_type": "code",
   "execution_count": 12,
   "id": "1bd5da40",
   "metadata": {},
   "outputs": [
    {
     "name": "stdout",
     "output_type": "stream",
     "text": [
      "Train MSE: 0.031893\n",
      "Test MSE: 0.031381\n"
     ]
    }
   ],
   "source": [
    "print(f'Train MSE: {mean_squared_error(elastic_model.predict(X_train), y_train_reg):.5}')\n",
    "print(f'Test MSE: {mean_squared_error(pred, y_test_reg):.5}')"
   ]
  },
  {
   "cell_type": "markdown",
   "id": "814d1c90",
   "metadata": {},
   "source": [
    "#### SGDRegressor - l2"
   ]
  },
  {
   "cell_type": "code",
   "execution_count": 13,
   "id": "4b6cb502",
   "metadata": {},
   "outputs": [],
   "source": [
    "SGD_model_l2 = SGDRegressor(loss='squared_loss', penalty='l2', alpha=20.0, random_state=42)\n",
    "SGD_model_l2.fit(X_train, y_train_reg)\n",
    "pred = SGD_model_l2.predict(X_test)"
   ]
  },
  {
   "cell_type": "code",
   "execution_count": 14,
   "id": "d451779e",
   "metadata": {},
   "outputs": [
    {
     "name": "stdout",
     "output_type": "stream",
     "text": [
      "Train MSE: 0.031143\n",
      "Test MSE: 0.03138\n"
     ]
    }
   ],
   "source": [
    "print(f'Train MSE: {mean_squared_error(SGD_model_l2.predict(X_train), y_train_reg):.5}')\n",
    "print(f'Test MSE: {mean_squared_error(pred, y_test_reg):.5}')"
   ]
  },
  {
   "cell_type": "markdown",
   "id": "a75f535f",
   "metadata": {},
   "source": [
    "#### SGDRegressor - l1"
   ]
  },
  {
   "cell_type": "code",
   "execution_count": 15,
   "id": "8085d414",
   "metadata": {},
   "outputs": [],
   "source": [
    "SGD_model_l1 = SGDRegressor(loss='squared_loss', penalty='l1', alpha=2.0, random_state=42)\n",
    "SGD_model_l1.fit(X_train, y_train_reg)\n",
    "pred = SGD_model_l1.predict(X_test)"
   ]
  },
  {
   "cell_type": "code",
   "execution_count": 16,
   "id": "ae0f0005",
   "metadata": {},
   "outputs": [
    {
     "name": "stdout",
     "output_type": "stream",
     "text": [
      "Train MSE: 0.031935\n",
      "Test MSE: 0.031524\n"
     ]
    }
   ],
   "source": [
    "print(f'Train MSE: {mean_squared_error(SGD_model_l1.predict(X_train), y_train_reg):.5}')\n",
    "print(f'Test MSE: {mean_squared_error(pred, y_test_reg):.5}')"
   ]
  },
  {
   "cell_type": "markdown",
   "id": "83ab0d1f",
   "metadata": {},
   "source": [
    "#### RandomForestRegressor"
   ]
  },
  {
   "cell_type": "code",
   "execution_count": 17,
   "id": "211e1e7f",
   "metadata": {},
   "outputs": [],
   "source": [
    "RF = RandomForestRegressor(criterion='mae', n_estimators=100, min_samples_leaf=1, max_depth=2, random_state=42)\n",
    "RF.fit(X_train, y_train_reg)\n",
    "pred = RF.predict(X_test)"
   ]
  },
  {
   "cell_type": "code",
   "execution_count": 18,
   "id": "8f307bb0",
   "metadata": {},
   "outputs": [
    {
     "name": "stdout",
     "output_type": "stream",
     "text": [
      "Train MSE: 0.023802\n",
      "Test MSE: 0.032969\n"
     ]
    }
   ],
   "source": [
    "print(f'Train MSE: {mean_squared_error(RF.predict(X_train), y_train_reg):.5}')\n",
    "print(f'Test MSE: {mean_squared_error(pred, y_test_reg):.5}')"
   ]
  },
  {
   "cell_type": "code",
   "execution_count": 19,
   "id": "9a734689",
   "metadata": {},
   "outputs": [],
   "source": [
    "RF = RandomForestRegressor(criterion='mse', n_estimators=150, min_samples_leaf=1, max_depth=2, random_state=42)\n",
    "RF.fit(X_train, y_train_reg)\n",
    "pred = RF.predict(X_test)"
   ]
  },
  {
   "cell_type": "code",
   "execution_count": 20,
   "id": "d4093eb0",
   "metadata": {},
   "outputs": [
    {
     "name": "stdout",
     "output_type": "stream",
     "text": [
      "Train MSE: 0.023353\n",
      "Test MSE: 0.032984\n"
     ]
    }
   ],
   "source": [
    "print(f'Train MSE: {mean_squared_error(RF.predict(X_train), y_train_reg):.5}')\n",
    "print(f'Test MSE: {mean_squared_error(pred, y_test_reg):.5}')"
   ]
  },
  {
   "cell_type": "markdown",
   "id": "23aa7cf3",
   "metadata": {},
   "source": [
    "#### XGBoost"
   ]
  },
  {
   "cell_type": "code",
   "execution_count": 21,
   "id": "bcddfa5a",
   "metadata": {},
   "outputs": [],
   "source": [
    "XGB_model = xg.XGBRegressor(objective ='reg:squarederror', n_estimators=50, max_depth=1, learning_rate=0.05, seed=42)\n",
    "XGB_model.fit(X_train, y_train_reg)\n",
    "pred = XGB_model.predict(X_test)"
   ]
  },
  {
   "cell_type": "code",
   "execution_count": 22,
   "id": "eebb3ea9",
   "metadata": {},
   "outputs": [
    {
     "name": "stdout",
     "output_type": "stream",
     "text": [
      "Train MSE: 0.025938\n",
      "Test MSE: 0.033233\n"
     ]
    }
   ],
   "source": [
    "print(f'Train MSE: {mean_squared_error(XGB_model.predict(X_train), y_train_reg):.5}')\n",
    "print(f'Test MSE: {mean_squared_error(pred, y_test_reg):.5}')"
   ]
  },
  {
   "cell_type": "markdown",
   "id": "a8c5171b",
   "metadata": {},
   "source": [
    "#### CatBoost"
   ]
  },
  {
   "cell_type": "code",
   "execution_count": 23,
   "id": "69a2f108",
   "metadata": {},
   "outputs": [],
   "source": [
    "CB_model = CatBoostRegressor(learning_rate=1e-5, loss_function='MAE', depth=2, random_seed=42)\n",
    "CB_model.fit(X_train, y_train_reg, verbose=False)\n",
    "pred = CB_model.predict(X_test)"
   ]
  },
  {
   "cell_type": "code",
   "execution_count": 24,
   "id": "649ebd91",
   "metadata": {},
   "outputs": [
    {
     "name": "stdout",
     "output_type": "stream",
     "text": [
      "Train MSE: 0.031839\n",
      "Test MSE: 0.031351\n"
     ]
    }
   ],
   "source": [
    "print(f'Train MSE: {mean_squared_error(CB_model.predict(X_train), y_train_reg):.5}')\n",
    "print(f'Test MSE: {mean_squared_error(pred, y_test_reg):.5}')"
   ]
  },
  {
   "cell_type": "code",
   "execution_count": 25,
   "id": "348a024c",
   "metadata": {},
   "outputs": [],
   "source": [
    "CB_model = CatBoostRegressor(learning_rate=1e-5, loss_function='RMSE', depth=2, random_seed=42)\n",
    "CB_model.fit(X_train, y_train_reg, verbose=False)\n",
    "pred = CB_model.predict(X_test)"
   ]
  },
  {
   "cell_type": "code",
   "execution_count": 26,
   "id": "f74f4c24",
   "metadata": {},
   "outputs": [
    {
     "name": "stdout",
     "output_type": "stream",
     "text": [
      "Train MSE: 0.03183\n",
      "Test MSE: 0.031375\n"
     ]
    }
   ],
   "source": [
    "print(f'Train MSE: {mean_squared_error(CB_model.predict(X_train), y_train_reg):.5}')\n",
    "print(f'Test MSE: {mean_squared_error(pred, y_test_reg):.5}')"
   ]
  },
  {
   "cell_type": "markdown",
   "id": "3c2ed560",
   "metadata": {},
   "source": [
    "#### NN"
   ]
  },
  {
   "cell_type": "code",
   "execution_count": 27,
   "id": "1c3902a4",
   "metadata": {},
   "outputs": [],
   "source": [
    "NN_model = MLPRegressor(hidden_layer_sizes=(50, 100, 50), learning_rate_init=0.1, solver='adam', random_state=42)\n",
    "NN_model.fit(X_train, y_train_reg)\n",
    "pred = NN_model.predict(X_test)"
   ]
  },
  {
   "cell_type": "code",
   "execution_count": 28,
   "id": "4e6ed5f5",
   "metadata": {},
   "outputs": [
    {
     "name": "stdout",
     "output_type": "stream",
     "text": [
      "Train MSE: 0.030467\n",
      "Test MSE: 0.03192\n"
     ]
    }
   ],
   "source": [
    "print(f'Train MSE: {mean_squared_error(NN_model.predict(X_train), y_train_reg):.5}')\n",
    "print(f'Test MSE: {mean_squared_error(pred, y_test_reg):.5}')"
   ]
  },
  {
   "cell_type": "markdown",
   "id": "c47c05de",
   "metadata": {},
   "source": [
    "# Classification"
   ]
  },
  {
   "cell_type": "markdown",
   "id": "75756359",
   "metadata": {},
   "source": [
    "#### LogisticRegression"
   ]
  },
  {
   "cell_type": "code",
   "execution_count": 65,
   "id": "64415ca5",
   "metadata": {},
   "outputs": [],
   "source": [
    "LR_model = LogisticRegression(penalty='l2', random_state=42)\n",
    "LR_model.fit(X_train, y_train_class)\n",
    "pred = LR_model.predict(X_test)"
   ]
  },
  {
   "cell_type": "code",
   "execution_count": 66,
   "id": "481cf639",
   "metadata": {
    "scrolled": true
   },
   "outputs": [
    {
     "name": "stdout",
     "output_type": "stream",
     "text": [
      "Train Accuracy: 64.75\n",
      "Test Accuracy: 58.1\n"
     ]
    }
   ],
   "source": [
    "print(f'Train Accuracy: {accuracy_score(LR_model.predict(X_train), y_train_class) * 100:.4}')\n",
    "print(f'Test Accuracy: {accuracy_score(pred, y_test_class) * 100:.4}')"
   ]
  },
  {
   "cell_type": "markdown",
   "id": "02a43e41",
   "metadata": {},
   "source": [
    "#### SGDClassifier"
   ]
  },
  {
   "cell_type": "code",
   "execution_count": 107,
   "id": "6d454ad8",
   "metadata": {},
   "outputs": [],
   "source": [
    "SGDClassifier_model = SGDClassifier(loss='perceptron', penalty='l2', random_state=42)\n",
    "SGDClassifier_model.fit(X_train, y_train_class)\n",
    "pred = SGDClassifier_model.predict(X_test)"
   ]
  },
  {
   "cell_type": "code",
   "execution_count": 108,
   "id": "f08c4126",
   "metadata": {},
   "outputs": [
    {
     "name": "stdout",
     "output_type": "stream",
     "text": [
      "Train Accuracy: 58.61\n",
      "Test Accuracy: 60.0\n"
     ]
    }
   ],
   "source": [
    "print(f'Train Accuracy: {accuracy_score(SGDClassifier_model.predict(X_train), y_train_class) * 100:.4}')\n",
    "print(f'Test Accuracy: {accuracy_score(pred, y_test_class) * 100:.4}')"
   ]
  },
  {
   "cell_type": "markdown",
   "id": "9c10f423",
   "metadata": {},
   "source": [
    "#### RandomForestClassifier"
   ]
  },
  {
   "cell_type": "code",
   "execution_count": 198,
   "id": "2be63a23",
   "metadata": {},
   "outputs": [],
   "source": [
    "RF_model = RandomForestClassifier(n_estimators=100, criterion='gini', min_samples_leaf=7, max_depth=2, random_state=42)\n",
    "RF_model.fit(X_train, y_train_class)\n",
    "pred = RF_model.predict(X_test)"
   ]
  },
  {
   "cell_type": "code",
   "execution_count": 199,
   "id": "d8c0aced",
   "metadata": {},
   "outputs": [
    {
     "name": "stdout",
     "output_type": "stream",
     "text": [
      "Train Accuracy: 70.9\n",
      "Test Accuracy: 65.71\n"
     ]
    }
   ],
   "source": [
    "print(f'Train Accuracy: {accuracy_score(RF_model.predict(X_train), y_train_class) * 100:.4}')\n",
    "print(f'Test Accuracy: {accuracy_score(pred, y_test_class) * 100:.4}')"
   ]
  },
  {
   "cell_type": "markdown",
   "id": "8ed6de42",
   "metadata": {},
   "source": [
    "#### XGBoost"
   ]
  },
  {
   "cell_type": "code",
   "execution_count": 255,
   "id": "08d14d40",
   "metadata": {},
   "outputs": [
    {
     "name": "stdout",
     "output_type": "stream",
     "text": [
      "[23:50:51] WARNING: C:/Users/Administrator/workspace/xgboost-win64_release_1.5.0/src/learner.cc:1115: Starting in XGBoost 1.3.0, the default evaluation metric used with the objective 'binary:logistic' was changed from 'error' to 'logloss'. Explicitly set eval_metric if you'd like to restore the old behavior.\n"
     ]
    }
   ],
   "source": [
    "XGB_model = xg.XGBClassifier(n_estimators=100, max_depth=2, learning_rate=0.0005, use_label_encoder=False, random_state=42)\n",
    "XGB_model.fit(X_train, y_train_class)\n",
    "pred = XGB_model.predict(X_test)"
   ]
  },
  {
   "cell_type": "code",
   "execution_count": 256,
   "id": "b6f04960",
   "metadata": {},
   "outputs": [
    {
     "name": "stdout",
     "output_type": "stream",
     "text": [
      "Train Accuracy: 69.26\n",
      "Test Accuracy: 61.9\n"
     ]
    }
   ],
   "source": [
    "print(f'Train Accuracy: {accuracy_score(XGB_model.predict(X_train), y_train_class) * 100:.4}')\n",
    "print(f'Test Accuracy: {accuracy_score(pred, y_test_class) * 100:.4}')"
   ]
  },
  {
   "cell_type": "markdown",
   "id": "0ac95570",
   "metadata": {},
   "source": [
    "#### CatBoost"
   ]
  },
  {
   "cell_type": "code",
   "execution_count": 280,
   "id": "1cde56b7",
   "metadata": {},
   "outputs": [],
   "source": [
    "CB_model = CatBoostClassifier(learning_rate=1e-4, depth=3, random_seed=42)\n",
    "CB_model.fit(X_train, y_train_class, verbose=False)\n",
    "pred = CB_model.predict(X_test)"
   ]
  },
  {
   "cell_type": "code",
   "execution_count": 281,
   "id": "82db5ebe",
   "metadata": {},
   "outputs": [
    {
     "name": "stdout",
     "output_type": "stream",
     "text": [
      "Train Accuracy: 70.08\n",
      "Test Accuracy: 63.81\n"
     ]
    }
   ],
   "source": [
    "print(f'Train Accuracy: {accuracy_score(CB_model.predict(X_train), y_train_class) * 100:.4}')\n",
    "print(f'Test Accuracy: {accuracy_score(pred, y_test_class) * 100:.4}')"
   ]
  },
  {
   "cell_type": "markdown",
   "id": "bd0c91c6",
   "metadata": {},
   "source": [
    "#### NN"
   ]
  },
  {
   "cell_type": "code",
   "execution_count": 596,
   "id": "cf41f139",
   "metadata": {},
   "outputs": [],
   "source": [
    "NN_model = MLPClassifier(hidden_layer_sizes=(50, 100, 50), alpha=0, learning_rate_init=0.5,\n",
    "                         max_iter=1500, solver='adam')\n",
    "NN_model.fit(X_train, y_train_class)\n",
    "pred = NN_model.predict(X_test)"
   ]
  },
  {
   "cell_type": "code",
   "execution_count": 597,
   "id": "80d053a2",
   "metadata": {},
   "outputs": [
    {
     "name": "stdout",
     "output_type": "stream",
     "text": [
      "Train Accuracy: 60.66\n",
      "Test Accuracy: 60.95\n"
     ]
    }
   ],
   "source": [
    "print(f'Train Accuracy: {accuracy_score(NN_model.predict(X_train), y_train_class) * 100:.4}')\n",
    "print(f'Test Accuracy: {accuracy_score(pred, y_test_class) * 100:.4}')"
   ]
  }
 ],
 "metadata": {
  "kernelspec": {
   "display_name": "Python 3",
   "language": "python",
   "name": "python3"
  },
  "language_info": {
   "codemirror_mode": {
    "name": "ipython",
    "version": 3
   },
   "file_extension": ".py",
   "mimetype": "text/x-python",
   "name": "python",
   "nbconvert_exporter": "python",
   "pygments_lexer": "ipython3",
   "version": "3.8.8"
  }
 },
 "nbformat": 4,
 "nbformat_minor": 5
}
