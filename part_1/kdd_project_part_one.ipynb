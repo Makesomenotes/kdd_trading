{
 "cells": [
  {
   "cell_type": "markdown",
   "metadata": {},
   "source": [
    "# Проект в рамках курса \"Интерпретируемый ИИ и майнинг данных\"\n",
    "---\n",
    "\n",
    "Проект выполнили: Хабибуллин Булат,\tТолстов Евгений,\tГрицких Максим,\tАнтон Сорока,\tАнастасия Глушкова, Александр Герасимов,\tФилиппов Иван"
   ]
  },
  {
   "cell_type": "markdown",
   "metadata": {},
   "source": [
    "# Первая часть проекта (работа с табличными данными):\n",
    "Описание: "
   ]
  },
  {
   "cell_type": "markdown",
   "metadata": {},
   "source": [
    "## 1. Поиск причинно-следственных связей:"
   ]
  },
  {
   "cell_type": "markdown",
   "metadata": {},
   "source": [
    "### 1.1 Рассмотреть модель на основе ваших предположений (ориентированных граф без циклов), словами описать, какие зависимости вы рассматривали. Изобразить граф, который вы рассматривали."
   ]
  },
  {
   "cell_type": "code",
   "execution_count": 1,
   "metadata": {},
   "outputs": [
    {
     "name": "stderr",
     "output_type": "stream",
     "text": [
      "--2021-11-16 17:45:58--  https://github.com/Makesomenotes/kdd_trading/blob/main/data/financial_data.csv\n",
      "Resolving github.com (github.com)... 140.82.121.3\n",
      "Connecting to github.com (github.com)|140.82.121.3|:443... connected.\n",
      "HTTP request sent, awaiting response... 200 OK\n",
      "Length: unspecified [text/html]\n",
      "Saving to: 'financial_data.csv'\n",
      "\n",
      "     0K .......... .......... .......... .......... .......... 1.36M\n",
      "    50K .......... .......... .......... .......... .......... 4.55M\n",
      "   100K .......... .......... .......... .......... .......... 2.55M\n",
      "   150K .......... .......... .......... .......... .......... 2.49M\n",
      "   200K .......... .......... .......... .......... .......... 5.02M\n",
      "   250K .......... .......... .......... .......... .......... 3.83M\n",
      "   300K .......... .......... .......... .......... .......... 5.45M\n",
      "   350K .......... .......... .......... .......... .........  3.24M=0.1s\n",
      "\n",
      "2021-11-16 17:45:59 (2.96 MB/s) - 'financial_data.csv' saved [408827]\n",
      "\n",
      "--2021-11-16 17:45:59--  https://github.com/Makesomenotes/kdd_trading/blob/main/data/S%26P500-Info.csv\n",
      "Resolving github.com (github.com)... 140.82.121.3\n",
      "Connecting to github.com (github.com)|140.82.121.3|:443... connected.\n",
      "HTTP request sent, awaiting response... 200 OK\n",
      "Length: unspecified [text/html]\n",
      "Saving to: 'S&P500-Info.csv.1'\n",
      "\n",
      "     0K .......... .......... .......... .......... .......... 1.23M\n",
      "    50K .......... .......... .......... .......... .......... 2.40M\n",
      "   100K .......... .......... .......... .......... .......... 2.91M\n",
      "   150K .......... .......... .......... .......... .......... 2.53M\n",
      "   200K .......... .......... .......... .......... .......... 5.21M\n",
      "   250K .......... .......... .......... .......... .......... 2.38M\n",
      "   300K .......... .......... .......... .......... .......... 5.07M\n",
      "   350K .......... .......... .......... .......... .......... 2.78M\n",
      "   400K ...                                                    3.12M=0.2s\n",
      "\n",
      "2021-11-16 17:46:00 (2.55 MB/s) - 'S&P500-Info.csv.1' saved [413428]\n",
      "\n",
      "A subdirectory or file data already exists.\n",
      "mv: cannot stat 'S': No such file or directory\n",
      "'P500-Info.csv'' is not recognized as an internal or external command,\n",
      "operable program or batch file.\n"
     ]
    }
   ],
   "source": [
    "# If you are using colab, uncomment this cell\n",
    "# load data\n",
    "!wget https://github.com/Makesomenotes/kdd_trading/blob/main/data/financial_data.csv\n",
    "!wget https://github.com/Makesomenotes/kdd_trading/blob/main/data/S%26P500-Info.csv\n",
    "\n",
    "!mkdir data\n",
    "!mv -t data 'financial_data.csv' 'S&P500-Info.csv'"
   ]
  },
  {
   "cell_type": "code",
   "execution_count": null,
   "metadata": {
    "scrolled": true
   },
   "outputs": [
    {
     "name": "stdout",
     "output_type": "stream",
     "text": [
      "Requirement already satisfied: dowhy in c:\\users\\nastiag67\\anaconda3\\lib\\site-packages (0.6)\n",
      "Requirement already satisfied: statsmodels in c:\\users\\nastiag67\\anaconda3\\lib\\site-packages (from dowhy) (0.12.2)\n",
      "Requirement already satisfied: networkx>=2.0 in c:\\users\\nastiag67\\anaconda3\\lib\\site-packages (from dowhy) (2.6.1)\n",
      "Requirement already satisfied: pydot>=1.4 in c:\\users\\nastiag67\\anaconda3\\lib\\site-packages (from dowhy) (1.4.1)\n",
      "Requirement already satisfied: scipy in c:\\users\\nastiag67\\anaconda3\\lib\\site-packages (from dowhy) (1.6.2)\n",
      "Requirement already satisfied: numpy>=1.15 in c:\\users\\nastiag67\\anaconda3\\lib\\site-packages (from dowhy) (1.20.3)\n",
      "Requirement already satisfied: sympy>=1.4 in c:\\users\\nastiag67\\anaconda3\\lib\\site-packages (from dowhy) (1.8)\n",
      "Requirement already satisfied: pandas>=0.24 in c:\\users\\nastiag67\\anaconda3\\lib\\site-packages (from dowhy) (1.3.1)\n",
      "Requirement already satisfied: scikit-learn in c:\\users\\nastiag67\\anaconda3\\lib\\site-packages (from dowhy) (0.24.2)\n",
      "Requirement already satisfied: matplotlib>=3.3 in c:\\users\\nastiag67\\anaconda3\\lib\\site-packages (from networkx>=2.0->dowhy) (3.3.4)\n",
      "Requirement already satisfied: python-dateutil>=2.1 in c:\\users\\nastiag67\\anaconda3\\lib\\site-packages (from matplotlib>=3.3->networkx>=2.0->dowhy) (2.8.1)\n",
      "Requirement already satisfied: kiwisolver>=1.0.1 in c:\\users\\nastiag67\\anaconda3\\lib\\site-packages (from matplotlib>=3.3->networkx>=2.0->dowhy) (1.3.1)\n",
      "Requirement already satisfied: cycler>=0.10 in c:\\users\\nastiag67\\anaconda3\\lib\\site-packages (from matplotlib>=3.3->networkx>=2.0->dowhy) (0.10.0)\n",
      "Requirement already satisfied: pillow>=6.2.0 in c:\\users\\nastiag67\\anaconda3\\lib\\site-packages (from matplotlib>=3.3->networkx>=2.0->dowhy) (8.3.1)\n",
      "Requirement already satisfied: pyparsing!=2.0.4,!=2.1.2,!=2.1.6,>=2.0.3 in c:\\users\\nastiag67\\anaconda3\\lib\\site-packages (from matplotlib>=3.3->networkx>=2.0->dowhy) (2.4.7)\n",
      "Requirement already satisfied: six in c:\\users\\nastiag67\\anaconda3\\lib\\site-packages (from cycler>=0.10->matplotlib>=3.3->networkx>=2.0->dowhy) (1.16.0)\n",
      "Requirement already satisfied: pytz>=2017.3 in c:\\users\\nastiag67\\anaconda3\\lib\\site-packages (from pandas>=0.24->dowhy) (2021.1)\n",
      "Requirement already satisfied: mpmath>=0.19 in c:\\users\\nastiag67\\anaconda3\\lib\\site-packages (from sympy>=1.4->dowhy) (1.2.1)\n",
      "Requirement already satisfied: joblib>=0.11 in c:\\users\\nastiag67\\anaconda3\\lib\\site-packages (from scikit-learn->dowhy) (1.0.1)\n",
      "Requirement already satisfied: threadpoolctl>=2.0.0 in c:\\users\\nastiag67\\anaconda3\\lib\\site-packages (from scikit-learn->dowhy) (2.2.0)\n",
      "Requirement already satisfied: patsy>=0.5 in c:\\users\\nastiag67\\anaconda3\\lib\\site-packages (from statsmodels->dowhy) (0.5.1)\n"
     ]
    },
    {
     "name": "stderr",
     "output_type": "stream",
     "text": [
      "'apt' is not recognized as an internal or external command,\n",
      "operable program or batch file.\n"
     ]
    }
   ],
   "source": [
    "# install packages\n",
    "!pip install dowhy\n",
    "!apt install libgraphviz-dev\n",
    "!pip install pygraphviz\n",
    "!pip install catboost\n",
    "!pip install shap\n",
    "!pip install lime"
   ]
  },
  {
   "cell_type": "code",
   "execution_count": 1,
   "metadata": {},
   "outputs": [],
   "source": [
    "import pandas as pd\n",
    "import numpy as np\n",
    "import matplotlib.pyplot as plt\n",
    "\n",
    "import xgboost as xg\n",
    "from sklearn.model_selection import train_test_split\n",
    "from sklearn.linear_model import LinearRegression, Ridge, Lasso, ElasticNet, SGDRegressor, LogisticRegression, SGDClassifier\n",
    "from sklearn.ensemble import RandomForestRegressor, RandomForestClassifier\n",
    "from sklearn.neural_network import MLPRegressor, MLPClassifier\n",
    "from sklearn.metrics import mean_squared_error, roc_auc_score, recall_score, precision_score, confusion_matrix, accuracy_score\n",
    "from sklearn.model_selection import GridSearchCV\n",
    "from catboost import CatBoostRegressor, CatBoostClassifier, Pool\n",
    "\n",
    "import pygraphviz\n",
    "import dowhy\n",
    "from dowhy import CausalModel\n",
    "\n",
    "import warnings\n",
    "warnings.filterwarnings(\"ignore\")"
   ]
  },
  {
   "cell_type": "code",
   "execution_count": 7,
   "metadata": {
    "scrolled": true
   },
   "outputs": [
    {
     "data": {
      "text/html": [
       "<div>\n",
       "<style scoped>\n",
       "    .dataframe tbody tr th:only-of-type {\n",
       "        vertical-align: middle;\n",
       "    }\n",
       "\n",
       "    .dataframe tbody tr th {\n",
       "        vertical-align: top;\n",
       "    }\n",
       "\n",
       "    .dataframe thead th {\n",
       "        text-align: right;\n",
       "    }\n",
       "</style>\n",
       "<table border=\"1\" class=\"dataframe\">\n",
       "  <thead>\n",
       "    <tr style=\"text-align: right;\">\n",
       "      <th></th>\n",
       "      <th>debt_to_equity</th>\n",
       "      <th>current_ratio</th>\n",
       "      <th>cash_ratio</th>\n",
       "      <th>return_on_assets</th>\n",
       "      <th>eps</th>\n",
       "      <th>price_to_sales</th>\n",
       "      <th>price_to_casflow</th>\n",
       "      <th>shareholder_equity</th>\n",
       "      <th>interest_coverage</th>\n",
       "      <th>net_profit_margin</th>\n",
       "      <th>target</th>\n",
       "      <th>binary_target</th>\n",
       "    </tr>\n",
       "  </thead>\n",
       "  <tbody>\n",
       "    <tr>\n",
       "      <th>0</th>\n",
       "      <td>0.295745</td>\n",
       "      <td>-0.284302</td>\n",
       "      <td>-0.311450</td>\n",
       "      <td>0.776858</td>\n",
       "      <td>-0.019888</td>\n",
       "      <td>0.353524</td>\n",
       "      <td>-0.283078</td>\n",
       "      <td>-0.290284</td>\n",
       "      <td>0.137713</td>\n",
       "      <td>0.499126</td>\n",
       "      <td>0.182600</td>\n",
       "      <td>1</td>\n",
       "    </tr>\n",
       "    <tr>\n",
       "      <th>1</th>\n",
       "      <td>0.049463</td>\n",
       "      <td>-0.483011</td>\n",
       "      <td>-0.388863</td>\n",
       "      <td>0.007314</td>\n",
       "      <td>-0.150426</td>\n",
       "      <td>0.885636</td>\n",
       "      <td>2.265313</td>\n",
       "      <td>0.293942</td>\n",
       "      <td>0.151924</td>\n",
       "      <td>0.033890</td>\n",
       "      <td>0.448067</td>\n",
       "      <td>0</td>\n",
       "    </tr>\n",
       "    <tr>\n",
       "      <th>2</th>\n",
       "      <td>0.725645</td>\n",
       "      <td>-1.065446</td>\n",
       "      <td>-0.569918</td>\n",
       "      <td>-0.070944</td>\n",
       "      <td>-0.148420</td>\n",
       "      <td>-0.588660</td>\n",
       "      <td>-0.299174</td>\n",
       "      <td>-1.437241</td>\n",
       "      <td>0.226628</td>\n",
       "      <td>0.136852</td>\n",
       "      <td>0.448067</td>\n",
       "      <td>1</td>\n",
       "    </tr>\n",
       "    <tr>\n",
       "      <th>4</th>\n",
       "      <td>-0.268530</td>\n",
       "      <td>0.425258</td>\n",
       "      <td>0.639303</td>\n",
       "      <td>0.722458</td>\n",
       "      <td>2.571990</td>\n",
       "      <td>-0.042559</td>\n",
       "      <td>-0.188939</td>\n",
       "      <td>0.442234</td>\n",
       "      <td>-0.797489</td>\n",
       "      <td>-0.172700</td>\n",
       "      <td>0.373210</td>\n",
       "      <td>1</td>\n",
       "    </tr>\n",
       "    <tr>\n",
       "      <th>9</th>\n",
       "      <td>4.646424</td>\n",
       "      <td>1.397469</td>\n",
       "      <td>1.239293</td>\n",
       "      <td>-2.132291</td>\n",
       "      <td>-0.526184</td>\n",
       "      <td>-2.027053</td>\n",
       "      <td>-0.125705</td>\n",
       "      <td>-2.677886</td>\n",
       "      <td>0.759492</td>\n",
       "      <td>-1.611807</td>\n",
       "      <td>0.457851</td>\n",
       "      <td>1</td>\n",
       "    </tr>\n",
       "  </tbody>\n",
       "</table>\n",
       "</div>"
      ],
      "text/plain": [
       "   debt_to_equity  current_ratio  cash_ratio  return_on_assets       eps  \\\n",
       "0        0.295745      -0.284302   -0.311450          0.776858 -0.019888   \n",
       "1        0.049463      -0.483011   -0.388863          0.007314 -0.150426   \n",
       "2        0.725645      -1.065446   -0.569918         -0.070944 -0.148420   \n",
       "4       -0.268530       0.425258    0.639303          0.722458  2.571990   \n",
       "9        4.646424       1.397469    1.239293         -2.132291 -0.526184   \n",
       "\n",
       "   price_to_sales  price_to_casflow  shareholder_equity  interest_coverage  \\\n",
       "0        0.353524         -0.283078           -0.290284           0.137713   \n",
       "1        0.885636          2.265313            0.293942           0.151924   \n",
       "2       -0.588660         -0.299174           -1.437241           0.226628   \n",
       "4       -0.042559         -0.188939            0.442234          -0.797489   \n",
       "9       -2.027053         -0.125705           -2.677886           0.759492   \n",
       "\n",
       "   net_profit_margin    target  binary_target  \n",
       "0           0.499126  0.182600              1  \n",
       "1           0.033890  0.448067              0  \n",
       "2           0.136852  0.448067              1  \n",
       "4          -0.172700  0.373210              1  \n",
       "9          -1.611807  0.457851              1  "
      ]
     },
     "execution_count": 7,
     "metadata": {},
     "output_type": "execute_result"
    }
   ],
   "source": [
    "data = pd.read_csv('./data/financial_data.csv', index_col=0)\n",
    "data = data.dropna()\n",
    "data_groups = pd.read_csv('data/S&P500-Info.csv', index_col=0)\n",
    "merged = data.merge(data_groups[['Symbol', 'GICS Sector']], left_index=True, right_on='Symbol')\n",
    "data_normalized = merged.drop('Symbol', axis=1).drop(['regression_target', 'SP_target'], axis=1)\n",
    "target_reg = merged.regression_target\n",
    "target_class = merged.SP_target * 1\n",
    "data_normalized = data_normalized.groupby('GICS Sector').transform(lambda x: (x - x.mean()) / x.std())\n",
    "data_normalized['binary_target'] =  target_class\n",
    "data_normalized.head()"
   ]
  },
  {
   "cell_type": "code",
   "execution_count": 3,
   "metadata": {},
   "outputs": [],
   "source": [
    "# Граф с дополнительными ветвями. Не работает пока что\n",
    "# causal_graph = \"\"\"digraph {\n",
    "# debt_to_equity;\n",
    "# current_ratio;\n",
    "# cash_ratio;\n",
    "# return_on_assets;\n",
    "# eps;\n",
    "# price_to_casflow;\n",
    "# shareholder_equity;\n",
    "# interest_coverage;\n",
    "# net_profit_margin;\n",
    "# A[label=\"Assets\"];\n",
    "# E[label=\"Equity\"];\n",
    "# D[label=\"Debts\"];\n",
    "# R[label=\"Revenue\"];\n",
    "# M[label=\"Market cap\"];\n",
    "# binary_target[label=\"target\"];\n",
    "# debt_to_equity->binary_target;\n",
    "# current_ratio->binary_target;\n",
    "# cash_ratio->binary_target;\n",
    "# return_on_assets->binary_target;\n",
    "# eps->binary_target;\n",
    "# price_to_casflow->binary_target;\n",
    "# shareholder_equity->binary_target;\n",
    "# interest_coverage->binary_target;\n",
    "# net_profit_margin->binary_target;\n",
    "# M->price_to_casflow;\n",
    "# R->net_profit_margin;\n",
    "# R->eps;\n",
    "# A->return_on_assets;\n",
    "# A->cash_ratio;\n",
    "# A->current_ratio;\n",
    "# A->D;\n",
    "# A->E;\n",
    "# E->shareholder_equity;\n",
    "# E->debt_to_equity;\n",
    "# D->current_ratio;\n",
    "# D->shareholder_equity;\n",
    "# D->debt_to_equity;\n",
    "# }\"\"\""
   ]
  },
  {
   "cell_type": "code",
   "execution_count": 4,
   "metadata": {},
   "outputs": [],
   "source": [
    "# Граф со склеиными вершинами\n",
    "causal_graph = \"\"\"digraph {\n",
    "debt_to_equity;\n",
    "current_ratio;\n",
    "cash_ratio;\n",
    "return_on_assets;\n",
    "eps;\n",
    "price_to_casflow;\n",
    "shareholder_equity;\n",
    "interest_coverage;\n",
    "net_profit_margin;\n",
    "binary_target[label=\"target\"]\n",
    "debt_to_equity->binary_target;\n",
    "current_ratio->binary_target;\n",
    "cash_ratio->binary_target;\n",
    "return_on_assets->binary_target;\n",
    "eps->binary_target;\n",
    "price_to_casflow->binary_target;\n",
    "shareholder_equity->binary_target;\n",
    "interest_coverage->binary_target;\n",
    "net_profit_margin->binary_target;\n",
    "net_profit_margin->eps;\n",
    "return_on_assets->cash_ratio;\n",
    "cash_ratio->current_ratio;\n",
    "current_ratio->shareholder_equity;\n",
    "shareholder_equity->debt_to_equity;\n",
    "}\"\"\""
   ]
  },
  {
   "cell_type": "code",
   "execution_count": 5,
   "metadata": {},
   "outputs": [
    {
     "data": {
      "image/png": "[encoded data removed]",
      "text/plain": [
       "<IPython.core.display.Image object>"
      ]
     },
     "metadata": {},
     "output_type": "display_data"
    }
   ],
   "source": [
    "model= dowhy.CausalModel(\n",
    "        data = data_normalized,\n",
    "        graph=causal_graph.replace(\"\\n\", \" \"),\n",
    "        treatment='eps',\n",
    "        outcome='binary_target')\n",
    "model.view_model()\n",
    "from IPython.display import Image, display\n",
    "display(Image(filename=\"causal_model.png\"))"
   ]
  },
  {
   "cell_type": "code",
   "execution_count": 6,
   "metadata": {},
   "outputs": [
    {
     "name": "stdout",
     "output_type": "stream",
     "text": [
      "Estimand type: nonparametric-ate\n",
      "\n",
      "### Estimand : 1\n",
      "Estimand name: backdoor\n",
      "Estimand expression:\n",
      "  d                                                                           \n",
      "──────(Expectation(binary_target|current_ratio,debt_to_equity,cash_ratio,retur\n",
      "d[eps]                                                                        \n",
      "\n",
      "                                                                              \n",
      "n_on_assets,interest_coverage,price_to_casflow,net_profit_margin,shareholder_e\n",
      "                                                                              \n",
      "\n",
      "       \n",
      "quity))\n",
      "       \n",
      "Estimand assumption 1, Unconfoundedness: If U→{eps} and U→binary_target then P(binary_target|eps,current_ratio,debt_to_equity,cash_ratio,return_on_assets,interest_coverage,price_to_casflow,net_profit_margin,shareholder_equity,U) = P(binary_target|eps,current_ratio,debt_to_equity,cash_ratio,return_on_assets,interest_coverage,price_to_casflow,net_profit_margin,shareholder_equity)\n",
      "\n",
      "### Estimand : 2\n",
      "Estimand name: iv\n",
      "No such variable found!\n",
      "\n",
      "### Estimand : 3\n",
      "Estimand name: frontdoor\n",
      "No such variable found!\n",
      "\n"
     ]
    }
   ],
   "source": [
    "#Identify the causal effect\n",
    "identified_estimand = model.identify_effect(proceed_when_unidentifiable=True)\n",
    "print(identified_estimand)"
   ]
  },
  {
   "cell_type": "code",
   "execution_count": 7,
   "metadata": {},
   "outputs": [
    {
     "name": "stdout",
     "output_type": "stream",
     "text": [
      "*** Causal Estimate ***\n",
      "\n",
      "## Identified estimand\n",
      "Estimand type: nonparametric-ate\n",
      "\n",
      "### Estimand : 1\n",
      "Estimand name: backdoor\n",
      "Estimand expression:\n",
      "  d                                                                           \n",
      "──────(Expectation(binary_target|current_ratio,debt_to_equity,cash_ratio,retur\n",
      "d[eps]                                                                        \n",
      "\n",
      "                                                                              \n",
      "n_on_assets,interest_coverage,price_to_casflow,net_profit_margin,shareholder_e\n",
      "                                                                              \n",
      "\n",
      "       \n",
      "quity))\n",
      "       \n",
      "Estimand assumption 1, Unconfoundedness: If U→{eps} and U→binary_target then P(binary_target|eps,current_ratio,debt_to_equity,cash_ratio,return_on_assets,interest_coverage,price_to_casflow,net_profit_margin,shareholder_equity,U) = P(binary_target|eps,current_ratio,debt_to_equity,cash_ratio,return_on_assets,interest_coverage,price_to_casflow,net_profit_margin,shareholder_equity)\n",
      "\n",
      "## Realized estimand\n",
      "b: binary_target~eps+current_ratio+debt_to_equity+cash_ratio+return_on_assets+interest_coverage+price_to_casflow+net_profit_margin+shareholder_equity+eps*current_ratio+eps*debt_to_equity+eps*interest_coverage+eps*price_to_casflow+eps*shareholder_equity+eps*cash_ratio+eps*return_on_assets\n",
      "Target units: ate\n",
      "\n",
      "## Estimate\n",
      "Mean value: 0.11212712736722807\n",
      "### Conditional Estimates\n",
      "__categorical__current_ratio   __categorical__debt_to_equity  __categorical__interest_coverage  __categorical__price_to_casflow  __categorical__shareholder_equity  __categorical__cash_ratio      __categorical__return_on_assets\n",
      "(-1.6649999999999998, -0.712]  (-6.309, -0.297]               (-6.65, -0.15]                    (-5.591, -0.3]                   (-4.825, -0.692]                   (-1.3639999999999999, -0.641]  (0.16, 0.674]                      0.628549\n",
      "                                                                                                (-0.189, 0.105]                  (0.303, 0.734]                     (-1.3639999999999999, -0.641]  (0.16, 0.674]                      0.013075\n",
      "                                                                                                                                 (0.734, 2.919]                     (-1.3639999999999999, -0.641]  (-0.553, -0.182]                  -0.349194\n",
      "                                                              (-0.15, 0.147]                    (-0.252, -0.189]                 (0.303, 0.734]                     (-1.3639999999999999, -0.641]  (-0.182, 0.16]                     0.007982\n",
      "                                                                                                (-0.189, 0.105]                  (-0.107, 0.303]                    (-1.3639999999999999, -0.641]  (-0.182, 0.16]                     0.051419\n",
      "                                                                                                                                                                                                                                        ...   \n",
      "(0.521, 4.801]                 (0.245, 5.348]                 (-6.65, -0.15]                    (0.105, 6.133]                   (-0.692, -0.107]                   (-0.425, -0.106]               (-4.113, -0.553]                   0.124420\n",
      "                                                                                                                                                                    (0.431, 4.439]                 (0.16, 0.674]                      0.251090\n",
      "                                                              (-0.15, 0.147]                    (-5.591, -0.3]                   (-0.692, -0.107]                   (-1.3639999999999999, -0.641]  (0.16, 0.674]                      0.235801\n",
      "                                                                                                                                                                    (0.431, 4.439]                 (0.16, 0.674]                      0.219352\n",
      "                                                              (0.319, 3.991]                    (-0.189, 0.105]                  (-4.825, -0.692]                   (0.431, 4.439]                 (-4.113, -0.553]                   0.144387\n",
      "Length: 335, dtype: float64\n"
     ]
    }
   ],
   "source": [
    "estimate = model.estimate_effect(identified_estimand, method_name=\"backdoor.linear_regression\",\n",
    "                                                        target_units=\"ate\")\n",
    "\n",
    "print(estimate)  # результат MSE примерно 0.11"
   ]
  },
  {
   "cell_type": "markdown",
   "metadata": {},
   "source": [
    "### 1.2 Применить 3 любых “refutation” метода на ваш выбор и обосновать их выбор (какие цели вы преследовали, выбирая эти методы, что вы хотели проверить)"
   ]
  },
  {
   "cell_type": "markdown",
   "metadata": {},
   "source": [
    "\n",
    "**Опровержение полученной оценки** - часть причинно-следственного анализа, которая позволяет проверить корректность наших предположений и устойчивость построенной оценочной модели."
   ]
  },
  {
   "cell_type": "code",
   "execution_count": 8,
   "metadata": {},
   "outputs": [],
   "source": [
    "data_refutation = data_normalized.copy(deep=True)"
   ]
  },
  {
   "cell_type": "markdown",
   "metadata": {},
   "source": [
    "**Method 1. Random Common Cause**  \n",
    "Проверим как сильно изменится полученная оценка причинно-следственного эффекта (estimated causal effect) при добавлении независимо случайно сгенерированной переменной как одной из общих причин (Random Common Cause)"
   ]
  },
  {
   "cell_type": "code",
   "execution_count": 9,
   "metadata": {},
   "outputs": [
    {
     "name": "stdout",
     "output_type": "stream",
     "text": [
      "Refute: Add a Random Common Cause\n",
      "Estimated effect:0.11212712736722807\n",
      "New effect:0.1097692692132366\n",
      "\n"
     ]
    }
   ],
   "source": [
    "refute1_results=model.refute_estimate(identified_estimand, estimate,\n",
    "        method_name=\"random_common_cause\")\n",
    "print(refute1_results)"
   ]
  },
  {
   "cell_type": "markdown",
   "metadata": {},
   "source": [
    "***Вывод:*** Незначительное изменение оценки причинно-следственного эффекта при добавлении Random Common Cause говорит о стабильности оценочной модели и справедливости нашего изначального предположения."
   ]
  },
  {
   "cell_type": "markdown",
   "metadata": {},
   "source": [
    "**Method 2. Data Subsets Validation**  \n",
    "Проверим как сильно изменится полученная оценка причинно-следственного эффекта (estimated causal effect) если удалить 10% данных."
   ]
  },
  {
   "cell_type": "code",
   "execution_count": 10,
   "metadata": {},
   "outputs": [
    {
     "name": "stdout",
     "output_type": "stream",
     "text": [
      "Refute: Use a subset of data\n",
      "Estimated effect:0.11212712736722807\n",
      "New effect:0.11688783196000849\n",
      "p value:0.49\n",
      "\n"
     ]
    }
   ],
   "source": [
    "refute3_results=model.refute_estimate(identified_estimand, estimate,\n",
    "        method_name=\"data_subset_refuter\",\n",
    "        subset_fraction=0.9) # Percentage of data extracted from the underlying data\n",
    "print(refute3_results)"
   ]
  },
  {
   "cell_type": "markdown",
   "metadata": {},
   "source": [
    "***Вывод:*** Новая оценка причинно-следственного эффекта практически не изменилась, что говорит об устойчивости построенной модели."
   ]
  },
  {
   "cell_type": "markdown",
   "metadata": {},
   "source": [
    "**Method 3. Placebo Treatment**  \n",
    "Проверим как сильно изменится полученная оценка причинно-следственного эффекта (estimated causal effect) если заменить treatment переменную (treatment variable) независимой случайно сгенерированной пременной."
   ]
  },
  {
   "cell_type": "code",
   "execution_count": 11,
   "metadata": {},
   "outputs": [
    {
     "name": "stdout",
     "output_type": "stream",
     "text": [
      "Refute: Use a Placebo Treatment\n",
      "Estimated effect:0.11212712736722807\n",
      "New effect:-0.002005605039160331\n",
      "p value:0.48\n",
      "\n"
     ]
    }
   ],
   "source": [
    "refute2_results=model.refute_estimate(identified_estimand, estimate,\n",
    "        method_name=\"placebo_treatment_refuter\",\n",
    "        placebo_type=\"permute\")\n",
    "print(refute2_results)"
   ]
  },
  {
   "cell_type": "markdown",
   "metadata": {},
   "source": [
    "***Вывод:*** Новая оценка причинно-следственного эффекта близка к нулю с высоким уровнем значимости (p-value), что говорит о справедливости наших предположений."
   ]
  },
  {
   "cell_type": "markdown",
   "metadata": {},
   "source": [
    "### 1.3. Применить все то же самое для графовой модели, используемой по умолчанию. Получили ли вы те же результаты?"
   ]
  },
  {
   "cell_type": "code",
   "execution_count": 13,
   "metadata": {
    "scrolled": true
   },
   "outputs": [
    {
     "data": {
      "image/png": "[encoded data removed]",
      "text/plain": [
       "<Figure size 432x288 with 1 Axes>"
      ]
     },
     "metadata": {},
     "output_type": "display_data"
    }
   ],
   "source": [
    "xs = \"\"\n",
    "for i in ['debt_to_equity',\n",
    " 'current_ratio',\n",
    " 'cash_ratio',\n",
    " 'return_on_assets',\n",
    " 'price_to_sales',\n",
    " 'price_to_casflow',\n",
    " 'shareholder_equity',\n",
    " 'interest_coverage',\n",
    " 'net_profit_margin',\n",
    "]:\n",
    "    xs += (str(i)+\"+\")\n",
    "\n",
    "xs.split('+')\n",
    "\n",
    "model0 = dowhy.CausalModel(\n",
    "        data = data_normalized,\n",
    "        treatment='eps',\n",
    "        outcome='binary_target',\n",
    "        common_causes=xs.split('+')\n",
    ")\n",
    "\n",
    "model0.view_model()\n",
    "# from IPython.display import Image, display\n",
    "# display(Image(filename=\"causal_model0.png\"))"
   ]
  },
  {
   "cell_type": "code",
   "execution_count": 14,
   "metadata": {},
   "outputs": [
    {
     "name": "stdout",
     "output_type": "stream",
     "text": [
      "Estimand type: nonparametric-ate\n",
      "\n",
      "### Estimand : 1\n",
      "Estimand name: backdoor\n",
      "Estimand expression:\n",
      "  d                                                                           \n",
      "──────(Expectation(binary_target|cash_ratio,debt_to_equity,return_on_assets,cu\n",
      "d[eps]                                                                        \n",
      "\n",
      "                                                                              \n",
      "rrent_ratio,price_to_casflow,price_to_sales,shareholder_equity,interest_covera\n",
      "                                                                              \n",
      "\n",
      "                      \n",
      "ge,net_profit_margin))\n",
      "                      \n",
      "Estimand assumption 1, Unconfoundedness: If U→{eps} and U→binary_target then P(binary_target|eps,cash_ratio,debt_to_equity,return_on_assets,current_ratio,price_to_casflow,price_to_sales,shareholder_equity,interest_coverage,net_profit_margin,U) = P(binary_target|eps,cash_ratio,debt_to_equity,return_on_assets,current_ratio,price_to_casflow,price_to_sales,shareholder_equity,interest_coverage,net_profit_margin)\n",
      "\n",
      "### Estimand : 2\n",
      "Estimand name: iv\n",
      "No such variable found!\n",
      "\n",
      "### Estimand : 3\n",
      "Estimand name: frontdoor\n",
      "No such variable found!\n",
      "\n"
     ]
    }
   ],
   "source": [
    "#Identify the causal effect\n",
    "identified_estimand0 = model0.identify_effect(proceed_when_unidentifiable=True)\n",
    "print(identified_estimand0)"
   ]
  },
  {
   "cell_type": "code",
   "execution_count": 15,
   "metadata": {
    "scrolled": false
   },
   "outputs": [
    {
     "name": "stdout",
     "output_type": "stream",
     "text": [
      "*** Causal Estimate ***\n",
      "\n",
      "## Identified estimand\n",
      "Estimand type: nonparametric-ate\n",
      "\n",
      "### Estimand : 1\n",
      "Estimand name: backdoor\n",
      "Estimand expression:\n",
      "  d                                                                           \n",
      "──────(Expectation(binary_target|cash_ratio,debt_to_equity,return_on_assets,cu\n",
      "d[eps]                                                                        \n",
      "\n",
      "                                                                              \n",
      "rrent_ratio,price_to_casflow,price_to_sales,shareholder_equity,interest_covera\n",
      "                                                                              \n",
      "\n",
      "                      \n",
      "ge,net_profit_margin))\n",
      "                      \n",
      "Estimand assumption 1, Unconfoundedness: If U→{eps} and U→binary_target then P(binary_target|eps,cash_ratio,debt_to_equity,return_on_assets,current_ratio,price_to_casflow,price_to_sales,shareholder_equity,interest_coverage,net_profit_margin,U) = P(binary_target|eps,cash_ratio,debt_to_equity,return_on_assets,current_ratio,price_to_casflow,price_to_sales,shareholder_equity,interest_coverage,net_profit_margin)\n",
      "\n",
      "## Realized estimand\n",
      "b: binary_target~eps+cash_ratio+debt_to_equity+return_on_assets+current_ratio+price_to_casflow+price_to_sales+shareholder_equity+interest_coverage+net_profit_margin\n",
      "Target units: ate\n",
      "\n",
      "## Estimate\n",
      "Mean value: 0.036212113578955596\n",
      "\n"
     ]
    }
   ],
   "source": [
    "estimate0 = model0.estimate_effect(identified_estimand0, method_name=\"backdoor.linear_regression\",\n",
    "                                                        target_units=\"ate\")\n",
    "\n",
    "print(estimate0)  "
   ]
  },
  {
   "cell_type": "code",
   "execution_count": 16,
   "metadata": {},
   "outputs": [],
   "source": [
    "data_refutation0 = data_normalized.copy(deep=True)"
   ]
  },
  {
   "cell_type": "markdown",
   "metadata": {},
   "source": [
    "**Method 1**"
   ]
  },
  {
   "cell_type": "code",
   "execution_count": 17,
   "metadata": {},
   "outputs": [
    {
     "name": "stdout",
     "output_type": "stream",
     "text": [
      "Refute: Add a Random Common Cause\n",
      "Estimated effect:0.036212113578955596\n",
      "New effect:0.037822419880501945\n",
      "\n"
     ]
    }
   ],
   "source": [
    "refute1_results0=model0.refute_estimate(identified_estimand0, estimate0,\n",
    "        method_name=\"random_common_cause\")\n",
    "print(refute1_results0)"
   ]
  },
  {
   "cell_type": "markdown",
   "metadata": {},
   "source": [
    "***Вывод:*** аналогично п.1.2"
   ]
  },
  {
   "cell_type": "markdown",
   "metadata": {},
   "source": [
    "**Method 2**"
   ]
  },
  {
   "cell_type": "code",
   "execution_count": 18,
   "metadata": {},
   "outputs": [
    {
     "name": "stdout",
     "output_type": "stream",
     "text": [
      "Refute: Use a subset of data\n",
      "Estimated effect:0.036212113578955596\n",
      "New effect:0.03521193640850208\n",
      "p value:0.36\n",
      "\n"
     ]
    }
   ],
   "source": [
    "refute3_results0=model0.refute_estimate(identified_estimand0, estimate0,\n",
    "        method_name=\"data_subset_refuter\",\n",
    "        subset_fraction=0.9) # Percentage of data extracted from the underlying data\n",
    "print(refute3_results0)"
   ]
  },
  {
   "cell_type": "markdown",
   "metadata": {},
   "source": [
    "***Вывод:*** аналогично п.1.2"
   ]
  },
  {
   "cell_type": "markdown",
   "metadata": {},
   "source": [
    "**Method 3**"
   ]
  },
  {
   "cell_type": "code",
   "execution_count": 19,
   "metadata": {},
   "outputs": [
    {
     "name": "stdout",
     "output_type": "stream",
     "text": [
      "Refute: Use a Placebo Treatment\n",
      "Estimated effect:0.036212113578955596\n",
      "New effect:0.0008631525902102399\n",
      "p value:0.43\n",
      "\n"
     ]
    }
   ],
   "source": [
    "refute2_results0=model0.refute_estimate(identified_estimand0, estimate0,\n",
    "        method_name=\"placebo_treatment_refuter\",\n",
    "        placebo_type=\"permute\")\n",
    "print(refute2_results0)"
   ]
  },
  {
   "cell_type": "markdown",
   "metadata": {},
   "source": [
    "***Вывод:*** аналогично п.1.2"
   ]
  },
  {
   "cell_type": "markdown",
   "metadata": {},
   "source": [
    "## 2. Обучение моделей черного ящика:"
   ]
  },
  {
   "cell_type": "code",
   "execution_count": 11,
   "metadata": {},
   "outputs": [],
   "source": [
    "data = pd.read_csv('data/financial_data.csv', index_col=0)\n",
    "data = data.drop(['price_to_sales', 'target'], axis=1)\n",
    "data = data.dropna()\n",
    "\n",
    "data_groups = pd.read_csv('data/S&P500-Info.csv', index_col=0)\n",
    "merged = data.merge(data_groups[['Symbol', 'GICS Sector']], left_index=True, right_on='Symbol')\n",
    "X = merged.drop('Symbol', axis=1).drop(['regression_target', 'SP_target'], axis=1)\n",
    "target_reg = merged.regression_target\n",
    "target_class = merged.SP_target * 1"
   ]
  },
  {
   "cell_type": "code",
   "execution_count": 12,
   "metadata": {},
   "outputs": [],
   "source": [
    "X_train_df, X_test_df, y_train_reg, y_test_reg = train_test_split(X, target_reg.values, test_size=0.3, random_state=42)\n",
    "_, _, y_train_class, y_test_class = train_test_split(X, target_class.values, test_size=0.3, random_state=42)"
   ]
  },
  {
   "cell_type": "code",
   "execution_count": 13,
   "metadata": {},
   "outputs": [],
   "source": [
    "X_train = X_train_df.groupby('GICS Sector').transform(lambda x: (x - x.mean()) / x.std())\n",
    "X_test_mean = X_test_df.merge(X_train_df.groupby('GICS Sector').mean(), left_on='GICS Sector', right_index=True)\n",
    "X_test_mean_std = X_test_mean.merge(X_train_df.groupby('GICS Sector').std(), left_on='GICS Sector', right_index=True)\n",
    "X_test_mean_std = X_test_mean_std.drop('GICS Sector', axis=1)\n",
    "X_test = (X_test_mean_std.iloc[:, :9].values - X_test_mean_std.iloc[:, 9:18].values)/X_test_mean_std.iloc[:, 18:].values"
   ]
  },
  {
   "cell_type": "markdown",
   "metadata": {},
   "source": [
    "### 2.1 Regression "
   ]
  },
  {
   "cell_type": "markdown",
   "metadata": {},
   "source": [
    "#### LinearRegression"
   ]
  },
  {
   "cell_type": "code",
   "execution_count": 14,
   "metadata": {},
   "outputs": [],
   "source": [
    "reg_model = LinearRegression()\n",
    "reg_model.fit(X_train, y_train_reg)\n",
    "pred = reg_model.predict(X_test)"
   ]
  },
  {
   "cell_type": "code",
   "execution_count": 6,
   "metadata": {},
   "outputs": [
    {
     "name": "stdout",
     "output_type": "stream",
     "text": [
      "Train MSE: 0.028117\n",
      "Test MSE: 0.052553\n"
     ]
    }
   ],
   "source": [
    "print(f'Train MSE: {mean_squared_error(reg_model.predict(X_train), y_train_reg):.5}')\n",
    "print(f'Test MSE: {mean_squared_error(pred, y_test_reg):.5}')"
   ]
  },
  {
   "cell_type": "markdown",
   "metadata": {},
   "source": [
    "#### Ridge"
   ]
  },
  {
   "cell_type": "code",
   "execution_count": null,
   "metadata": {},
   "outputs": [],
   "source": [
    "ridge_model = Ridge(alpha=2.0, random_state=42)\n",
    "ridge_model.fit(X_train, y_train_reg)\n",
    "pred = ridge_model.predict(X_test)"
   ]
  },
  {
   "cell_type": "code",
   "execution_count": null,
   "metadata": {},
   "outputs": [
    {
     "name": "stdout",
     "output_type": "stream",
     "text": [
      "Train MSE: 0.028117\n",
      "Test MSE: 0.052999\n"
     ]
    }
   ],
   "source": [
    "print(f'Train MSE: {mean_squared_error(ridge_model.predict(X_train), y_train_reg):.5}')\n",
    "print(f'Test MSE: {mean_squared_error(pred, y_test_reg):.5}')"
   ]
  },
  {
   "cell_type": "markdown",
   "metadata": {},
   "source": [
    "#### Lasso"
   ]
  },
  {
   "cell_type": "code",
   "execution_count": null,
   "metadata": {},
   "outputs": [],
   "source": [
    "lasso_model = Lasso(alpha=2.0, random_state=42)\n",
    "lasso_model.fit(X_train, y_train_reg)\n",
    "pred = lasso_model.predict(X_test)"
   ]
  },
  {
   "cell_type": "code",
   "execution_count": null,
   "metadata": {},
   "outputs": [
    {
     "name": "stdout",
     "output_type": "stream",
     "text": [
      "Train MSE: 0.031893\n",
      "Test MSE: 0.031381\n"
     ]
    }
   ],
   "source": [
    "print(f'Train MSE: {mean_squared_error(lasso_model.predict(X_train), y_train_reg):.5}')\n",
    "print(f'Test MSE: {mean_squared_error(pred, y_test_reg):.5}')"
   ]
  },
  {
   "cell_type": "markdown",
   "metadata": {},
   "source": [
    "#### ElasticNet"
   ]
  },
  {
   "cell_type": "code",
   "execution_count": null,
   "metadata": {},
   "outputs": [],
   "source": [
    "elastic_model = ElasticNet(alpha=2.0, random_state=42)\n",
    "elastic_model.fit(X_train, y_train_reg)\n",
    "pred = elastic_model.predict(X_test)"
   ]
  },
  {
   "cell_type": "code",
   "execution_count": null,
   "metadata": {},
   "outputs": [
    {
     "name": "stdout",
     "output_type": "stream",
     "text": [
      "Train MSE: 0.031893\n",
      "Test MSE: 0.031381\n"
     ]
    }
   ],
   "source": [
    "print(f'Train MSE: {mean_squared_error(elastic_model.predict(X_train), y_train_reg):.5}')\n",
    "print(f'Test MSE: {mean_squared_error(pred, y_test_reg):.5}')"
   ]
  },
  {
   "cell_type": "markdown",
   "metadata": {},
   "source": [
    "#### SGDRegressor - l2"
   ]
  },
  {
   "cell_type": "code",
   "execution_count": null,
   "metadata": {},
   "outputs": [],
   "source": [
    "SGD_model_l2 = SGDRegressor(loss='squared_loss', penalty='l2', alpha=20.0, random_state=42)\n",
    "SGD_model_l2.fit(X_train, y_train_reg)\n",
    "pred = SGD_model_l2.predict(X_test)"
   ]
  },
  {
   "cell_type": "code",
   "execution_count": null,
   "metadata": {},
   "outputs": [
    {
     "name": "stdout",
     "output_type": "stream",
     "text": [
      "Train MSE: 0.031143\n",
      "Test MSE: 0.03138\n"
     ]
    }
   ],
   "source": [
    "print(f'Train MSE: {mean_squared_error(SGD_model_l2.predict(X_train), y_train_reg):.5}')\n",
    "print(f'Test MSE: {mean_squared_error(pred, y_test_reg):.5}')"
   ]
  },
  {
   "cell_type": "markdown",
   "metadata": {},
   "source": [
    "#### SGDRegressor - l1"
   ]
  },
  {
   "cell_type": "code",
   "execution_count": null,
   "metadata": {},
   "outputs": [],
   "source": [
    "SGD_model_l1 = SGDRegressor(loss='squared_loss', penalty='l1', alpha=2.0, random_state=42)\n",
    "SGD_model_l1.fit(X_train, y_train_reg)\n",
    "pred = SGD_model_l1.predict(X_test)"
   ]
  },
  {
   "cell_type": "code",
   "execution_count": null,
   "metadata": {},
   "outputs": [
    {
     "name": "stdout",
     "output_type": "stream",
     "text": [
      "Train MSE: 0.031935\n",
      "Test MSE: 0.031524\n"
     ]
    }
   ],
   "source": [
    "print(f'Train MSE: {mean_squared_error(SGD_model_l1.predict(X_train), y_train_reg):.5}')\n",
    "print(f'Test MSE: {mean_squared_error(pred, y_test_reg):.5}')"
   ]
  },
  {
   "cell_type": "markdown",
   "metadata": {},
   "source": [
    "#### RandomForestRegressor"
   ]
  },
  {
   "cell_type": "code",
   "execution_count": null,
   "metadata": {},
   "outputs": [],
   "source": [
    "RF = RandomForestRegressor(criterion='mae', n_estimators=100, min_samples_leaf=1, max_depth=2, random_state=42)\n",
    "RF.fit(X_train, y_train_reg)\n",
    "pred = RF.predict(X_test)"
   ]
  },
  {
   "cell_type": "code",
   "execution_count": null,
   "metadata": {},
   "outputs": [
    {
     "name": "stdout",
     "output_type": "stream",
     "text": [
      "Train MSE: 0.023802\n",
      "Test MSE: 0.032969\n"
     ]
    }
   ],
   "source": [
    "print(f'Train MSE: {mean_squared_error(RF.predict(X_train), y_train_reg):.5}')\n",
    "print(f'Test MSE: {mean_squared_error(pred, y_test_reg):.5}')"
   ]
  },
  {
   "cell_type": "code",
   "execution_count": null,
   "metadata": {},
   "outputs": [],
   "source": [
    "RF = RandomForestRegressor(criterion='mse', n_estimators=150, min_samples_leaf=1, max_depth=2, random_state=42)\n",
    "RF.fit(X_train, y_train_reg)\n",
    "pred = RF.predict(X_test)"
   ]
  },
  {
   "cell_type": "code",
   "execution_count": null,
   "metadata": {},
   "outputs": [
    {
     "name": "stdout",
     "output_type": "stream",
     "text": [
      "Train MSE: 0.023353\n",
      "Test MSE: 0.032984\n"
     ]
    }
   ],
   "source": [
    "print(f'Train MSE: {mean_squared_error(RF.predict(X_train), y_train_reg):.5}')\n",
    "print(f'Test MSE: {mean_squared_error(pred, y_test_reg):.5}')"
   ]
  },
  {
   "cell_type": "markdown",
   "metadata": {},
   "source": [
    "#### XGBoost"
   ]
  },
  {
   "cell_type": "code",
   "execution_count": null,
   "metadata": {},
   "outputs": [],
   "source": [
    "XGB_model = xg.XGBRegressor(objective ='reg:squarederror', n_estimators=50, max_depth=1, learning_rate=0.05, seed=42)\n",
    "XGB_model.fit(X_train, y_train_reg)\n",
    "pred = XGB_model.predict(X_test)"
   ]
  },
  {
   "cell_type": "code",
   "execution_count": null,
   "metadata": {},
   "outputs": [
    {
     "name": "stdout",
     "output_type": "stream",
     "text": [
      "Train MSE: 0.025938\n",
      "Test MSE: 0.033233\n"
     ]
    }
   ],
   "source": [
    "print(f'Train MSE: {mean_squared_error(XGB_model.predict(X_train), y_train_reg):.5}')\n",
    "print(f'Test MSE: {mean_squared_error(pred, y_test_reg):.5}')"
   ]
  },
  {
   "cell_type": "markdown",
   "metadata": {},
   "source": [
    "#### CatBoost"
   ]
  },
  {
   "cell_type": "code",
   "execution_count": null,
   "metadata": {},
   "outputs": [],
   "source": [
    "CB_model = CatBoostRegressor(learning_rate=1e-5, loss_function='MAE', depth=2, random_seed=42)\n",
    "CB_model.fit(X_train, y_train_reg, verbose=False)\n",
    "pred = CB_model.predict(X_test)"
   ]
  },
  {
   "cell_type": "code",
   "execution_count": null,
   "metadata": {},
   "outputs": [
    {
     "name": "stdout",
     "output_type": "stream",
     "text": [
      "Train MSE: 0.031839\n",
      "Test MSE: 0.031351\n"
     ]
    }
   ],
   "source": [
    "print(f'Train MSE: {mean_squared_error(CB_model.predict(X_train), y_train_reg):.5}')\n",
    "print(f'Test MSE: {mean_squared_error(pred, y_test_reg):.5}')"
   ]
  },
  {
   "cell_type": "code",
   "execution_count": null,
   "metadata": {},
   "outputs": [],
   "source": [
    "CB_model = CatBoostRegressor(learning_rate=1e-5, loss_function='RMSE', depth=2, random_seed=42)\n",
    "CB_model.fit(X_train, y_train_reg, verbose=False)\n",
    "pred = CB_model.predict(X_test)"
   ]
  },
  {
   "cell_type": "code",
   "execution_count": null,
   "metadata": {},
   "outputs": [
    {
     "name": "stdout",
     "output_type": "stream",
     "text": [
      "Train MSE: 0.03183\n",
      "Test MSE: 0.031375\n"
     ]
    }
   ],
   "source": [
    "print(f'Train MSE: {mean_squared_error(CB_model.predict(X_train), y_train_reg):.5}')\n",
    "print(f'Test MSE: {mean_squared_error(pred, y_test_reg):.5}')"
   ]
  },
  {
   "cell_type": "markdown",
   "metadata": {},
   "source": [
    "#### NN"
   ]
  },
  {
   "cell_type": "code",
   "execution_count": null,
   "metadata": {},
   "outputs": [],
   "source": [
    "NN_model = MLPRegressor(hidden_layer_sizes=(50, 100, 50), learning_rate_init=0.1, solver='adam', random_state=42)\n",
    "NN_model.fit(X_train, y_train_reg)\n",
    "pred = NN_model.predict(X_test)"
   ]
  },
  {
   "cell_type": "code",
   "execution_count": null,
   "metadata": {},
   "outputs": [
    {
     "name": "stdout",
     "output_type": "stream",
     "text": [
      "Train MSE: 0.030467\n",
      "Test MSE: 0.03192\n"
     ]
    }
   ],
   "source": [
    "print(f'Train MSE: {mean_squared_error(NN_model.predict(X_train), y_train_reg):.5}')\n",
    "print(f'Test MSE: {mean_squared_error(pred, y_test_reg):.5}')"
   ]
  },
  {
   "cell_type": "markdown",
   "metadata": {},
   "source": [
    "### 2.2 Classification"
   ]
  },
  {
   "cell_type": "markdown",
   "metadata": {},
   "source": [
    "#### LogisticRegression"
   ]
  },
  {
   "cell_type": "code",
   "execution_count": null,
   "metadata": {},
   "outputs": [],
   "source": [
    "LR_model = LogisticRegression(penalty='l2', random_state=42)\n",
    "LR_model.fit(X_train, y_train_class)\n",
    "pred = LR_model.predict(X_test)"
   ]
  },
  {
   "cell_type": "code",
   "execution_count": null,
   "metadata": {
    "scrolled": true
   },
   "outputs": [
    {
     "name": "stdout",
     "output_type": "stream",
     "text": [
      "Train Accuracy: 64.75\n",
      "Test Accuracy: 58.1\n"
     ]
    }
   ],
   "source": [
    "print(f'Train Accuracy: {accuracy_score(LR_model.predict(X_train), y_train_class) * 100:.4}')\n",
    "print(f'Test Accuracy: {accuracy_score(pred, y_test_class) * 100:.4}')"
   ]
  },
  {
   "cell_type": "markdown",
   "metadata": {},
   "source": [
    "#### SGDClassifier"
   ]
  },
  {
   "cell_type": "code",
   "execution_count": null,
   "metadata": {},
   "outputs": [],
   "source": [
    "SGDClassifier_model = SGDClassifier(loss='log', penalty='l2', random_state=42)\n",
    "SGDClassifier_model.fit(X_train, y_train_class)\n",
    "pred = SGDClassifier_model.predict(X_test)"
   ]
  },
  {
   "cell_type": "code",
   "execution_count": null,
   "metadata": {},
   "outputs": [
    {
     "name": "stdout",
     "output_type": "stream",
     "text": [
      "Train Accuracy: 58.61\n",
      "Test Accuracy: 60.0\n"
     ]
    }
   ],
   "source": [
    "print(f'Train Accuracy: {accuracy_score(SGDClassifier_model.predict(X_train), y_train_class) * 100:.4}')\n",
    "print(f'Test Accuracy: {accuracy_score(pred, y_test_class) * 100:.4}')"
   ]
  },
  {
   "cell_type": "markdown",
   "metadata": {},
   "source": [
    "#### RandomForestClassifier"
   ]
  },
  {
   "cell_type": "code",
   "execution_count": null,
   "metadata": {},
   "outputs": [],
   "source": [
    "RF_model = RandomForestClassifier(n_estimators=100, criterion='gini', min_samples_leaf=7, max_depth=2, random_state=42)\n",
    "RF_model.fit(X_train, y_train_class)\n",
    "pred = RF_model.predict(X_test)"
   ]
  },
  {
   "cell_type": "code",
   "execution_count": null,
   "metadata": {},
   "outputs": [
    {
     "name": "stdout",
     "output_type": "stream",
     "text": [
      "Train Accuracy: 70.9\n",
      "Test Accuracy: 65.71\n"
     ]
    }
   ],
   "source": [
    "print(f'Train Accuracy: {accuracy_score(RF_model.predict(X_train), y_train_class) * 100:.4}')\n",
    "print(f'Test Accuracy: {accuracy_score(pred, y_test_class) * 100:.4}')"
   ]
  },
  {
   "cell_type": "markdown",
   "metadata": {},
   "source": [
    "#### XGBoost"
   ]
  },
  {
   "cell_type": "code",
   "execution_count": null,
   "metadata": {},
   "outputs": [
    {
     "name": "stdout",
     "output_type": "stream",
     "text": [
      "[23:50:51] WARNING: C:/Users/Administrator/workspace/xgboost-win64_release_1.5.0/src/learner.cc:1115: Starting in XGBoost 1.3.0, the default evaluation metric used with the objective 'binary:logistic' was changed from 'error' to 'logloss'. Explicitly set eval_metric if you'd like to restore the old behavior.\n"
     ]
    }
   ],
   "source": [
    "XGB_model = xg.XGBClassifier(n_estimators=100, max_depth=2, learning_rate=0.0005, use_label_encoder=False, random_state=42)\n",
    "XGB_model.fit(X_train, y_train_class)\n",
    "pred = XGB_model.predict(X_test)"
   ]
  },
  {
   "cell_type": "code",
   "execution_count": null,
   "metadata": {},
   "outputs": [
    {
     "name": "stdout",
     "output_type": "stream",
     "text": [
      "Train Accuracy: 69.26\n",
      "Test Accuracy: 61.9\n"
     ]
    }
   ],
   "source": [
    "print(f'Train Accuracy: {accuracy_score(XGB_model.predict(X_train), y_train_class) * 100:.4}')\n",
    "print(f'Test Accuracy: {accuracy_score(pred, y_test_class) * 100:.4}')"
   ]
  },
  {
   "cell_type": "markdown",
   "metadata": {},
   "source": [
    "#### CatBoost"
   ]
  },
  {
   "cell_type": "code",
   "execution_count": null,
   "metadata": {},
   "outputs": [],
   "source": [
    "CB_model = CatBoostClassifier(learning_rate=1e-4, depth=3, random_seed=42)\n",
    "CB_model.fit(X_train, y_train_class, verbose=False)\n",
    "pred = CB_model.predict(X_test)"
   ]
  },
  {
   "cell_type": "code",
   "execution_count": null,
   "metadata": {},
   "outputs": [
    {
     "name": "stdout",
     "output_type": "stream",
     "text": [
      "Train Accuracy: 70.08\n",
      "Test Accuracy: 63.81\n"
     ]
    }
   ],
   "source": [
    "print(f'Train Accuracy: {accuracy_score(CB_model.predict(X_train), y_train_class) * 100:.4}')\n",
    "print(f'Test Accuracy: {accuracy_score(pred, y_test_class) * 100:.4}')"
   ]
  },
  {
   "cell_type": "markdown",
   "metadata": {},
   "source": [
    "#### NN"
   ]
  },
  {
   "cell_type": "code",
   "execution_count": null,
   "metadata": {},
   "outputs": [],
   "source": [
    "NN_model = MLPClassifier(hidden_layer_sizes=(50, 100, 50), alpha=0, learning_rate_init=0.5,\n",
    "                         max_iter=1500, solver='adam')\n",
    "NN_model.fit(X_train, y_train_class)\n",
    "pred = NN_model.predict(X_test)"
   ]
  },
  {
   "cell_type": "code",
   "execution_count": null,
   "metadata": {},
   "outputs": [
    {
     "name": "stdout",
     "output_type": "stream",
     "text": [
      "Train Accuracy: 60.66\n",
      "Test Accuracy: 60.95\n"
     ]
    }
   ],
   "source": [
    "print(f'Train Accuracy: {accuracy_score(NN_model.predict(X_train), y_train_class) * 100:.4}')\n",
    "print(f'Test Accuracy: {accuracy_score(pred, y_test_class) * 100:.4}')"
   ]
  },
  {
   "cell_type": "markdown",
   "metadata": {},
   "source": [
    "## 3. Применение SHAP"
   ]
  },
  {
   "cell_type": "markdown",
   "metadata": {},
   "source": [
    "### 3.1. Сравнить важность признаков, получаемую с помощью SHAP с важностью признаков, получаемую с помощью модели на основе ансамбля деревьев решений. Прокомментировать результат (Есть ли разница? Можете ли вы это объяснить?). "
   ]
  },
  {
   "cell_type": "code",
   "execution_count": null,
   "metadata": {},
   "outputs": [],
   "source": [
    "import shap"
   ]
  },
  {
   "cell_type": "code",
   "execution_count": null,
   "metadata": {},
   "outputs": [],
   "source": [
    "# CB_model = CatBoostClassifier(learning_rate=1e-4, depth=3, random_seed=42)\n",
    "# CB_model.fit(X_train, y_train_class, verbose=False)\n",
    "pred = CB_model.predict(X_test)"
   ]
  },
  {
   "cell_type": "code",
   "execution_count": null,
   "metadata": {},
   "outputs": [],
   "source": [
    "X = pd.concat([X_train, X_test]) \n",
    "y = np.concatenate([y_train_class, y_test_class])"
   ]
  },
  {
   "cell_type": "code",
   "execution_count": null,
   "metadata": {},
   "outputs": [],
   "source": [
    "X = X.reset_index(drop=True)"
   ]
  },
  {
   "cell_type": "code",
   "execution_count": null,
   "metadata": {},
   "outputs": [],
   "source": [
    "# важность признаков SHAP"
   ]
  },
  {
   "cell_type": "code",
   "execution_count": null,
   "metadata": {},
   "outputs": [],
   "source": [
    "explainer = shap.TreeExplainer(CB_model)\n",
    "shap_values = explainer.shap_values(Pool(X, y))"
   ]
  },
  {
   "cell_type": "code",
   "execution_count": null,
   "metadata": {},
   "outputs": [
    {
     "data": {
      "image/png": "[encoded data removed]",
      "text/plain": [
       "<Figure size 576x367.2 with 1 Axes>"
      ]
     },
     "metadata": {},
     "output_type": "display_data"
    }
   ],
   "source": [
    "shap.summary_plot(shap_values, X, plot_type=\"bar\")"
   ]
  },
  {
   "cell_type": "code",
   "execution_count": null,
   "metadata": {},
   "outputs": [
    {
     "data": {
      "image/png": "[encoded data removed]",
      "text/plain": [
       "<Figure size 576x367.2 with 2 Axes>"
      ]
     },
     "metadata": {},
     "output_type": "display_data"
    }
   ],
   "source": [
    "shap.summary_plot(shap_values, X)"
   ]
  },
  {
   "cell_type": "code",
   "execution_count": null,
   "metadata": {},
   "outputs": [],
   "source": [
    "# важность признаков на основе ансамбля деревьев"
   ]
  },
  {
   "cell_type": "code",
   "execution_count": null,
   "metadata": {},
   "outputs": [
    {
     "data": {
      "text/html": [
       "<div>\n",
       "<style scoped>\n",
       "    .dataframe tbody tr th:only-of-type {\n",
       "        vertical-align: middle;\n",
       "    }\n",
       "\n",
       "    .dataframe tbody tr th {\n",
       "        vertical-align: top;\n",
       "    }\n",
       "\n",
       "    .dataframe thead th {\n",
       "        text-align: right;\n",
       "    }\n",
       "</style>\n",
       "<table border=\"1\" class=\"dataframe\">\n",
       "  <thead>\n",
       "    <tr style=\"text-align: right;\">\n",
       "      <th></th>\n",
       "      <th>Feature Id</th>\n",
       "      <th>Importances</th>\n",
       "    </tr>\n",
       "  </thead>\n",
       "  <tbody>\n",
       "    <tr>\n",
       "      <th>0</th>\n",
       "      <td>return_on_assets</td>\n",
       "      <td>37.281580</td>\n",
       "    </tr>\n",
       "    <tr>\n",
       "      <th>1</th>\n",
       "      <td>eps</td>\n",
       "      <td>12.925771</td>\n",
       "    </tr>\n",
       "    <tr>\n",
       "      <th>2</th>\n",
       "      <td>net_profit_margin</td>\n",
       "      <td>11.342015</td>\n",
       "    </tr>\n",
       "    <tr>\n",
       "      <th>3</th>\n",
       "      <td>debt_to_equity</td>\n",
       "      <td>10.573310</td>\n",
       "    </tr>\n",
       "    <tr>\n",
       "      <th>4</th>\n",
       "      <td>price_to_casflow</td>\n",
       "      <td>10.412142</td>\n",
       "    </tr>\n",
       "    <tr>\n",
       "      <th>5</th>\n",
       "      <td>interest_coverage</td>\n",
       "      <td>6.133038</td>\n",
       "    </tr>\n",
       "    <tr>\n",
       "      <th>6</th>\n",
       "      <td>current_ratio</td>\n",
       "      <td>4.255519</td>\n",
       "    </tr>\n",
       "    <tr>\n",
       "      <th>7</th>\n",
       "      <td>shareholder_equity</td>\n",
       "      <td>3.606240</td>\n",
       "    </tr>\n",
       "    <tr>\n",
       "      <th>8</th>\n",
       "      <td>cash_ratio</td>\n",
       "      <td>3.470384</td>\n",
       "    </tr>\n",
       "  </tbody>\n",
       "</table>\n",
       "</div>"
      ],
      "text/plain": [
       "           Feature Id  Importances\n",
       "0    return_on_assets    37.281580\n",
       "1                 eps    12.925771\n",
       "2   net_profit_margin    11.342015\n",
       "3      debt_to_equity    10.573310\n",
       "4    price_to_casflow    10.412142\n",
       "5   interest_coverage     6.133038\n",
       "6       current_ratio     4.255519\n",
       "7  shareholder_equity     3.606240\n",
       "8          cash_ratio     3.470384"
      ]
     },
     "metadata": {},
     "output_type": "display_data"
    }
   ],
   "source": [
    "pd.DataFrame(CB_model.get_feature_importance(prettified=True)).head(20)"
   ]
  },
  {
   "cell_type": "markdown",
   "metadata": {},
   "source": [
    "__Вывод__: разница есть, т.к. важности признаков строятся по разным методикам. \n",
    "\n",
    "    В первом случае - это SHAP values. Значение Шэпли для i-той фичи рассчитывается для каждого сэмпла данных (например, для каждого клиента в выборке) на всех возможных комбинациях фичей (включая отсутствие всех фичей), затем полученные значения суммируются по модулю и получается итоговая важность i-той фичи. \n",
    "\n",
    "    Во-втором случае, взят для примера встроенный метод get_feature_importance от реализации градиентного бустинга catboost. Он показывает для каждой i-ой фичи насколько меняется предсказание модели при изменении важности признака. "
   ]
  },
  {
   "cell_type": "markdown",
   "metadata": {},
   "source": [
    "### 3.2. Среди 3 методов, выбрать один, который обеспечивает наилучшее качества решения. Проанализировать SHAP-values для всего набора данных в целом. Меняется ли существенно важность признаков внутри класса и между классами? Какие признаки наиболее важны?"
   ]
  },
  {
   "cell_type": "code",
   "execution_count": null,
   "metadata": {},
   "outputs": [],
   "source": [
    "# TODO"
   ]
  },
  {
   "cell_type": "markdown",
   "metadata": {},
   "source": [
    "### 3.3. Для того же метода, что и в вопросе выше, выбрать 2 примера из разных классов, где модель дает правильный ответ, и 2 примера из разных классов, где модель ошибается. Проанализировать эти примеры для всех 3 моделей с помощью SHAP. Похожи ли объяснения? (Внимание: 4 картинки * 3 модели = 12 примеров)."
   ]
  },
  {
   "cell_type": "code",
   "execution_count": null,
   "metadata": {},
   "outputs": [],
   "source": [
    "df_full = X.copy()\n",
    "df_full['y_pred'] = CB_model.predict(X)\n",
    "df_full['y_pred_proba'] = CB_model.predict_proba(X)[:, 1]\n",
    "df_full['y_true'] = y"
   ]
  },
  {
   "cell_type": "code",
   "execution_count": null,
   "metadata": {},
   "outputs": [
    {
     "data": {
      "text/html": [
       "<div>\n",
       "<style scoped>\n",
       "    .dataframe tbody tr th:only-of-type {\n",
       "        vertical-align: middle;\n",
       "    }\n",
       "\n",
       "    .dataframe tbody tr th {\n",
       "        vertical-align: top;\n",
       "    }\n",
       "\n",
       "    .dataframe thead th {\n",
       "        text-align: right;\n",
       "    }\n",
       "</style>\n",
       "<table border=\"1\" class=\"dataframe\">\n",
       "  <thead>\n",
       "    <tr style=\"text-align: right;\">\n",
       "      <th></th>\n",
       "      <th>debt_to_equity</th>\n",
       "      <th>current_ratio</th>\n",
       "      <th>cash_ratio</th>\n",
       "      <th>return_on_assets</th>\n",
       "      <th>eps</th>\n",
       "      <th>price_to_casflow</th>\n",
       "      <th>shareholder_equity</th>\n",
       "      <th>interest_coverage</th>\n",
       "      <th>net_profit_margin</th>\n",
       "      <th>y_pred</th>\n",
       "      <th>y_true</th>\n",
       "    </tr>\n",
       "  </thead>\n",
       "  <tbody>\n",
       "    <tr>\n",
       "      <th>0</th>\n",
       "      <td>-0.058664</td>\n",
       "      <td>0.062880</td>\n",
       "      <td>-0.278166</td>\n",
       "      <td>0.423497</td>\n",
       "      <td>0.330525</td>\n",
       "      <td>2.811967</td>\n",
       "      <td>0.638116</td>\n",
       "      <td>0.014439</td>\n",
       "      <td>0.372865</td>\n",
       "      <td>1</td>\n",
       "      <td>1</td>\n",
       "    </tr>\n",
       "    <tr>\n",
       "      <th>1</th>\n",
       "      <td>4.840815</td>\n",
       "      <td>-0.820426</td>\n",
       "      <td>-0.427122</td>\n",
       "      <td>0.049725</td>\n",
       "      <td>0.196237</td>\n",
       "      <td>-0.205543</td>\n",
       "      <td>-1.081221</td>\n",
       "      <td>0.244289</td>\n",
       "      <td>-0.117257</td>\n",
       "      <td>1</td>\n",
       "      <td>0</td>\n",
       "    </tr>\n",
       "    <tr>\n",
       "      <th>2</th>\n",
       "      <td>0.023873</td>\n",
       "      <td>-0.789428</td>\n",
       "      <td>-0.351349</td>\n",
       "      <td>-1.149992</td>\n",
       "      <td>0.154927</td>\n",
       "      <td>-0.205610</td>\n",
       "      <td>-0.582956</td>\n",
       "      <td>0.270670</td>\n",
       "      <td>-1.125962</td>\n",
       "      <td>1</td>\n",
       "      <td>1</td>\n",
       "    </tr>\n",
       "    <tr>\n",
       "      <th>3</th>\n",
       "      <td>-0.223837</td>\n",
       "      <td>-0.153447</td>\n",
       "      <td>-0.505887</td>\n",
       "      <td>-0.108256</td>\n",
       "      <td>-0.332992</td>\n",
       "      <td>-0.605507</td>\n",
       "      <td>-0.327450</td>\n",
       "      <td>0.243661</td>\n",
       "      <td>-0.318146</td>\n",
       "      <td>1</td>\n",
       "      <td>0</td>\n",
       "    </tr>\n",
       "    <tr>\n",
       "      <th>4</th>\n",
       "      <td>0.142296</td>\n",
       "      <td>-0.977748</td>\n",
       "      <td>-0.673773</td>\n",
       "      <td>0.884381</td>\n",
       "      <td>0.213255</td>\n",
       "      <td>0.195786</td>\n",
       "      <td>-1.970890</td>\n",
       "      <td>0.164358</td>\n",
       "      <td>0.336564</td>\n",
       "      <td>1</td>\n",
       "      <td>0</td>\n",
       "    </tr>\n",
       "  </tbody>\n",
       "</table>\n",
       "</div>"
      ],
      "text/plain": [
       "   debt_to_equity  current_ratio  cash_ratio  return_on_assets       eps  \\\n",
       "0       -0.058664       0.062880   -0.278166          0.423497  0.330525   \n",
       "1        4.840815      -0.820426   -0.427122          0.049725  0.196237   \n",
       "2        0.023873      -0.789428   -0.351349         -1.149992  0.154927   \n",
       "3       -0.223837      -0.153447   -0.505887         -0.108256 -0.332992   \n",
       "4        0.142296      -0.977748   -0.673773          0.884381  0.213255   \n",
       "\n",
       "   price_to_casflow  shareholder_equity  interest_coverage  net_profit_margin  \\\n",
       "0          2.811967            0.638116           0.014439           0.372865   \n",
       "1         -0.205543           -1.081221           0.244289          -0.117257   \n",
       "2         -0.205610           -0.582956           0.270670          -1.125962   \n",
       "3         -0.605507           -0.327450           0.243661          -0.318146   \n",
       "4          0.195786           -1.970890           0.164358           0.336564   \n",
       "\n",
       "   y_pred  y_true  \n",
       "0       1       1  \n",
       "1       1       0  \n",
       "2       1       1  \n",
       "3       1       0  \n",
       "4       1       0  "
      ]
     },
     "metadata": {},
     "output_type": "display_data"
    }
   ],
   "source": [
    "df_full.head()"
   ]
  },
  {
   "cell_type": "markdown",
   "metadata": {},
   "source": [
    "#### Catboost model"
   ]
  },
  {
   "cell_type": "code",
   "execution_count": null,
   "metadata": {},
   "outputs": [
    {
     "data": {
      "text/html": [
       "\n",
       "<div id='iKT8B19W3L9WGJ7NHTJ2L'>\n",
       "<div style='color: #900; text-align: center;'>\n",
       "  <b>Visualization omitted, Javascript library not loaded!</b><br>\n",
       "  Have you run `initjs()` in this notebook? If this notebook was from another\n",
       "  user you must also trust this notebook (File -> Trust notebook). If you are viewing\n",
       "  this notebook on github the Javascript has been stripped for security. If you are using\n",
       "  JupyterLab this error is because a JupyterLab extension has not yet been written.\n",
       "</div></div>\n",
       " <script>\n",
       "   if (window.SHAP) SHAP.ReactDom.render(\n",
       "    SHAP.React.createElement(SHAP.AdditiveForceVisualizer, {\"outNames\": [\"f(x)\"], \"baseValue\": 0.04593006587894694, \"outValue\": -0.025497485851018332, \"link\": \"identity\", \"featureNames\": [\"Feature 0\", \"Feature 1\", \"Feature 2\", \"Feature 3\", \"Feature 4\", \"Feature 5\", \"Feature 6\", \"Feature 7\", \"Feature 8\"], \"features\": {\"0\": {\"effect\": -0.007987679690939754, \"value\": \"\"}, \"1\": {\"effect\": -0.001771198714769955, \"value\": \"\"}, \"2\": {\"effect\": -0.00017529991121857013, \"value\": \"\"}, \"3\": {\"effect\": -0.023174334103988965, \"value\": \"\"}, \"4\": {\"effect\": -0.016327208108309794, \"value\": \"\"}, \"5\": {\"effect\": -0.014928539085594264, \"value\": \"\"}, \"6\": {\"effect\": 5.1519393727167486e-05, \"value\": \"\"}, \"7\": {\"effect\": -0.00306151897659792, \"value\": \"\"}, \"8\": {\"effect\": -0.004053292532273226, \"value\": \"\"}}, \"plot_cmap\": \"RdBu\", \"labelMargin\": 20}),\n",
       "    document.getElementById('iKT8B19W3L9WGJ7NHTJ2L')\n",
       "  );\n",
       "</script>"
      ],
      "text/plain": [
       "<shap.plots._force.AdditiveForceVisualizer at 0x143a9aa9d60>"
      ]
     },
     "metadata": {},
     "output_type": "display_data"
    }
   ],
   "source": [
    "# класс 0, модель правильно ответила\n",
    "\n",
    "ind = df_full[(df_full['y_true']==0)\n",
    "    &(df_full['y_true']==df_full['y_pred'])].sample(1).index[0]\n",
    "\n",
    "shap.plots.force(explainer.expected_value,shap_values[ind])"
   ]
  },
  {
   "cell_type": "code",
   "execution_count": null,
   "metadata": {},
   "outputs": [
    {
     "data": {
      "text/html": [
       "\n",
       "<div id='iNNEXEGTEIQN4NTFRU18G'>\n",
       "<div style='color: #900; text-align: center;'>\n",
       "  <b>Visualization omitted, Javascript library not loaded!</b><br>\n",
       "  Have you run `initjs()` in this notebook? If this notebook was from another\n",
       "  user you must also trust this notebook (File -> Trust notebook). If you are viewing\n",
       "  this notebook on github the Javascript has been stripped for security. If you are using\n",
       "  JupyterLab this error is because a JupyterLab extension has not yet been written.\n",
       "</div></div>\n",
       " <script>\n",
       "   if (window.SHAP) SHAP.ReactDom.render(\n",
       "    SHAP.React.createElement(SHAP.AdditiveForceVisualizer, {\"outNames\": [\"f(x)\"], \"baseValue\": 0.04593006587894694, \"outValue\": 0.02638685573986472, \"link\": \"identity\", \"featureNames\": [\"Feature 0\", \"Feature 1\", \"Feature 2\", \"Feature 3\", \"Feature 4\", \"Feature 5\", \"Feature 6\", \"Feature 7\", \"Feature 8\"], \"features\": {\"0\": {\"effect\": -0.0007953858200606515, \"value\": \"\"}, \"1\": {\"effect\": 0.0023366931358372676, \"value\": \"\"}, \"2\": {\"effect\": -0.000581234528704091, \"value\": \"\"}, \"3\": {\"effect\": -0.018925504984835303, \"value\": \"\"}, \"4\": {\"effect\": 0.0040851946801414496, \"value\": \"\"}, \"5\": {\"effect\": 0.0005351350062497194, \"value\": \"\"}, \"6\": {\"effect\": -0.00018886892200141304, \"value\": \"\"}, \"7\": {\"effect\": -0.0028729144939212458, \"value\": \"\"}, \"8\": {\"effect\": -0.003136324211787953, \"value\": \"\"}}, \"plot_cmap\": \"RdBu\", \"labelMargin\": 20}),\n",
       "    document.getElementById('iNNEXEGTEIQN4NTFRU18G')\n",
       "  );\n",
       "</script>"
      ],
      "text/plain": [
       "<shap.plots._force.AdditiveForceVisualizer at 0x143a9aa9970>"
      ]
     },
     "metadata": {},
     "output_type": "display_data"
    }
   ],
   "source": [
    "# класс 1, модель правильно ответила\n",
    "\n",
    "ind = df_full[(df_full['y_true']==1)\n",
    "    &(df_full['y_true']==df_full['y_pred'])].sample(1).index[0]\n",
    "\n",
    "shap.plots.force(explainer.expected_value,shap_values[ind])"
   ]
  },
  {
   "cell_type": "code",
   "execution_count": null,
   "metadata": {},
   "outputs": [
    {
     "data": {
      "text/html": [
       "\n",
       "<div id='iC7XLLWQ1BTF6FUGFFMP3'>\n",
       "<div style='color: #900; text-align: center;'>\n",
       "  <b>Visualization omitted, Javascript library not loaded!</b><br>\n",
       "  Have you run `initjs()` in this notebook? If this notebook was from another\n",
       "  user you must also trust this notebook (File -> Trust notebook). If you are viewing\n",
       "  this notebook on github the Javascript has been stripped for security. If you are using\n",
       "  JupyterLab this error is because a JupyterLab extension has not yet been written.\n",
       "</div></div>\n",
       " <script>\n",
       "   if (window.SHAP) SHAP.ReactDom.render(\n",
       "    SHAP.React.createElement(SHAP.AdditiveForceVisualizer, {\"outNames\": [\"f(x)\"], \"baseValue\": 0.04593006587894694, \"outValue\": 0.02445871574337398, \"link\": \"identity\", \"featureNames\": [\"Feature 0\", \"Feature 1\", \"Feature 2\", \"Feature 3\", \"Feature 4\", \"Feature 5\", \"Feature 6\", \"Feature 7\", \"Feature 8\"], \"features\": {\"0\": {\"effect\": -0.0024585018932761784, \"value\": \"\"}, \"1\": {\"effect\": 6.512425555739537e-06, \"value\": \"\"}, \"2\": {\"effect\": -0.0006013875189083284, \"value\": \"\"}, \"3\": {\"effect\": -0.02232464417092062, \"value\": \"\"}, \"4\": {\"effect\": -0.004331360064015151, \"value\": \"\"}, \"5\": {\"effect\": 0.00438129322082304, \"value\": \"\"}, \"6\": {\"effect\": -0.0001245991817425025, \"value\": \"\"}, \"7\": {\"effect\": 0.004038869226463722, \"value\": \"\"}, \"8\": {\"effect\": -5.7532179552686545e-05, \"value\": \"\"}}, \"plot_cmap\": \"RdBu\", \"labelMargin\": 20}),\n",
       "    document.getElementById('iC7XLLWQ1BTF6FUGFFMP3')\n",
       "  );\n",
       "</script>"
      ],
      "text/plain": [
       "<shap.plots._force.AdditiveForceVisualizer at 0x143a9aa90d0>"
      ]
     },
     "metadata": {},
     "output_type": "display_data"
    }
   ],
   "source": [
    "# класс 0, модель ошиблась\n",
    "\n",
    "ind = df_full[(df_full['y_true']==0)\n",
    "    &(df_full['y_true']!=df_full['y_pred'])].sample(1).index[0]\n",
    "\n",
    "shap.plots.force(explainer.expected_value,shap_values[ind])"
   ]
  },
  {
   "cell_type": "code",
   "execution_count": null,
   "metadata": {},
   "outputs": [
    {
     "data": {
      "text/html": [
       "\n",
       "<div id='iT5N56HU01DB9G6P353HP'>\n",
       "<div style='color: #900; text-align: center;'>\n",
       "  <b>Visualization omitted, Javascript library not loaded!</b><br>\n",
       "  Have you run `initjs()` in this notebook? If this notebook was from another\n",
       "  user you must also trust this notebook (File -> Trust notebook). If you are viewing\n",
       "  this notebook on github the Javascript has been stripped for security. If you are using\n",
       "  JupyterLab this error is because a JupyterLab extension has not yet been written.\n",
       "</div></div>\n",
       " <script>\n",
       "   if (window.SHAP) SHAP.ReactDom.render(\n",
       "    SHAP.React.createElement(SHAP.AdditiveForceVisualizer, {\"outNames\": [\"f(x)\"], \"baseValue\": 0.04593006587894694, \"outValue\": -0.004045706518864038, \"link\": \"identity\", \"featureNames\": [\"Feature 0\", \"Feature 1\", \"Feature 2\", \"Feature 3\", \"Feature 4\", \"Feature 5\", \"Feature 6\", \"Feature 7\", \"Feature 8\"], \"features\": {\"0\": {\"effect\": -0.006006654581370187, \"value\": \"\"}, \"1\": {\"effect\": 0.0047865710314221105, \"value\": \"\"}, \"2\": {\"effect\": -0.00016970450137365414, \"value\": \"\"}, \"3\": {\"effect\": -0.021601367336676964, \"value\": \"\"}, \"4\": {\"effect\": -0.013783898920046854, \"value\": \"\"}, \"5\": {\"effect\": -0.011476892134095747, \"value\": \"\"}, \"6\": {\"effect\": 0.0013198400574968372, \"value\": \"\"}, \"7\": {\"effect\": -0.0038657333937591916, \"value\": \"\"}, \"8\": {\"effect\": 0.0008220673805926729, \"value\": \"\"}}, \"plot_cmap\": \"RdBu\", \"labelMargin\": 20}),\n",
       "    document.getElementById('iT5N56HU01DB9G6P353HP')\n",
       "  );\n",
       "</script>"
      ],
      "text/plain": [
       "<shap.plots._force.AdditiveForceVisualizer at 0x143a9aa95b0>"
      ]
     },
     "metadata": {},
     "output_type": "display_data"
    }
   ],
   "source": [
    "# класс 1, модель ошиблась\n",
    "\n",
    "ind = df_full[(df_full['y_true']==1)\n",
    "    &(df_full['y_true']!=df_full['y_pred'])].sample(1).index[0]\n",
    "\n",
    "shap.plots.force(explainer.expected_value,shap_values[ind])"
   ]
  },
  {
   "cell_type": "markdown",
   "metadata": {},
   "source": [
    "__Вывод:__ по отдельным примерам видно, как признаки из топа SHAP-values влияют на предсказание модели. Например, в случае, где модель проставила правильно класс 0, feature 4 (EPS) \"тянет\" пример к классу 0. Это видно и на суммарном графике summary_plot, где чем ниже EPS, тем более это склоняет пример к классу 0. Аналогично с классом 1, где высокое значение EPS тянет пример к классу 1."
   ]
  },
  {
   "cell_type": "markdown",
   "metadata": {},
   "source": [
    "### LogisticRegression"
   ]
  },
  {
   "cell_type": "code",
   "execution_count": null,
   "metadata": {},
   "outputs": [],
   "source": [
    "# LR_model = LogisticRegression(penalty='l2', random_state=42)\n",
    "# LR_model.fit(X, y)\n",
    "\n",
    "\n",
    "df_full['y_pred'] = LR_model.predict(X)\n",
    "df_full['y_pred_proba'] = LR_model.predict_proba(X)[:, 1]\n",
    "df_full['y_true'] = y"
   ]
  },
  {
   "cell_type": "code",
   "execution_count": null,
   "metadata": {},
   "outputs": [],
   "source": [
    "explainer = shap.Explainer(LR_model, X)\n",
    "shap_values = explainer(X)"
   ]
  },
  {
   "cell_type": "code",
   "execution_count": null,
   "metadata": {},
   "outputs": [
    {
     "data": {
      "image/png": "[encoded data removed]",
      "text/plain": [
       "<Figure size 576x367.2 with 2 Axes>"
      ]
     },
     "metadata": {},
     "output_type": "display_data"
    }
   ],
   "source": [
    "shap.summary_plot(shap_values, X)"
   ]
  },
  {
   "cell_type": "code",
   "execution_count": null,
   "metadata": {},
   "outputs": [
    {
     "data": {
      "text/html": [
       "\n",
       "<div id='iNHYN8O7M7O2IMTHAODY9'>\n",
       "<div style='color: #900; text-align: center;'>\n",
       "  <b>Visualization omitted, Javascript library not loaded!</b><br>\n",
       "  Have you run `initjs()` in this notebook? If this notebook was from another\n",
       "  user you must also trust this notebook (File -> Trust notebook). If you are viewing\n",
       "  this notebook on github the Javascript has been stripped for security. If you are using\n",
       "  JupyterLab this error is because a JupyterLab extension has not yet been written.\n",
       "</div></div>\n",
       " <script>\n",
       "   if (window.SHAP) SHAP.ReactDom.render(\n",
       "    SHAP.React.createElement(SHAP.AdditiveForceVisualizer, {\"outNames\": [\"f(x)\"], \"baseValue\": 0.5298440513040096, \"outValue\": -0.7319466093408556, \"link\": \"identity\", \"featureNames\": [\"debt_to_equity\", \"current_ratio\", \"cash_ratio\", \"return_on_assets\", \"eps\", \"price_to_casflow\", \"shareholder_equity\", \"interest_coverage\", \"net_profit_margin\"], \"features\": {\"0\": {\"effect\": 0.026375658939658354, \"value\": -0.5288371639958898}, \"1\": {\"effect\": -0.08660055519832177, \"value\": -0.8208646772826549}, \"2\": {\"effect\": 0.14636362825578647, \"value\": -0.7007662682059728}, \"3\": {\"effect\": -0.48904915860214304, \"value\": 2.9925103516871805}, \"4\": {\"effect\": 0.00012022955517313838, \"value\": 0.16362369314670133}, \"5\": {\"effect\": -0.47132392874947454, \"value\": 4.898747198578413}, \"6\": {\"effect\": 0.03669849884167502, \"value\": -3.6300492567895346}, \"7\": {\"effect\": 0.025213962507499924, \"value\": 0.23826667543424757}, \"8\": {\"effect\": -0.44958899619471887, \"value\": 2.1589788739384774}}, \"plot_cmap\": \"RdBu\", \"labelMargin\": 20}),\n",
       "    document.getElementById('iNHYN8O7M7O2IMTHAODY9')\n",
       "  );\n",
       "</script>"
      ],
      "text/plain": [
       "<shap.plots._force.AdditiveForceVisualizer at 0x143a9c2e9a0>"
      ]
     },
     "metadata": {},
     "output_type": "display_data"
    }
   ],
   "source": [
    "# класс 0, модель правильно ответила\n",
    "\n",
    "ind = df_full[(df_full['y_true']==0)\n",
    "    &(df_full['y_true']==df_full['y_pred'])].sample(1).index[0]\n",
    "\n",
    "shap.plots.force(shap_values[ind])"
   ]
  },
  {
   "cell_type": "code",
   "execution_count": null,
   "metadata": {},
   "outputs": [
    {
     "data": {
      "text/html": [
       "\n",
       "<div id='iV5WAE2QGAN3NONDWOG8A'>\n",
       "<div style='color: #900; text-align: center;'>\n",
       "  <b>Visualization omitted, Javascript library not loaded!</b><br>\n",
       "  Have you run `initjs()` in this notebook? If this notebook was from another\n",
       "  user you must also trust this notebook (File -> Trust notebook). If you are viewing\n",
       "  this notebook on github the Javascript has been stripped for security. If you are using\n",
       "  JupyterLab this error is because a JupyterLab extension has not yet been written.\n",
       "</div></div>\n",
       " <script>\n",
       "   if (window.SHAP) SHAP.ReactDom.render(\n",
       "    SHAP.React.createElement(SHAP.AdditiveForceVisualizer, {\"outNames\": [\"f(x)\"], \"baseValue\": 0.5298440513040096, \"outValue\": 0.23528885469460342, \"link\": \"identity\", \"featureNames\": [\"debt_to_equity\", \"current_ratio\", \"cash_ratio\", \"return_on_assets\", \"eps\", \"price_to_casflow\", \"shareholder_equity\", \"interest_coverage\", \"net_profit_margin\"], \"features\": {\"0\": {\"effect\": -0.12823551410381304, \"value\": 0.8592706206209106}, \"1\": {\"effect\": 0.32900584418649065, \"value\": 3.168160977399963}, \"2\": {\"effect\": -0.11496954178972663, \"value\": 0.6214662420273737}, \"3\": {\"effect\": -0.28959375094168693, \"value\": 1.7671244874480199}, \"4\": {\"effect\": 0.002423806402527429, \"value\": 0.7256898868463485}, \"5\": {\"effect\": 0.0004845279605308266, \"value\": -0.058747653452880105}, \"6\": {\"effect\": 0.014394499192210097, \"value\": -1.3991162412295055}, \"7\": {\"effect\": -0.08480535738769968, \"value\": -1.078069236900188}, \"8\": {\"effect\": -0.023259710128238832, \"value\": -0.1004216547310186}}, \"plot_cmap\": \"RdBu\", \"labelMargin\": 20}),\n",
       "    document.getElementById('iV5WAE2QGAN3NONDWOG8A')\n",
       "  );\n",
       "</script>"
      ],
      "text/plain": [
       "<shap.plots._force.AdditiveForceVisualizer at 0x143a9c2e3d0>"
      ]
     },
     "metadata": {},
     "output_type": "display_data"
    }
   ],
   "source": [
    "# класс 1, модель правильно ответила\n",
    "\n",
    "ind = df_full[(df_full['y_true']==1)\n",
    "    &(df_full['y_true']==df_full['y_pred'])].sample(1).index[0]\n",
    "\n",
    "shap.plots.force(shap_values[ind])"
   ]
  },
  {
   "cell_type": "code",
   "execution_count": null,
   "metadata": {},
   "outputs": [
    {
     "data": {
      "text/html": [
       "\n",
       "<div id='iLLSOBGW6RTZE82BP28BA'>\n",
       "<div style='color: #900; text-align: center;'>\n",
       "  <b>Visualization omitted, Javascript library not loaded!</b><br>\n",
       "  Have you run `initjs()` in this notebook? If this notebook was from another\n",
       "  user you must also trust this notebook (File -> Trust notebook). If you are viewing\n",
       "  this notebook on github the Javascript has been stripped for security. If you are using\n",
       "  JupyterLab this error is because a JupyterLab extension has not yet been written.\n",
       "</div></div>\n",
       " <script>\n",
       "   if (window.SHAP) SHAP.ReactDom.render(\n",
       "    SHAP.React.createElement(SHAP.AdditiveForceVisualizer, {\"outNames\": [\"f(x)\"], \"baseValue\": 0.5298440513040096, \"outValue\": 0.05522235259322694, \"link\": \"identity\", \"featureNames\": [\"debt_to_equity\", \"current_ratio\", \"cash_ratio\", \"return_on_assets\", \"eps\", \"price_to_casflow\", \"shareholder_equity\", \"interest_coverage\", \"net_profit_margin\"], \"features\": {\"0\": {\"effect\": -0.05379047875869447, \"value\": 0.19089891724099461}, \"1\": {\"effect\": 0.006285089686791992, \"value\": 0.07065966148333327}, \"2\": {\"effect\": -0.10097451110751705, \"value\": 0.5506574558847346}, \"3\": {\"effect\": -0.12529146007491862, \"value\": 0.7577073598212261}, \"4\": {\"effect\": -0.0015258137531293163, \"value\": -0.23800618867162457}, \"5\": {\"effect\": 0.027800673550234228, \"value\": -0.34577017119788717}, \"6\": {\"effect\": 0.005441343382331888, \"value\": -0.5035866858302537}, \"7\": {\"effect\": 0.020412036274733456, \"value\": 0.1808136030593918}, \"8\": {\"effect\": -0.25297857791061473, \"value\": 1.1170103826071887}}, \"plot_cmap\": \"RdBu\", \"labelMargin\": 20}),\n",
       "    document.getElementById('iLLSOBGW6RTZE82BP28BA')\n",
       "  );\n",
       "</script>"
      ],
      "text/plain": [
       "<shap.plots._force.AdditiveForceVisualizer at 0x143a9c2e640>"
      ]
     },
     "metadata": {},
     "output_type": "display_data"
    }
   ],
   "source": [
    "# класс 0, модель ошиблась\n",
    "\n",
    "ind = df_full[(df_full['y_true']==0)\n",
    "    &(df_full['y_true']!=df_full['y_pred'])].sample(1).index[0]\n",
    "\n",
    "shap.plots.force(shap_values[ind])"
   ]
  },
  {
   "cell_type": "code",
   "execution_count": null,
   "metadata": {},
   "outputs": [
    {
     "data": {
      "text/html": [
       "\n",
       "<div id='i98DQ7I6VNCRWKKVAU3TJ'>\n",
       "<div style='color: #900; text-align: center;'>\n",
       "  <b>Visualization omitted, Javascript library not loaded!</b><br>\n",
       "  Have you run `initjs()` in this notebook? If this notebook was from another\n",
       "  user you must also trust this notebook (File -> Trust notebook). If you are viewing\n",
       "  this notebook on github the Javascript has been stripped for security. If you are using\n",
       "  JupyterLab this error is because a JupyterLab extension has not yet been written.\n",
       "</div></div>\n",
       " <script>\n",
       "   if (window.SHAP) SHAP.ReactDom.render(\n",
       "    SHAP.React.createElement(SHAP.AdditiveForceVisualizer, {\"outNames\": [\"f(x)\"], \"baseValue\": 0.5298440513040096, \"outValue\": -0.23628357174362002, \"link\": \"identity\", \"featureNames\": [\"debt_to_equity\", \"current_ratio\", \"cash_ratio\", \"return_on_assets\", \"eps\", \"price_to_casflow\", \"shareholder_equity\", \"interest_coverage\", \"net_profit_margin\"], \"features\": {\"0\": {\"effect\": -0.06029175449255981, \"value\": 0.24926773547369374}, \"1\": {\"effect\": 0.29317323303383913, \"value\": 2.8242365205730917}, \"2\": {\"effect\": -0.0879296299629516, \"value\": 0.48465601435907407}, \"3\": {\"effect\": -0.132717945117735, \"value\": 0.803333146051814}, \"4\": {\"effect\": 0.0003282048340147197, \"value\": 0.21436906918934037}, \"5\": {\"effect\": -0.021621593269658554, \"value\": 0.17353089229689023}, \"6\": {\"effect\": -0.014850160660951149, \"value\": 1.5260486718180757}, \"7\": {\"effect\": -0.6382081183356996, \"value\": -7.699305660782733}, \"8\": {\"effect\": -0.10400985907592772, \"value\": 0.3275267297346426}}, \"plot_cmap\": \"RdBu\", \"labelMargin\": 20}),\n",
       "    document.getElementById('i98DQ7I6VNCRWKKVAU3TJ')\n",
       "  );\n",
       "</script>"
      ],
      "text/plain": [
       "<shap.plots._force.AdditiveForceVisualizer at 0x143a9aa9310>"
      ]
     },
     "metadata": {},
     "output_type": "display_data"
    }
   ],
   "source": [
    "# класс 1, модель ошиблась\n",
    "\n",
    "ind = df_full[(df_full['y_true']==1)\n",
    "    &(df_full['y_true']!=df_full['y_pred'])].sample(1).index[0]\n",
    "\n",
    "shap.plots.force(shap_values[ind])"
   ]
  },
  {
   "cell_type": "markdown",
   "metadata": {},
   "source": [
    "__Вывод:__ качество модели хуже, чем у градиентного бустинга, поэтому на общем summary_plot видно, как плохо признаки разделяют примеры на классы. По конкретным примерам видно, например, что высокие значения Current_ratio склоняют примеры к классу 1, а низкие наоборот."
   ]
  },
  {
   "cell_type": "markdown",
   "metadata": {},
   "source": [
    "### SGDClassifier"
   ]
  },
  {
   "cell_type": "code",
   "execution_count": null,
   "metadata": {},
   "outputs": [],
   "source": [
    "# SGDClassifier_model = SGDClassifier(loss='perceptron', penalty='l2', random_state=42)\n",
    "# SGDClassifier_model.fit(X_train, y_train_class)\n",
    "\n",
    "\n",
    "df_full['y_pred'] = SGDClassifier_model.predict(X)\n",
    "df_full['y_true'] = y"
   ]
  },
  {
   "cell_type": "code",
   "execution_count": null,
   "metadata": {},
   "outputs": [],
   "source": [
    "explainer = shap.Explainer(SGDClassifier_model, X)\n",
    "shap_values = explainer(X)"
   ]
  },
  {
   "cell_type": "code",
   "execution_count": null,
   "metadata": {},
   "outputs": [
    {
     "data": {
      "image/png": "[encoded data removed]",
      "text/plain": [
       "<Figure size 576x367.2 with 2 Axes>"
      ]
     },
     "metadata": {},
     "output_type": "display_data"
    }
   ],
   "source": [
    "shap.summary_plot(shap_values, X)"
   ]
  },
  {
   "cell_type": "code",
   "execution_count": null,
   "metadata": {},
   "outputs": [
    {
     "data": {
      "text/html": [
       "\n",
       "<div id='iFWSYT5R8388L2U74JD9Z'>\n",
       "<div style='color: #900; text-align: center;'>\n",
       "  <b>Visualization omitted, Javascript library not loaded!</b><br>\n",
       "  Have you run `initjs()` in this notebook? If this notebook was from another\n",
       "  user you must also trust this notebook (File -> Trust notebook). If you are viewing\n",
       "  this notebook on github the Javascript has been stripped for security. If you are using\n",
       "  JupyterLab this error is because a JupyterLab extension has not yet been written.\n",
       "</div></div>\n",
       " <script>\n",
       "   if (window.SHAP) SHAP.ReactDom.render(\n",
       "    SHAP.React.createElement(SHAP.AdditiveForceVisualizer, {\"outNames\": [\"f(x)\"], \"baseValue\": 2.1746941352150224, \"outValue\": -0.7636306348433921, \"link\": \"identity\", \"featureNames\": [\"debt_to_equity\", \"current_ratio\", \"cash_ratio\", \"return_on_assets\", \"eps\", \"price_to_casflow\", \"shareholder_equity\", \"interest_coverage\", \"net_profit_margin\"], \"features\": {\"0\": {\"effect\": 0.054575122830345484, \"value\": -0.22890724141623794}, \"1\": {\"effect\": -1.6108937792623204, \"value\": -0.8102929131388339}, \"2\": {\"effect\": 0.4531980636146681, \"value\": -0.6115311420964656}, \"3\": {\"effect\": -0.15976073932536825, \"value\": 0.1380204112519865}, \"4\": {\"effect\": -2.1493824490992104, \"value\": -0.4286532606581631}, \"5\": {\"effect\": 0.6025609313740674, \"value\": 0.24425613561620485}, \"6\": {\"effect\": -0.13137857722334842, \"value\": -0.004088784768007873}, \"7\": {\"effect\": 0.41620662042322093, \"value\": 0.12694598673065619}, \"8\": {\"effect\": -0.4134499633904691, \"value\": 0.10692161443351143}}, \"plot_cmap\": \"RdBu\", \"labelMargin\": 20}),\n",
       "    document.getElementById('iFWSYT5R8388L2U74JD9Z')\n",
       "  );\n",
       "</script>"
      ],
      "text/plain": [
       "<shap.plots._force.AdditiveForceVisualizer at 0x143a9cb8ca0>"
      ]
     },
     "metadata": {},
     "output_type": "display_data"
    }
   ],
   "source": [
    "# класс 0, модель правильно ответила\n",
    "\n",
    "ind = df_full[(df_full['y_true']==0)\n",
    "    &(df_full['y_true']==df_full['y_pred'])].sample(1).index[0]\n",
    "\n",
    "shap.force_plot(shap_values[ind])"
   ]
  },
  {
   "cell_type": "code",
   "execution_count": null,
   "metadata": {},
   "outputs": [
    {
     "data": {
      "text/html": [
       "\n",
       "<div id='iARMFIHOPIMRFLT7ZKTM7'>\n",
       "<div style='color: #900; text-align: center;'>\n",
       "  <b>Visualization omitted, Javascript library not loaded!</b><br>\n",
       "  Have you run `initjs()` in this notebook? If this notebook was from another\n",
       "  user you must also trust this notebook (File -> Trust notebook). If you are viewing\n",
       "  this notebook on github the Javascript has been stripped for security. If you are using\n",
       "  JupyterLab this error is because a JupyterLab extension has not yet been written.\n",
       "</div></div>\n",
       " <script>\n",
       "   if (window.SHAP) SHAP.ReactDom.render(\n",
       "    SHAP.React.createElement(SHAP.AdditiveForceVisualizer, {\"outNames\": [\"f(x)\"], \"baseValue\": 2.1746941352150224, \"outValue\": 2.0446003761663656, \"link\": \"identity\", \"featureNames\": [\"debt_to_equity\", \"current_ratio\", \"cash_ratio\", \"return_on_assets\", \"eps\", \"price_to_casflow\", \"shareholder_equity\", \"interest_coverage\", \"net_profit_margin\"], \"features\": {\"0\": {\"effect\": 0.08686945596155946, \"value\": -0.19155195284575224}, \"1\": {\"effect\": 0.6119477180563236, \"value\": 0.3220756114027788}, \"2\": {\"effect\": 0.2671186714616526, \"value\": -0.34411216789639215}, \"3\": {\"effect\": -0.22929900514865273, \"value\": 0.20333670475319005}, \"4\": {\"effect\": 0.13599673772685372, \"value\": 0.16990670976741454}, \"5\": {\"effect\": -0.3067910107845455, \"value\": -0.20533730487126078}, \"6\": {\"effect\": -0.33302430600873395, \"value\": -0.07279838722335907}, \"7\": {\"effect\": 0.4574711794990379, \"value\": 0.14581852164586184}, \"8\": {\"effect\": -0.8203831998121522, \"value\": 0.43232240665738025}}, \"plot_cmap\": \"RdBu\", \"labelMargin\": 20}),\n",
       "    document.getElementById('iARMFIHOPIMRFLT7ZKTM7')\n",
       "  );\n",
       "</script>"
      ],
      "text/plain": [
       "<shap.plots._force.AdditiveForceVisualizer at 0x143a9cf3550>"
      ]
     },
     "metadata": {},
     "output_type": "display_data"
    }
   ],
   "source": [
    "# класс 1, модель правильно ответила\n",
    "\n",
    "ind = df_full[(df_full['y_true']==1)\n",
    "    &(df_full['y_true']==df_full['y_pred'])].sample(1).index[0]\n",
    "\n",
    "shap.plots.force(shap_values[ind])"
   ]
  },
  {
   "cell_type": "code",
   "execution_count": null,
   "metadata": {},
   "outputs": [
    {
     "data": {
      "text/html": [
       "\n",
       "<div id='iNOOBR4RWE4HAA67OOLP7'>\n",
       "<div style='color: #900; text-align: center;'>\n",
       "  <b>Visualization omitted, Javascript library not loaded!</b><br>\n",
       "  Have you run `initjs()` in this notebook? If this notebook was from another\n",
       "  user you must also trust this notebook (File -> Trust notebook). If you are viewing\n",
       "  this notebook on github the Javascript has been stripped for security. If you are using\n",
       "  JupyterLab this error is because a JupyterLab extension has not yet been written.\n",
       "</div></div>\n",
       " <script>\n",
       "   if (window.SHAP) SHAP.ReactDom.render(\n",
       "    SHAP.React.createElement(SHAP.AdditiveForceVisualizer, {\"outNames\": [\"f(x)\"], \"baseValue\": 2.1746941352150224, \"outValue\": 8.59653129940119, \"link\": \"identity\", \"featureNames\": [\"debt_to_equity\", \"current_ratio\", \"cash_ratio\", \"return_on_assets\", \"eps\", \"price_to_casflow\", \"shareholder_equity\", \"interest_coverage\", \"net_profit_margin\"], \"features\": {\"0\": {\"effect\": 0.0056671976965239615, \"value\": -0.28547969483506275}, \"1\": {\"effect\": 12.80670490782308, \"value\": 6.534376048827937}, \"2\": {\"effect\": -0.7102997949042125, \"value\": 1.0605583902749947}, \"3\": {\"effect\": -0.7561157294446372, \"value\": 0.6981680810906953}, \"4\": {\"effect\": -1.6061817488672252, \"value\": -0.2863844428881185}, \"5\": {\"effect\": -0.3533556766436656, \"value\": -0.22835937955782853}, \"6\": {\"effect\": 0.611816146402888, \"value\": 0.24915046961571438}, \"7\": {\"effect\": -3.156898989591259, \"value\": -1.5072302141301634}, \"8\": {\"effect\": -0.41949914828532425, \"value\": 0.11175879503444615}}, \"plot_cmap\": \"RdBu\", \"labelMargin\": 20}),\n",
       "    document.getElementById('iNOOBR4RWE4HAA67OOLP7')\n",
       "  );\n",
       "</script>"
      ],
      "text/plain": [
       "<shap.plots._force.AdditiveForceVisualizer at 0x143a9d078b0>"
      ]
     },
     "metadata": {},
     "output_type": "display_data"
    }
   ],
   "source": [
    "# класс 0, модель ошиблась\n",
    "\n",
    "ind = df_full[(df_full['y_true']==0)\n",
    "    &(df_full['y_true']!=df_full['y_pred'])].sample(1).index[0]\n",
    "\n",
    "shap.plots.force(shap_values[ind])"
   ]
  },
  {
   "cell_type": "code",
   "execution_count": null,
   "metadata": {},
   "outputs": [
    {
     "data": {
      "text/html": [
       "\n",
       "<div id='iPLYO31HKO5LDX4QOJVIW'>\n",
       "<div style='color: #900; text-align: center;'>\n",
       "  <b>Visualization omitted, Javascript library not loaded!</b><br>\n",
       "  Have you run `initjs()` in this notebook? If this notebook was from another\n",
       "  user you must also trust this notebook (File -> Trust notebook). If you are viewing\n",
       "  this notebook on github the Javascript has been stripped for security. If you are using\n",
       "  JupyterLab this error is because a JupyterLab extension has not yet been written.\n",
       "</div></div>\n",
       " <script>\n",
       "   if (window.SHAP) SHAP.ReactDom.render(\n",
       "    SHAP.React.createElement(SHAP.AdditiveForceVisualizer, {\"outNames\": [\"f(x)\"], \"baseValue\": 2.1746941352150224, \"outValue\": -2.0691852427361677, \"link\": \"identity\", \"featureNames\": [\"debt_to_equity\", \"current_ratio\", \"cash_ratio\", \"return_on_assets\", \"eps\", \"price_to_casflow\", \"shareholder_equity\", \"interest_coverage\", \"net_profit_margin\"], \"features\": {\"0\": {\"effect\": -1.3039490575077246, \"value\": -1.8003303942126891}, \"1\": {\"effect\": -2.251943818577359, \"value\": -1.1368591069282488}, \"2\": {\"effect\": 0.956067099158819, \"value\": -1.3342157988241445}, \"3\": {\"effect\": 2.8090258592237447, \"value\": -2.6505181655663033}, \"4\": {\"effect\": -3.0254030584957223, \"value\": -0.6580904031136309}, \"5\": {\"effect\": -0.47158391171899633, \"value\": -0.28681269835110096}, \"6\": {\"effect\": -5.740703983390133, \"value\": -1.9154336023446967}, \"7\": {\"effect\": 1.0795186810528874, \"value\": 0.4303147928994045}, \"8\": {\"effect\": 3.705092812303294, \"value\": -3.186437005774862}}, \"plot_cmap\": \"RdBu\", \"labelMargin\": 20}),\n",
       "    document.getElementById('iPLYO31HKO5LDX4QOJVIW')\n",
       "  );\n",
       "</script>"
      ],
      "text/plain": [
       "<shap.plots._force.AdditiveForceVisualizer at 0x143a9d07610>"
      ]
     },
     "metadata": {},
     "output_type": "display_data"
    }
   ],
   "source": [
    "# класс 1, модель ошиблась\n",
    "\n",
    "ind = df_full[(df_full['y_true']==1)\n",
    "    &(df_full['y_true']!=df_full['y_pred'])].sample(1).index[0]\n",
    "\n",
    "shap.plots.force(shap_values[ind])"
   ]
  },
  {
   "cell_type": "markdown",
   "metadata": {},
   "source": [
    "__Вывод:__ эта модель показало еще более худшее качество, поэтому и по SHAP values на общем графике виден низкий вклад разных фичей и сильный разброс на конкретных примерах."
   ]
  },
  {
   "cell_type": "markdown",
   "metadata": {},
   "source": [
    "## 4. Применение LIME"
   ]
  },
  {
   "cell_type": "markdown",
   "metadata": {},
   "source": [
    "### 4.1 Применить LIME к тем же моделям и тем же примерам, что и в предыдущем задании ( 4 картинки * 3 модели = 12 примеров). Получили ли вы похожее объяснения, что и в предыдущем примере? Если нет, можете ли вы это объяснить."
   ]
  },
  {
   "cell_type": "code",
   "execution_count": null,
   "metadata": {},
   "outputs": [],
   "source": [
    "import lime\n",
    "from lime import lime_tabular\n",
    "\n",
    "lime_explainer = lime_tabular.LimeTabularExplainer(X.values, feature_names=X.columns)                                                 categorical_names=categorical_names)\n",
    "\n",
    "n_explanations = 10"
   ]
  },
  {
   "cell_type": "markdown",
   "metadata": {},
   "source": [
    "__Catboost__"
   ]
  },
  {
   "cell_type": "code",
   "execution_count": null,
   "metadata": {},
   "outputs": [],
   "source": [
    "df_full = X.copy()\n",
    "df_full['y_pred'] = CB_model.predict(X)\n",
    "df_full['y_pred_proba'] = CB_model.predict_proba(X)[:, 1]\n",
    "df_full['y_true'] = y\n",
    "\n",
    "predict_fn = lambda x: CB_model.predict_proba(x)"
   ]
  },
  {
   "cell_type": "code",
   "execution_count": null,
   "metadata": {},
   "outputs": [],
   "source": [
    "# класс 0, модель правильно ответила\n",
    "\n",
    "ind = df_full[(df_full['y_true']==0)\n",
    "    &(df_full['y_true']==df_full['y_pred'])].index[0]\n",
    "\n",
    "exp = lime_explainer.explain_instance(X.iloc[ind], predict_fn, num_features=n_explanations)\n",
    "exp.show_in_notebook(show_all=False)"
   ]
  },
  {
   "cell_type": "code",
   "execution_count": null,
   "metadata": {},
   "outputs": [],
   "source": [
    "# класс 0, модель ошиблась\n",
    "\n",
    "ind = df_full[(df_full['y_true']==0)\n",
    "    &(df_full['y_true']!=df_full['y_pred'])].index[0]\n",
    "\n",
    "exp = lime_explainer.explain_instance(X.iloc[ind], predict_fn, num_features=n_explanations)\n",
    "exp.show_in_notebook(show_all=False)"
   ]
  },
  {
   "cell_type": "code",
   "execution_count": null,
   "metadata": {},
   "outputs": [],
   "source": [
    "# класс 1, модель правильно ответила\n",
    "\n",
    "ind = df_full[(df_full['y_true']==1)\n",
    "    &(df_full['y_true']==df_full['y_pred'])].index[0]\n",
    "\n",
    "exp = lime_explainer.explain_instance(X.iloc[ind], predict_fn, num_features=n_explanations)\n",
    "exp.show_in_notebook(show_all=False)"
   ]
  },
  {
   "cell_type": "code",
   "execution_count": null,
   "metadata": {},
   "outputs": [],
   "source": [
    "# класс 1, модель ошиблась\n",
    "\n",
    "ind = df_full[(df_full['y_true']==1)\n",
    "    &(df_full['y_true']!=df_full['y_pred'])].index[0]\n",
    "\n",
    "exp = lime_explainer.explain_instance(X.iloc[ind], predict_fn, num_features=n_explanations)\n",
    "exp.show_in_notebook(show_all=False)"
   ]
  },
  {
   "cell_type": "markdown",
   "metadata": {},
   "source": [
    "__Logistic Regression__"
   ]
  },
  {
   "cell_type": "code",
   "execution_count": null,
   "metadata": {},
   "outputs": [],
   "source": [
    "df_full = X.copy()\n",
    "df_full['y_pred'] = LR_model.predict(X)\n",
    "df_full['y_pred_proba'] = LR_model.predict_proba(X)[:, 1]\n",
    "df_full['y_true'] = y\n",
    "\n",
    "predict_fn = lambda x: LR_model.predict_proba(x)"
   ]
  },
  {
   "cell_type": "code",
   "execution_count": null,
   "metadata": {},
   "outputs": [],
   "source": [
    "# класс 0, модель правильно ответила\n",
    "\n",
    "ind = df_full[(df_full['y_true']==0)\n",
    "    &(df_full['y_true']==df_full['y_pred'])].index[0]\n",
    "\n",
    "exp = lime_explainer.explain_instance(X.iloc[ind], predict_fn, num_features=n_explanations)\n",
    "exp.show_in_notebook(show_all=False)"
   ]
  },
  {
   "cell_type": "code",
   "execution_count": null,
   "metadata": {},
   "outputs": [],
   "source": [
    "# класс 0, модель ошиблась\n",
    "\n",
    "ind = df_full[(df_full['y_true']==0)\n",
    "    &(df_full['y_true']!=df_full['y_pred'])].index[0]\n",
    "\n",
    "exp = lime_explainer.explain_instance(X.iloc[ind], predict_fn, num_features=n_explanations)\n",
    "exp.show_in_notebook(show_all=False)"
   ]
  },
  {
   "cell_type": "code",
   "execution_count": null,
   "metadata": {},
   "outputs": [],
   "source": [
    "# класс 1, модель правильно ответила\n",
    "\n",
    "ind = df_full[(df_full['y_true']==1)\n",
    "    &(df_full['y_true']==df_full['y_pred'])].index[0]\n",
    "\n",
    "exp = lime_explainer.explain_instance(X.iloc[ind], predict_fn, num_features=n_explanations)\n",
    "exp.show_in_notebook(show_all=False)"
   ]
  },
  {
   "cell_type": "code",
   "execution_count": null,
   "metadata": {},
   "outputs": [],
   "source": [
    "# класс 1, модель ошиблась\n",
    "\n",
    "ind = df_full[(df_full['y_true']==1)\n",
    "    &(df_full['y_true']!=df_full['y_pred'])].index[0]\n",
    "\n",
    "exp = lime_explainer.explain_instance(X.iloc[ind], predict_fn, num_features=n_explanations)\n",
    "exp.show_in_notebook(show_all=False)"
   ]
  },
  {
   "cell_type": "markdown",
   "metadata": {},
   "source": [
    "__SGD__"
   ]
  },
  {
   "cell_type": "code",
   "execution_count": null,
   "metadata": {},
   "outputs": [],
   "source": [
    "df_full = X.copy()\n",
    "df_full['y_pred'] = SGDClassifier_model.predict(X)\n",
    "df_full['y_pred_proba'] = SGDClassifier_model.predict_proba(X)[:, 1]\n",
    "df_full['y_true'] = y\n",
    "\n",
    "predict_fn = lambda x: SGDClassifier_model.predict_proba(x)"
   ]
  },
  {
   "cell_type": "code",
   "execution_count": null,
   "metadata": {},
   "outputs": [],
   "source": [
    "# класс 0, модель правильно ответила\n",
    "\n",
    "ind = df_full[(df_full['y_true']==0)\n",
    "    &(df_full['y_true']==df_full['y_pred'])].index[0]\n",
    "\n",
    "exp = lime_explainer.explain_instance(X.iloc[ind], predict_fn, num_features=n_explanations)\n",
    "exp.show_in_notebook(show_all=False)"
   ]
  },
  {
   "cell_type": "code",
   "execution_count": null,
   "metadata": {},
   "outputs": [],
   "source": [
    "# класс 0, модель ошиблась\n",
    "\n",
    "ind = df_full[(df_full['y_true']==0)\n",
    "    &(df_full['y_true']!=df_full['y_pred'])].index[0]\n",
    "\n",
    "exp = lime_explainer.explain_instance(X.iloc[ind], predict_fn, num_features=n_explanations)\n",
    "exp.show_in_notebook(show_all=False)"
   ]
  },
  {
   "cell_type": "code",
   "execution_count": null,
   "metadata": {},
   "outputs": [],
   "source": [
    "# класс 1, модель правильно ответила\n",
    "\n",
    "ind = df_full[(df_full['y_true']==1)\n",
    "    &(df_full['y_true']==df_full['y_pred'])].index[0]\n",
    "\n",
    "exp = lime_explainer.explain_instance(X.iloc[ind], predict_fn, num_features=n_explanations)\n",
    "exp.show_in_notebook(show_all=False)"
   ]
  },
  {
   "cell_type": "code",
   "execution_count": null,
   "metadata": {},
   "outputs": [],
   "source": [
    "# класс 1, модель ошиблась\n",
    "\n",
    "ind = df_full[(df_full['y_true']==1)\n",
    "    &(df_full['y_true']!=df_full['y_pred'])].index[0]\n",
    "\n",
    "exp = lime_explainer.explain_instance(X.iloc[ind], predict_fn, num_features=n_explanations)\n",
    "exp.show_in_notebook(show_all=False)"
   ]
  },
  {
   "cell_type": "markdown",
   "metadata": {},
   "source": [
    "__Вывод:__ Результаты по моделям оказались схожи с SHAP, но не идентичны. Различия могли получиться из-за разных подходов в алгоритмах."
   ]
  },
  {
   "cell_type": "markdown",
   "metadata": {},
   "source": [
    "### Вывод по первой части:  \n",
    "* Какие из ваших гипотез подтвердились?\n",
    "* Какие из результатов оказались ожидаемы?\n",
    "* Получили ли вы неожиданные результаты? Если да, можете ли вы их объяснить?"
   ]
  }
 ],
 "metadata": {
  "interpreter": {
   "hash": "2be5faf79681da6f2a61fdfdd5405d65d042280f7fba6178067603e3a2925119"
  },
  "kernelspec": {
   "display_name": "Python 3",
   "language": "python",
   "name": "python3"
  },
  "language_info": {
   "codemirror_mode": {
    "name": "ipython",
    "version": 3
   },
   "file_extension": ".py",
   "mimetype": "text/x-python",
   "name": "python",
   "nbconvert_exporter": "python",
   "pygments_lexer": "ipython3",
   "version": "3.7.6"
  }
 },
 "nbformat": 4,
 "nbformat_minor": 5
}
